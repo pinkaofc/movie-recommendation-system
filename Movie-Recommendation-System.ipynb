{
 "cells": [
  {
   "cell_type": "code",
   "execution_count": 11,
   "id": "410bf23c-142f-4554-8878-edbedc5610b8",
   "metadata": {},
   "outputs": [],
   "source": [
    "import numpy as np\n",
    "import pandas as pd\n"
   ]
  },
  {
   "cell_type": "code",
   "execution_count": 12,
   "id": "5ee81256-fe43-48d3-83dd-dc259e53e925",
   "metadata": {},
   "outputs": [],
   "source": [
    "movies= pd.read_csv(\"tmdb_5000_movies.csv\")\n",
    "credits= pd.read_csv(\"tmdb_5000_credits.csv\")"
   ]
  },
  {
   "cell_type": "code",
   "execution_count": 13,
   "id": "309b607a-b2b3-4174-8102-a7daac3e4f39",
   "metadata": {},
   "outputs": [
    {
     "data": {
      "text/html": [
       "<div>\n",
       "<style scoped>\n",
       "    .dataframe tbody tr th:only-of-type {\n",
       "        vertical-align: middle;\n",
       "    }\n",
       "\n",
       "    .dataframe tbody tr th {\n",
       "        vertical-align: top;\n",
       "    }\n",
       "\n",
       "    .dataframe thead th {\n",
       "        text-align: right;\n",
       "    }\n",
       "</style>\n",
       "<table border=\"1\" class=\"dataframe\">\n",
       "  <thead>\n",
       "    <tr style=\"text-align: right;\">\n",
       "      <th></th>\n",
       "      <th>budget</th>\n",
       "      <th>genres</th>\n",
       "      <th>homepage</th>\n",
       "      <th>id</th>\n",
       "      <th>keywords</th>\n",
       "      <th>original_language</th>\n",
       "      <th>original_title</th>\n",
       "      <th>overview</th>\n",
       "      <th>popularity</th>\n",
       "      <th>production_companies</th>\n",
       "      <th>production_countries</th>\n",
       "      <th>release_date</th>\n",
       "      <th>revenue</th>\n",
       "      <th>runtime</th>\n",
       "      <th>spoken_languages</th>\n",
       "      <th>status</th>\n",
       "      <th>tagline</th>\n",
       "      <th>title</th>\n",
       "      <th>vote_average</th>\n",
       "      <th>vote_count</th>\n",
       "    </tr>\n",
       "  </thead>\n",
       "  <tbody>\n",
       "    <tr>\n",
       "      <th>0</th>\n",
       "      <td>237000000</td>\n",
       "      <td>[{\"id\": 28, \"name\": \"Action\"}, {\"id\": 12, \"nam...</td>\n",
       "      <td>http://www.avatarmovie.com/</td>\n",
       "      <td>19995</td>\n",
       "      <td>[{\"id\": 1463, \"name\": \"culture clash\"}, {\"id\":...</td>\n",
       "      <td>en</td>\n",
       "      <td>Avatar</td>\n",
       "      <td>In the 22nd century, a paraplegic Marine is di...</td>\n",
       "      <td>150.437577</td>\n",
       "      <td>[{\"name\": \"Ingenious Film Partners\", \"id\": 289...</td>\n",
       "      <td>[{\"iso_3166_1\": \"US\", \"name\": \"United States o...</td>\n",
       "      <td>2009-12-10</td>\n",
       "      <td>2787965087</td>\n",
       "      <td>162.0</td>\n",
       "      <td>[{\"iso_639_1\": \"en\", \"name\": \"English\"}, {\"iso...</td>\n",
       "      <td>Released</td>\n",
       "      <td>Enter the World of Pandora.</td>\n",
       "      <td>Avatar</td>\n",
       "      <td>7.2</td>\n",
       "      <td>11800</td>\n",
       "    </tr>\n",
       "  </tbody>\n",
       "</table>\n",
       "</div>"
      ],
      "text/plain": [
       "      budget                                             genres  \\\n",
       "0  237000000  [{\"id\": 28, \"name\": \"Action\"}, {\"id\": 12, \"nam...   \n",
       "\n",
       "                      homepage     id  \\\n",
       "0  http://www.avatarmovie.com/  19995   \n",
       "\n",
       "                                            keywords original_language  \\\n",
       "0  [{\"id\": 1463, \"name\": \"culture clash\"}, {\"id\":...                en   \n",
       "\n",
       "  original_title                                           overview  \\\n",
       "0         Avatar  In the 22nd century, a paraplegic Marine is di...   \n",
       "\n",
       "   popularity                               production_companies  \\\n",
       "0  150.437577  [{\"name\": \"Ingenious Film Partners\", \"id\": 289...   \n",
       "\n",
       "                                production_countries release_date     revenue  \\\n",
       "0  [{\"iso_3166_1\": \"US\", \"name\": \"United States o...   2009-12-10  2787965087   \n",
       "\n",
       "   runtime                                   spoken_languages    status  \\\n",
       "0    162.0  [{\"iso_639_1\": \"en\", \"name\": \"English\"}, {\"iso...  Released   \n",
       "\n",
       "                       tagline   title  vote_average  vote_count  \n",
       "0  Enter the World of Pandora.  Avatar           7.2       11800  "
      ]
     },
     "execution_count": 13,
     "metadata": {},
     "output_type": "execute_result"
    }
   ],
   "source": [
    "movies.head(1)"
   ]
  },
  {
   "cell_type": "code",
   "execution_count": 14,
   "id": "e586c504-240f-46b5-8414-6c7b27f3f71f",
   "metadata": {},
   "outputs": [
    {
     "data": {
      "text/html": [
       "<div>\n",
       "<style scoped>\n",
       "    .dataframe tbody tr th:only-of-type {\n",
       "        vertical-align: middle;\n",
       "    }\n",
       "\n",
       "    .dataframe tbody tr th {\n",
       "        vertical-align: top;\n",
       "    }\n",
       "\n",
       "    .dataframe thead th {\n",
       "        text-align: right;\n",
       "    }\n",
       "</style>\n",
       "<table border=\"1\" class=\"dataframe\">\n",
       "  <thead>\n",
       "    <tr style=\"text-align: right;\">\n",
       "      <th></th>\n",
       "      <th>movie_id</th>\n",
       "      <th>title</th>\n",
       "      <th>cast</th>\n",
       "      <th>crew</th>\n",
       "    </tr>\n",
       "  </thead>\n",
       "  <tbody>\n",
       "    <tr>\n",
       "      <th>0</th>\n",
       "      <td>19995</td>\n",
       "      <td>Avatar</td>\n",
       "      <td>[{\"cast_id\": 242, \"character\": \"Jake Sully\", \"...</td>\n",
       "      <td>[{\"credit_id\": \"52fe48009251416c750aca23\", \"de...</td>\n",
       "    </tr>\n",
       "  </tbody>\n",
       "</table>\n",
       "</div>"
      ],
      "text/plain": [
       "   movie_id   title                                               cast  \\\n",
       "0     19995  Avatar  [{\"cast_id\": 242, \"character\": \"Jake Sully\", \"...   \n",
       "\n",
       "                                                crew  \n",
       "0  [{\"credit_id\": \"52fe48009251416c750aca23\", \"de...  "
      ]
     },
     "execution_count": 14,
     "metadata": {},
     "output_type": "execute_result"
    }
   ],
   "source": [
    "credits.head(1)"
   ]
  },
  {
   "cell_type": "code",
   "execution_count": 15,
   "id": "e493c5b8-a45f-4126-9bd6-d121de3b8bc1",
   "metadata": {},
   "outputs": [
    {
     "name": "stdout",
     "output_type": "stream",
     "text": [
      "         budget                                             genres  \\\n",
      "0     237000000  [{\"id\": 28, \"name\": \"Action\"}, {\"id\": 12, \"nam...   \n",
      "1     300000000  [{\"id\": 12, \"name\": \"Adventure\"}, {\"id\": 14, \"...   \n",
      "2     245000000  [{\"id\": 28, \"name\": \"Action\"}, {\"id\": 12, \"nam...   \n",
      "3     250000000  [{\"id\": 28, \"name\": \"Action\"}, {\"id\": 80, \"nam...   \n",
      "4     260000000  [{\"id\": 28, \"name\": \"Action\"}, {\"id\": 12, \"nam...   \n",
      "...         ...                                                ...   \n",
      "4798     220000  [{\"id\": 28, \"name\": \"Action\"}, {\"id\": 80, \"nam...   \n",
      "4799       9000  [{\"id\": 35, \"name\": \"Comedy\"}, {\"id\": 10749, \"...   \n",
      "4800          0  [{\"id\": 35, \"name\": \"Comedy\"}, {\"id\": 18, \"nam...   \n",
      "4801          0                                                 []   \n",
      "4802          0                [{\"id\": 99, \"name\": \"Documentary\"}]   \n",
      "\n",
      "                                               homepage      id  \\\n",
      "0                           http://www.avatarmovie.com/   19995   \n",
      "1          http://disney.go.com/disneypictures/pirates/     285   \n",
      "2           http://www.sonypictures.com/movies/spectre/  206647   \n",
      "3                    http://www.thedarkknightrises.com/   49026   \n",
      "4                  http://movies.disney.com/john-carter   49529   \n",
      "...                                                 ...     ...   \n",
      "4798                                                NaN    9367   \n",
      "4799                                                NaN   72766   \n",
      "4800  http://www.hallmarkchannel.com/signedsealeddel...  231617   \n",
      "4801                        http://shanghaicalling.com/  126186   \n",
      "4802                                                NaN   25975   \n",
      "\n",
      "                                               keywords original_language  \\\n",
      "0     [{\"id\": 1463, \"name\": \"culture clash\"}, {\"id\":...                en   \n",
      "1     [{\"id\": 270, \"name\": \"ocean\"}, {\"id\": 726, \"na...                en   \n",
      "2     [{\"id\": 470, \"name\": \"spy\"}, {\"id\": 818, \"name...                en   \n",
      "3     [{\"id\": 849, \"name\": \"dc comics\"}, {\"id\": 853,...                en   \n",
      "4     [{\"id\": 818, \"name\": \"based on novel\"}, {\"id\":...                en   \n",
      "...                                                 ...               ...   \n",
      "4798  [{\"id\": 5616, \"name\": \"united states\\u2013mexi...                es   \n",
      "4799                                                 []                en   \n",
      "4800  [{\"id\": 248, \"name\": \"date\"}, {\"id\": 699, \"nam...                en   \n",
      "4801                                                 []                en   \n",
      "4802  [{\"id\": 1523, \"name\": \"obsession\"}, {\"id\": 224...                en   \n",
      "\n",
      "                                original_title  \\\n",
      "0                                       Avatar   \n",
      "1     Pirates of the Caribbean: At World's End   \n",
      "2                                      Spectre   \n",
      "3                        The Dark Knight Rises   \n",
      "4                                  John Carter   \n",
      "...                                        ...   \n",
      "4798                               El Mariachi   \n",
      "4799                                 Newlyweds   \n",
      "4800                 Signed, Sealed, Delivered   \n",
      "4801                          Shanghai Calling   \n",
      "4802                         My Date with Drew   \n",
      "\n",
      "                                               overview  popularity  \\\n",
      "0     In the 22nd century, a paraplegic Marine is di...  150.437577   \n",
      "1     Captain Barbossa, long believed to be dead, ha...  139.082615   \n",
      "2     A cryptic message from Bond’s past sends him o...  107.376788   \n",
      "3     Following the death of District Attorney Harve...  112.312950   \n",
      "4     John Carter is a war-weary, former military ca...   43.926995   \n",
      "...                                                 ...         ...   \n",
      "4798  El Mariachi just wants to play his guitar and ...   14.269792   \n",
      "4799  A newlywed couple's honeymoon is upended by th...    0.642552   \n",
      "4800  \"Signed, Sealed, Delivered\" introduces a dedic...    1.444476   \n",
      "4801  When ambitious New York attorney Sam is sent t...    0.857008   \n",
      "4802  Ever since the second grade when he first saw ...    1.929883   \n",
      "\n",
      "                                   production_companies  \\\n",
      "0     [{\"name\": \"Ingenious Film Partners\", \"id\": 289...   \n",
      "1     [{\"name\": \"Walt Disney Pictures\", \"id\": 2}, {\"...   \n",
      "2     [{\"name\": \"Columbia Pictures\", \"id\": 5}, {\"nam...   \n",
      "3     [{\"name\": \"Legendary Pictures\", \"id\": 923}, {\"...   \n",
      "4           [{\"name\": \"Walt Disney Pictures\", \"id\": 2}]   \n",
      "...                                                 ...   \n",
      "4798           [{\"name\": \"Columbia Pictures\", \"id\": 5}]   \n",
      "4799                                                 []   \n",
      "4800  [{\"name\": \"Front Street Pictures\", \"id\": 3958}...   \n",
      "4801                                                 []   \n",
      "4802  [{\"name\": \"rusty bear entertainment\", \"id\": 87...   \n",
      "\n",
      "                                   production_countries release_date  \\\n",
      "0     [{\"iso_3166_1\": \"US\", \"name\": \"United States o...   2009-12-10   \n",
      "1     [{\"iso_3166_1\": \"US\", \"name\": \"United States o...   2007-05-19   \n",
      "2     [{\"iso_3166_1\": \"GB\", \"name\": \"United Kingdom\"...   2015-10-26   \n",
      "3     [{\"iso_3166_1\": \"US\", \"name\": \"United States o...   2012-07-16   \n",
      "4     [{\"iso_3166_1\": \"US\", \"name\": \"United States o...   2012-03-07   \n",
      "...                                                 ...          ...   \n",
      "4798  [{\"iso_3166_1\": \"MX\", \"name\": \"Mexico\"}, {\"iso...   1992-09-04   \n",
      "4799                                                 []   2011-12-26   \n",
      "4800  [{\"iso_3166_1\": \"US\", \"name\": \"United States o...   2013-10-13   \n",
      "4801  [{\"iso_3166_1\": \"US\", \"name\": \"United States o...   2012-05-03   \n",
      "4802  [{\"iso_3166_1\": \"US\", \"name\": \"United States o...   2005-08-05   \n",
      "\n",
      "         revenue  runtime                                   spoken_languages  \\\n",
      "0     2787965087    162.0  [{\"iso_639_1\": \"en\", \"name\": \"English\"}, {\"iso...   \n",
      "1      961000000    169.0           [{\"iso_639_1\": \"en\", \"name\": \"English\"}]   \n",
      "2      880674609    148.0  [{\"iso_639_1\": \"fr\", \"name\": \"Fran\\u00e7ais\"},...   \n",
      "3     1084939099    165.0           [{\"iso_639_1\": \"en\", \"name\": \"English\"}]   \n",
      "4      284139100    132.0           [{\"iso_639_1\": \"en\", \"name\": \"English\"}]   \n",
      "...          ...      ...                                                ...   \n",
      "4798     2040920     81.0      [{\"iso_639_1\": \"es\", \"name\": \"Espa\\u00f1ol\"}]   \n",
      "4799           0     85.0                                                 []   \n",
      "4800           0    120.0           [{\"iso_639_1\": \"en\", \"name\": \"English\"}]   \n",
      "4801           0     98.0           [{\"iso_639_1\": \"en\", \"name\": \"English\"}]   \n",
      "4802           0     90.0           [{\"iso_639_1\": \"en\", \"name\": \"English\"}]   \n",
      "\n",
      "        status                                            tagline  \\\n",
      "0     Released                        Enter the World of Pandora.   \n",
      "1     Released     At the end of the world, the adventure begins.   \n",
      "2     Released                              A Plan No One Escapes   \n",
      "3     Released                                    The Legend Ends   \n",
      "4     Released               Lost in our world, found in another.   \n",
      "...        ...                                                ...   \n",
      "4798  Released  He didn't come looking for trouble, but troubl...   \n",
      "4799  Released  A newlywed couple's honeymoon is upended by th...   \n",
      "4800  Released                                                NaN   \n",
      "4801  Released                           A New Yorker in Shanghai   \n",
      "4802  Released                                                NaN   \n",
      "\n",
      "                                         title  vote_average  vote_count  \n",
      "0                                       Avatar           7.2       11800  \n",
      "1     Pirates of the Caribbean: At World's End           6.9        4500  \n",
      "2                                      Spectre           6.3        4466  \n",
      "3                        The Dark Knight Rises           7.6        9106  \n",
      "4                                  John Carter           6.1        2124  \n",
      "...                                        ...           ...         ...  \n",
      "4798                               El Mariachi           6.6         238  \n",
      "4799                                 Newlyweds           5.9           5  \n",
      "4800                 Signed, Sealed, Delivered           7.0           6  \n",
      "4801                          Shanghai Calling           5.7           7  \n",
      "4802                         My Date with Drew           6.3          16  \n",
      "\n",
      "[4803 rows x 20 columns]\n"
     ]
    }
   ],
   "source": [
    "   movies = pd.read_csv(\"tmdb_5000_movies.csv\")\n",
    "   print(movies)"
   ]
  },
  {
   "cell_type": "code",
   "execution_count": 16,
   "id": "89216eae-dcf9-4d67-bb44-666fd5b98772",
   "metadata": {},
   "outputs": [],
   "source": [
    "merged_data = movies.merge(credits, on='title')"
   ]
  },
  {
   "cell_type": "code",
   "execution_count": 17,
   "id": "55afba84-30b8-4226-8064-92cf53274200",
   "metadata": {},
   "outputs": [
    {
     "name": "stdout",
     "output_type": "stream",
     "text": [
      "(4809, 23)\n",
      "      budget                                             genres  \\\n",
      "0  237000000  [{\"id\": 28, \"name\": \"Action\"}, {\"id\": 12, \"nam...   \n",
      "\n",
      "                      homepage     id  \\\n",
      "0  http://www.avatarmovie.com/  19995   \n",
      "\n",
      "                                            keywords original_language  \\\n",
      "0  [{\"id\": 1463, \"name\": \"culture clash\"}, {\"id\":...                en   \n",
      "\n",
      "  original_title                                           overview  \\\n",
      "0         Avatar  In the 22nd century, a paraplegic Marine is di...   \n",
      "\n",
      "   popularity                               production_companies  ... runtime  \\\n",
      "0  150.437577  [{\"name\": \"Ingenious Film Partners\", \"id\": 289...  ...   162.0   \n",
      "\n",
      "                                    spoken_languages    status  \\\n",
      "0  [{\"iso_639_1\": \"en\", \"name\": \"English\"}, {\"iso...  Released   \n",
      "\n",
      "                       tagline   title vote_average vote_count movie_id  \\\n",
      "0  Enter the World of Pandora.  Avatar          7.2      11800    19995   \n",
      "\n",
      "                                                cast  \\\n",
      "0  [{\"cast_id\": 242, \"character\": \"Jake Sully\", \"...   \n",
      "\n",
      "                                                crew  \n",
      "0  [{\"credit_id\": \"52fe48009251416c750aca23\", \"de...  \n",
      "\n",
      "[1 rows x 23 columns]\n"
     ]
    }
   ],
   "source": [
    "print(merged_data.shape)  # Print the shape of the merged DataFrame\n",
    "print(merged_data.head(1))"
   ]
  },
  {
   "cell_type": "code",
   "execution_count": 18,
   "id": "1fe8d1c5-552c-4197-8cb5-4bc89f460ee1",
   "metadata": {},
   "outputs": [
    {
     "data": {
      "text/html": [
       "<div>\n",
       "<style scoped>\n",
       "    .dataframe tbody tr th:only-of-type {\n",
       "        vertical-align: middle;\n",
       "    }\n",
       "\n",
       "    .dataframe tbody tr th {\n",
       "        vertical-align: top;\n",
       "    }\n",
       "\n",
       "    .dataframe thead th {\n",
       "        text-align: right;\n",
       "    }\n",
       "</style>\n",
       "<table border=\"1\" class=\"dataframe\">\n",
       "  <thead>\n",
       "    <tr style=\"text-align: right;\">\n",
       "      <th></th>\n",
       "      <th>budget</th>\n",
       "      <th>genres</th>\n",
       "      <th>homepage</th>\n",
       "      <th>id</th>\n",
       "      <th>keywords</th>\n",
       "      <th>original_language</th>\n",
       "      <th>original_title</th>\n",
       "      <th>overview</th>\n",
       "      <th>popularity</th>\n",
       "      <th>production_companies</th>\n",
       "      <th>...</th>\n",
       "      <th>runtime</th>\n",
       "      <th>spoken_languages</th>\n",
       "      <th>status</th>\n",
       "      <th>tagline</th>\n",
       "      <th>title</th>\n",
       "      <th>vote_average</th>\n",
       "      <th>vote_count</th>\n",
       "      <th>movie_id</th>\n",
       "      <th>cast</th>\n",
       "      <th>crew</th>\n",
       "    </tr>\n",
       "  </thead>\n",
       "  <tbody>\n",
       "    <tr>\n",
       "      <th>0</th>\n",
       "      <td>237000000</td>\n",
       "      <td>[{\"id\": 28, \"name\": \"Action\"}, {\"id\": 12, \"nam...</td>\n",
       "      <td>http://www.avatarmovie.com/</td>\n",
       "      <td>19995</td>\n",
       "      <td>[{\"id\": 1463, \"name\": \"culture clash\"}, {\"id\":...</td>\n",
       "      <td>en</td>\n",
       "      <td>Avatar</td>\n",
       "      <td>In the 22nd century, a paraplegic Marine is di...</td>\n",
       "      <td>150.437577</td>\n",
       "      <td>[{\"name\": \"Ingenious Film Partners\", \"id\": 289...</td>\n",
       "      <td>...</td>\n",
       "      <td>162.0</td>\n",
       "      <td>[{\"iso_639_1\": \"en\", \"name\": \"English\"}, {\"iso...</td>\n",
       "      <td>Released</td>\n",
       "      <td>Enter the World of Pandora.</td>\n",
       "      <td>Avatar</td>\n",
       "      <td>7.2</td>\n",
       "      <td>11800</td>\n",
       "      <td>19995</td>\n",
       "      <td>[{\"cast_id\": 242, \"character\": \"Jake Sully\", \"...</td>\n",
       "      <td>[{\"credit_id\": \"52fe48009251416c750aca23\", \"de...</td>\n",
       "    </tr>\n",
       "  </tbody>\n",
       "</table>\n",
       "<p>1 rows × 23 columns</p>\n",
       "</div>"
      ],
      "text/plain": [
       "      budget                                             genres  \\\n",
       "0  237000000  [{\"id\": 28, \"name\": \"Action\"}, {\"id\": 12, \"nam...   \n",
       "\n",
       "                      homepage     id  \\\n",
       "0  http://www.avatarmovie.com/  19995   \n",
       "\n",
       "                                            keywords original_language  \\\n",
       "0  [{\"id\": 1463, \"name\": \"culture clash\"}, {\"id\":...                en   \n",
       "\n",
       "  original_title                                           overview  \\\n",
       "0         Avatar  In the 22nd century, a paraplegic Marine is di...   \n",
       "\n",
       "   popularity                               production_companies  ... runtime  \\\n",
       "0  150.437577  [{\"name\": \"Ingenious Film Partners\", \"id\": 289...  ...   162.0   \n",
       "\n",
       "                                    spoken_languages    status  \\\n",
       "0  [{\"iso_639_1\": \"en\", \"name\": \"English\"}, {\"iso...  Released   \n",
       "\n",
       "                       tagline   title vote_average vote_count movie_id  \\\n",
       "0  Enter the World of Pandora.  Avatar          7.2      11800    19995   \n",
       "\n",
       "                                                cast  \\\n",
       "0  [{\"cast_id\": 242, \"character\": \"Jake Sully\", \"...   \n",
       "\n",
       "                                                crew  \n",
       "0  [{\"credit_id\": \"52fe48009251416c750aca23\", \"de...  \n",
       "\n",
       "[1 rows x 23 columns]"
      ]
     },
     "execution_count": 18,
     "metadata": {},
     "output_type": "execute_result"
    }
   ],
   "source": [
    "merged_data.head(1)"
   ]
  },
  {
   "cell_type": "code",
   "execution_count": 19,
   "id": "1d5a19ed-189a-43f9-bbf8-dec87519e049",
   "metadata": {},
   "outputs": [],
   "source": [
    "# generes\n",
    "#id\n",
    "#keywords\n",
    "#title\n",
    "#overview\n",
    "#cast\n",
    "#crew\n",
    "movie =merged_data[['movie_id','title','overview','genres','keywords','cast','crew']]"
   ]
  },
  {
   "cell_type": "code",
   "execution_count": 20,
   "id": "58be867e-a376-47cf-9001-7035eda2db8c",
   "metadata": {},
   "outputs": [
    {
     "name": "stdout",
     "output_type": "stream",
     "text": [
      "<class 'pandas.core.frame.DataFrame'>\n",
      "RangeIndex: 4809 entries, 0 to 4808\n",
      "Data columns (total 23 columns):\n",
      " #   Column                Non-Null Count  Dtype  \n",
      "---  ------                --------------  -----  \n",
      " 0   budget                4809 non-null   int64  \n",
      " 1   genres                4809 non-null   object \n",
      " 2   homepage              1713 non-null   object \n",
      " 3   id                    4809 non-null   int64  \n",
      " 4   keywords              4809 non-null   object \n",
      " 5   original_language     4809 non-null   object \n",
      " 6   original_title        4809 non-null   object \n",
      " 7   overview              4806 non-null   object \n",
      " 8   popularity            4809 non-null   float64\n",
      " 9   production_companies  4809 non-null   object \n",
      " 10  production_countries  4809 non-null   object \n",
      " 11  release_date          4808 non-null   object \n",
      " 12  revenue               4809 non-null   int64  \n",
      " 13  runtime               4807 non-null   float64\n",
      " 14  spoken_languages      4809 non-null   object \n",
      " 15  status                4809 non-null   object \n",
      " 16  tagline               3965 non-null   object \n",
      " 17  title                 4809 non-null   object \n",
      " 18  vote_average          4809 non-null   float64\n",
      " 19  vote_count            4809 non-null   int64  \n",
      " 20  movie_id              4809 non-null   int64  \n",
      " 21  cast                  4809 non-null   object \n",
      " 22  crew                  4809 non-null   object \n",
      "dtypes: float64(3), int64(5), object(15)\n",
      "memory usage: 864.2+ KB\n"
     ]
    }
   ],
   "source": [
    "merged_data.info()"
   ]
  },
  {
   "cell_type": "code",
   "execution_count": 21,
   "id": "815a2b4f-8208-4186-851d-8e53974417b7",
   "metadata": {},
   "outputs": [
    {
     "data": {
      "text/html": [
       "<div>\n",
       "<style scoped>\n",
       "    .dataframe tbody tr th:only-of-type {\n",
       "        vertical-align: middle;\n",
       "    }\n",
       "\n",
       "    .dataframe tbody tr th {\n",
       "        vertical-align: top;\n",
       "    }\n",
       "\n",
       "    .dataframe thead th {\n",
       "        text-align: right;\n",
       "    }\n",
       "</style>\n",
       "<table border=\"1\" class=\"dataframe\">\n",
       "  <thead>\n",
       "    <tr style=\"text-align: right;\">\n",
       "      <th></th>\n",
       "      <th>movie_id</th>\n",
       "      <th>title</th>\n",
       "      <th>overview</th>\n",
       "      <th>genres</th>\n",
       "      <th>keywords</th>\n",
       "      <th>cast</th>\n",
       "      <th>crew</th>\n",
       "    </tr>\n",
       "  </thead>\n",
       "  <tbody>\n",
       "    <tr>\n",
       "      <th>0</th>\n",
       "      <td>19995</td>\n",
       "      <td>Avatar</td>\n",
       "      <td>In the 22nd century, a paraplegic Marine is di...</td>\n",
       "      <td>[{\"id\": 28, \"name\": \"Action\"}, {\"id\": 12, \"nam...</td>\n",
       "      <td>[{\"id\": 1463, \"name\": \"culture clash\"}, {\"id\":...</td>\n",
       "      <td>[{\"cast_id\": 242, \"character\": \"Jake Sully\", \"...</td>\n",
       "      <td>[{\"credit_id\": \"52fe48009251416c750aca23\", \"de...</td>\n",
       "    </tr>\n",
       "    <tr>\n",
       "      <th>1</th>\n",
       "      <td>285</td>\n",
       "      <td>Pirates of the Caribbean: At World's End</td>\n",
       "      <td>Captain Barbossa, long believed to be dead, ha...</td>\n",
       "      <td>[{\"id\": 12, \"name\": \"Adventure\"}, {\"id\": 14, \"...</td>\n",
       "      <td>[{\"id\": 270, \"name\": \"ocean\"}, {\"id\": 726, \"na...</td>\n",
       "      <td>[{\"cast_id\": 4, \"character\": \"Captain Jack Spa...</td>\n",
       "      <td>[{\"credit_id\": \"52fe4232c3a36847f800b579\", \"de...</td>\n",
       "    </tr>\n",
       "    <tr>\n",
       "      <th>2</th>\n",
       "      <td>206647</td>\n",
       "      <td>Spectre</td>\n",
       "      <td>A cryptic message from Bond’s past sends him o...</td>\n",
       "      <td>[{\"id\": 28, \"name\": \"Action\"}, {\"id\": 12, \"nam...</td>\n",
       "      <td>[{\"id\": 470, \"name\": \"spy\"}, {\"id\": 818, \"name...</td>\n",
       "      <td>[{\"cast_id\": 1, \"character\": \"James Bond\", \"cr...</td>\n",
       "      <td>[{\"credit_id\": \"54805967c3a36829b5002c41\", \"de...</td>\n",
       "    </tr>\n",
       "    <tr>\n",
       "      <th>3</th>\n",
       "      <td>49026</td>\n",
       "      <td>The Dark Knight Rises</td>\n",
       "      <td>Following the death of District Attorney Harve...</td>\n",
       "      <td>[{\"id\": 28, \"name\": \"Action\"}, {\"id\": 80, \"nam...</td>\n",
       "      <td>[{\"id\": 849, \"name\": \"dc comics\"}, {\"id\": 853,...</td>\n",
       "      <td>[{\"cast_id\": 2, \"character\": \"Bruce Wayne / Ba...</td>\n",
       "      <td>[{\"credit_id\": \"52fe4781c3a36847f81398c3\", \"de...</td>\n",
       "    </tr>\n",
       "    <tr>\n",
       "      <th>4</th>\n",
       "      <td>49529</td>\n",
       "      <td>John Carter</td>\n",
       "      <td>John Carter is a war-weary, former military ca...</td>\n",
       "      <td>[{\"id\": 28, \"name\": \"Action\"}, {\"id\": 12, \"nam...</td>\n",
       "      <td>[{\"id\": 818, \"name\": \"based on novel\"}, {\"id\":...</td>\n",
       "      <td>[{\"cast_id\": 5, \"character\": \"John Carter\", \"c...</td>\n",
       "      <td>[{\"credit_id\": \"52fe479ac3a36847f813eaa3\", \"de...</td>\n",
       "    </tr>\n",
       "  </tbody>\n",
       "</table>\n",
       "</div>"
      ],
      "text/plain": [
       "   movie_id                                     title  \\\n",
       "0     19995                                    Avatar   \n",
       "1       285  Pirates of the Caribbean: At World's End   \n",
       "2    206647                                   Spectre   \n",
       "3     49026                     The Dark Knight Rises   \n",
       "4     49529                               John Carter   \n",
       "\n",
       "                                            overview  \\\n",
       "0  In the 22nd century, a paraplegic Marine is di...   \n",
       "1  Captain Barbossa, long believed to be dead, ha...   \n",
       "2  A cryptic message from Bond’s past sends him o...   \n",
       "3  Following the death of District Attorney Harve...   \n",
       "4  John Carter is a war-weary, former military ca...   \n",
       "\n",
       "                                              genres  \\\n",
       "0  [{\"id\": 28, \"name\": \"Action\"}, {\"id\": 12, \"nam...   \n",
       "1  [{\"id\": 12, \"name\": \"Adventure\"}, {\"id\": 14, \"...   \n",
       "2  [{\"id\": 28, \"name\": \"Action\"}, {\"id\": 12, \"nam...   \n",
       "3  [{\"id\": 28, \"name\": \"Action\"}, {\"id\": 80, \"nam...   \n",
       "4  [{\"id\": 28, \"name\": \"Action\"}, {\"id\": 12, \"nam...   \n",
       "\n",
       "                                            keywords  \\\n",
       "0  [{\"id\": 1463, \"name\": \"culture clash\"}, {\"id\":...   \n",
       "1  [{\"id\": 270, \"name\": \"ocean\"}, {\"id\": 726, \"na...   \n",
       "2  [{\"id\": 470, \"name\": \"spy\"}, {\"id\": 818, \"name...   \n",
       "3  [{\"id\": 849, \"name\": \"dc comics\"}, {\"id\": 853,...   \n",
       "4  [{\"id\": 818, \"name\": \"based on novel\"}, {\"id\":...   \n",
       "\n",
       "                                                cast  \\\n",
       "0  [{\"cast_id\": 242, \"character\": \"Jake Sully\", \"...   \n",
       "1  [{\"cast_id\": 4, \"character\": \"Captain Jack Spa...   \n",
       "2  [{\"cast_id\": 1, \"character\": \"James Bond\", \"cr...   \n",
       "3  [{\"cast_id\": 2, \"character\": \"Bruce Wayne / Ba...   \n",
       "4  [{\"cast_id\": 5, \"character\": \"John Carter\", \"c...   \n",
       "\n",
       "                                                crew  \n",
       "0  [{\"credit_id\": \"52fe48009251416c750aca23\", \"de...  \n",
       "1  [{\"credit_id\": \"52fe4232c3a36847f800b579\", \"de...  \n",
       "2  [{\"credit_id\": \"54805967c3a36829b5002c41\", \"de...  \n",
       "3  [{\"credit_id\": \"52fe4781c3a36847f81398c3\", \"de...  \n",
       "4  [{\"credit_id\": \"52fe479ac3a36847f813eaa3\", \"de...  "
      ]
     },
     "execution_count": 21,
     "metadata": {},
     "output_type": "execute_result"
    }
   ],
   "source": [
    "movie.head()"
   ]
  },
  {
   "cell_type": "code",
   "execution_count": 22,
   "id": "b2c8cfaa-33d8-47cd-9ec2-71fc2ac42af2",
   "metadata": {},
   "outputs": [
    {
     "data": {
      "text/plain": [
       "movie_id    0\n",
       "title       0\n",
       "overview    3\n",
       "genres      0\n",
       "keywords    0\n",
       "cast        0\n",
       "crew        0\n",
       "dtype: int64"
      ]
     },
     "execution_count": 22,
     "metadata": {},
     "output_type": "execute_result"
    }
   ],
   "source": [
    "movie.isnull().sum()"
   ]
  },
  {
   "cell_type": "code",
   "execution_count": 23,
   "id": "0bdea9c8-1aa7-4442-af5e-3bd4ed7d5673",
   "metadata": {},
   "outputs": [],
   "source": [
    "movie.dropna(inplace=True)"
   ]
  },
  {
   "cell_type": "code",
   "execution_count": 24,
   "id": "9c4bbbbc-a073-4248-869f-c68649542e82",
   "metadata": {},
   "outputs": [
    {
     "data": {
      "text/plain": [
       "movie_id    0\n",
       "title       0\n",
       "overview    0\n",
       "genres      0\n",
       "keywords    0\n",
       "cast        0\n",
       "crew        0\n",
       "dtype: int64"
      ]
     },
     "execution_count": 24,
     "metadata": {},
     "output_type": "execute_result"
    }
   ],
   "source": [
    "movie.isnull().sum()"
   ]
  },
  {
   "cell_type": "code",
   "execution_count": 25,
   "id": "e042a4f0-934e-4873-812d-150c58040429",
   "metadata": {},
   "outputs": [
    {
     "data": {
      "text/plain": [
       "np.int64(0)"
      ]
     },
     "execution_count": 25,
     "metadata": {},
     "output_type": "execute_result"
    }
   ],
   "source": [
    "movie.duplicated().sum()"
   ]
  },
  {
   "cell_type": "code",
   "execution_count": 26,
   "id": "6536f8b0-1341-4e86-a101-8b33e3f10491",
   "metadata": {},
   "outputs": [
    {
     "data": {
      "text/plain": [
       "'[{\"id\": 28, \"name\": \"Action\"}, {\"id\": 12, \"name\": \"Adventure\"}, {\"id\": 14, \"name\": \"Fantasy\"}, {\"id\": 878, \"name\": \"Science Fiction\"}]'"
      ]
     },
     "execution_count": 26,
     "metadata": {},
     "output_type": "execute_result"
    }
   ],
   "source": [
    "movie.iloc[0].genres"
   ]
  },
  {
   "cell_type": "code",
   "execution_count": 27,
   "id": "0ecda137-8c85-4608-ae2c-2d9ba4db3d04",
   "metadata": {},
   "outputs": [],
   "source": [
    "def convert(obj):\n",
    "    L = []\n",
    "    for i in ast.literal_eval(obj):\n",
    "        L.append(i['name'])\n",
    "    return "
   ]
  },
  {
   "cell_type": "code",
   "execution_count": 28,
   "id": "c6e13ed8-7e46-40e9-a325-01bb71703c03",
   "metadata": {},
   "outputs": [
    {
     "ename": "NameError",
     "evalue": "name 'ast' is not defined",
     "output_type": "error",
     "traceback": [
      "\u001b[1;31m---------------------------------------------------------------------------\u001b[0m",
      "\u001b[1;31mNameError\u001b[0m                                 Traceback (most recent call last)",
      "Cell \u001b[1;32mIn[28], line 1\u001b[0m\n\u001b[1;32m----> 1\u001b[0m result \u001b[38;5;241m=\u001b[39m \u001b[43mconvert\u001b[49m\u001b[43m(\u001b[49m\u001b[38;5;124;43m'\u001b[39;49m\u001b[38;5;124;43m[\u001b[39;49m\u001b[38;5;124;43m{\u001b[39;49m\u001b[38;5;124;43m\"\u001b[39;49m\u001b[38;5;124;43mid\u001b[39;49m\u001b[38;5;124;43m\"\u001b[39;49m\u001b[38;5;124;43m: 28, \u001b[39;49m\u001b[38;5;124;43m\"\u001b[39;49m\u001b[38;5;124;43mname\u001b[39;49m\u001b[38;5;124;43m\"\u001b[39;49m\u001b[38;5;124;43m: \u001b[39;49m\u001b[38;5;124;43m\"\u001b[39;49m\u001b[38;5;124;43mAction\u001b[39;49m\u001b[38;5;124;43m\"\u001b[39;49m\u001b[38;5;124;43m}, \u001b[39;49m\u001b[38;5;124;43m{\u001b[39;49m\u001b[38;5;124;43m\"\u001b[39;49m\u001b[38;5;124;43mid\u001b[39;49m\u001b[38;5;124;43m\"\u001b[39;49m\u001b[38;5;124;43m: 12, \u001b[39;49m\u001b[38;5;124;43m\"\u001b[39;49m\u001b[38;5;124;43mname\u001b[39;49m\u001b[38;5;124;43m\"\u001b[39;49m\u001b[38;5;124;43m: \u001b[39;49m\u001b[38;5;124;43m\"\u001b[39;49m\u001b[38;5;124;43mAdventure\u001b[39;49m\u001b[38;5;124;43m\"\u001b[39;49m\u001b[38;5;124;43m}, \u001b[39;49m\u001b[38;5;124;43m{\u001b[39;49m\u001b[38;5;124;43m\"\u001b[39;49m\u001b[38;5;124;43mid\u001b[39;49m\u001b[38;5;124;43m\"\u001b[39;49m\u001b[38;5;124;43m: 14, \u001b[39;49m\u001b[38;5;124;43m\"\u001b[39;49m\u001b[38;5;124;43mname\u001b[39;49m\u001b[38;5;124;43m\"\u001b[39;49m\u001b[38;5;124;43m: \u001b[39;49m\u001b[38;5;124;43m\"\u001b[39;49m\u001b[38;5;124;43mFantasy\u001b[39;49m\u001b[38;5;124;43m\"\u001b[39;49m\u001b[38;5;124;43m}, \u001b[39;49m\u001b[38;5;124;43m{\u001b[39;49m\u001b[38;5;124;43m\"\u001b[39;49m\u001b[38;5;124;43mid\u001b[39;49m\u001b[38;5;124;43m\"\u001b[39;49m\u001b[38;5;124;43m: 878, \u001b[39;49m\u001b[38;5;124;43m\"\u001b[39;49m\u001b[38;5;124;43mname\u001b[39;49m\u001b[38;5;124;43m\"\u001b[39;49m\u001b[38;5;124;43m: \u001b[39;49m\u001b[38;5;124;43m\"\u001b[39;49m\u001b[38;5;124;43mScience Fiction\u001b[39;49m\u001b[38;5;124;43m\"\u001b[39;49m\u001b[38;5;124;43m}]\u001b[39;49m\u001b[38;5;124;43m'\u001b[39;49m\u001b[43m)\u001b[49m\n\u001b[0;32m      2\u001b[0m \u001b[38;5;28mprint\u001b[39m(result)\n",
      "Cell \u001b[1;32mIn[27], line 3\u001b[0m, in \u001b[0;36mconvert\u001b[1;34m(obj)\u001b[0m\n\u001b[0;32m      1\u001b[0m \u001b[38;5;28;01mdef\u001b[39;00m\u001b[38;5;250m \u001b[39m\u001b[38;5;21mconvert\u001b[39m(obj):\n\u001b[0;32m      2\u001b[0m     L \u001b[38;5;241m=\u001b[39m []\n\u001b[1;32m----> 3\u001b[0m     \u001b[38;5;28;01mfor\u001b[39;00m i \u001b[38;5;129;01min\u001b[39;00m \u001b[43mast\u001b[49m\u001b[38;5;241m.\u001b[39mliteral_eval(obj):\n\u001b[0;32m      4\u001b[0m         L\u001b[38;5;241m.\u001b[39mappend(i[\u001b[38;5;124m'\u001b[39m\u001b[38;5;124mname\u001b[39m\u001b[38;5;124m'\u001b[39m])\n\u001b[0;32m      5\u001b[0m     \u001b[38;5;28;01mreturn\u001b[39;00m\n",
      "\u001b[1;31mNameError\u001b[0m: name 'ast' is not defined"
     ]
    }
   ],
   "source": [
    "result = convert('[{\"id\": 28, \"name\": \"Action\"}, {\"id\": 12, \"name\": \"Adventure\"}, {\"id\": 14, \"name\": \"Fantasy\"}, {\"id\": 878, \"name\": \"Science Fiction\"}]')\n",
    "print(result)"
   ]
  },
  {
   "cell_type": "code",
   "execution_count": 29,
   "id": "9423ee5f-3ad5-4c05-8b76-fb9903eec910",
   "metadata": {},
   "outputs": [
    {
     "ename": "NameError",
     "evalue": "name 'ast' is not defined",
     "output_type": "error",
     "traceback": [
      "\u001b[1;31m---------------------------------------------------------------------------\u001b[0m",
      "\u001b[1;31mNameError\u001b[0m                                 Traceback (most recent call last)",
      "Cell \u001b[1;32mIn[29], line 1\u001b[0m\n\u001b[1;32m----> 1\u001b[0m movie[\u001b[38;5;124m'\u001b[39m\u001b[38;5;124mgenres\u001b[39m\u001b[38;5;124m'\u001b[39m]\u001b[38;5;241m=\u001b[39m\u001b[43mmovie\u001b[49m\u001b[43m[\u001b[49m\u001b[38;5;124;43m'\u001b[39;49m\u001b[38;5;124;43mgenres\u001b[39;49m\u001b[38;5;124;43m'\u001b[39;49m\u001b[43m]\u001b[49m\u001b[38;5;241;43m.\u001b[39;49m\u001b[43mapply\u001b[49m\u001b[43m(\u001b[49m\u001b[43mconvert\u001b[49m\u001b[43m)\u001b[49m\n",
      "File \u001b[1;32m~\\AppData\\Roaming\\Python\\Python310\\site-packages\\pandas\\core\\series.py:4935\u001b[0m, in \u001b[0;36mSeries.apply\u001b[1;34m(self, func, convert_dtype, args, by_row, **kwargs)\u001b[0m\n\u001b[0;32m   4800\u001b[0m \u001b[38;5;28;01mdef\u001b[39;00m\u001b[38;5;250m \u001b[39m\u001b[38;5;21mapply\u001b[39m(\n\u001b[0;32m   4801\u001b[0m     \u001b[38;5;28mself\u001b[39m,\n\u001b[0;32m   4802\u001b[0m     func: AggFuncType,\n\u001b[1;32m   (...)\u001b[0m\n\u001b[0;32m   4807\u001b[0m     \u001b[38;5;241m*\u001b[39m\u001b[38;5;241m*\u001b[39mkwargs,\n\u001b[0;32m   4808\u001b[0m ) \u001b[38;5;241m-\u001b[39m\u001b[38;5;241m>\u001b[39m DataFrame \u001b[38;5;241m|\u001b[39m Series:\n\u001b[0;32m   4809\u001b[0m \u001b[38;5;250m    \u001b[39m\u001b[38;5;124;03m\"\"\"\u001b[39;00m\n\u001b[0;32m   4810\u001b[0m \u001b[38;5;124;03m    Invoke function on values of Series.\u001b[39;00m\n\u001b[0;32m   4811\u001b[0m \n\u001b[1;32m   (...)\u001b[0m\n\u001b[0;32m   4926\u001b[0m \u001b[38;5;124;03m    dtype: float64\u001b[39;00m\n\u001b[0;32m   4927\u001b[0m \u001b[38;5;124;03m    \"\"\"\u001b[39;00m\n\u001b[0;32m   4928\u001b[0m     \u001b[38;5;28;01mreturn\u001b[39;00m \u001b[43mSeriesApply\u001b[49m\u001b[43m(\u001b[49m\n\u001b[0;32m   4929\u001b[0m \u001b[43m        \u001b[49m\u001b[38;5;28;43mself\u001b[39;49m\u001b[43m,\u001b[49m\n\u001b[0;32m   4930\u001b[0m \u001b[43m        \u001b[49m\u001b[43mfunc\u001b[49m\u001b[43m,\u001b[49m\n\u001b[0;32m   4931\u001b[0m \u001b[43m        \u001b[49m\u001b[43mconvert_dtype\u001b[49m\u001b[38;5;241;43m=\u001b[39;49m\u001b[43mconvert_dtype\u001b[49m\u001b[43m,\u001b[49m\n\u001b[0;32m   4932\u001b[0m \u001b[43m        \u001b[49m\u001b[43mby_row\u001b[49m\u001b[38;5;241;43m=\u001b[39;49m\u001b[43mby_row\u001b[49m\u001b[43m,\u001b[49m\n\u001b[0;32m   4933\u001b[0m \u001b[43m        \u001b[49m\u001b[43margs\u001b[49m\u001b[38;5;241;43m=\u001b[39;49m\u001b[43margs\u001b[49m\u001b[43m,\u001b[49m\n\u001b[0;32m   4934\u001b[0m \u001b[43m        \u001b[49m\u001b[43mkwargs\u001b[49m\u001b[38;5;241;43m=\u001b[39;49m\u001b[43mkwargs\u001b[49m\u001b[43m,\u001b[49m\n\u001b[1;32m-> 4935\u001b[0m \u001b[43m    \u001b[49m\u001b[43m)\u001b[49m\u001b[38;5;241;43m.\u001b[39;49m\u001b[43mapply\u001b[49m\u001b[43m(\u001b[49m\u001b[43m)\u001b[49m\n",
      "File \u001b[1;32m~\\AppData\\Roaming\\Python\\Python310\\site-packages\\pandas\\core\\apply.py:1422\u001b[0m, in \u001b[0;36mSeriesApply.apply\u001b[1;34m(self)\u001b[0m\n\u001b[0;32m   1419\u001b[0m     \u001b[38;5;28;01mreturn\u001b[39;00m \u001b[38;5;28mself\u001b[39m\u001b[38;5;241m.\u001b[39mapply_compat()\n\u001b[0;32m   1421\u001b[0m \u001b[38;5;66;03m# self.func is Callable\u001b[39;00m\n\u001b[1;32m-> 1422\u001b[0m \u001b[38;5;28;01mreturn\u001b[39;00m \u001b[38;5;28;43mself\u001b[39;49m\u001b[38;5;241;43m.\u001b[39;49m\u001b[43mapply_standard\u001b[49m\u001b[43m(\u001b[49m\u001b[43m)\u001b[49m\n",
      "File \u001b[1;32m~\\AppData\\Roaming\\Python\\Python310\\site-packages\\pandas\\core\\apply.py:1502\u001b[0m, in \u001b[0;36mSeriesApply.apply_standard\u001b[1;34m(self)\u001b[0m\n\u001b[0;32m   1496\u001b[0m \u001b[38;5;66;03m# row-wise access\u001b[39;00m\n\u001b[0;32m   1497\u001b[0m \u001b[38;5;66;03m# apply doesn't have a `na_action` keyword and for backward compat reasons\u001b[39;00m\n\u001b[0;32m   1498\u001b[0m \u001b[38;5;66;03m# we need to give `na_action=\"ignore\"` for categorical data.\u001b[39;00m\n\u001b[0;32m   1499\u001b[0m \u001b[38;5;66;03m# TODO: remove the `na_action=\"ignore\"` when that default has been changed in\u001b[39;00m\n\u001b[0;32m   1500\u001b[0m \u001b[38;5;66;03m#  Categorical (GH51645).\u001b[39;00m\n\u001b[0;32m   1501\u001b[0m action \u001b[38;5;241m=\u001b[39m \u001b[38;5;124m\"\u001b[39m\u001b[38;5;124mignore\u001b[39m\u001b[38;5;124m\"\u001b[39m \u001b[38;5;28;01mif\u001b[39;00m \u001b[38;5;28misinstance\u001b[39m(obj\u001b[38;5;241m.\u001b[39mdtype, CategoricalDtype) \u001b[38;5;28;01melse\u001b[39;00m \u001b[38;5;28;01mNone\u001b[39;00m\n\u001b[1;32m-> 1502\u001b[0m mapped \u001b[38;5;241m=\u001b[39m \u001b[43mobj\u001b[49m\u001b[38;5;241;43m.\u001b[39;49m\u001b[43m_map_values\u001b[49m\u001b[43m(\u001b[49m\n\u001b[0;32m   1503\u001b[0m \u001b[43m    \u001b[49m\u001b[43mmapper\u001b[49m\u001b[38;5;241;43m=\u001b[39;49m\u001b[43mcurried\u001b[49m\u001b[43m,\u001b[49m\u001b[43m \u001b[49m\u001b[43mna_action\u001b[49m\u001b[38;5;241;43m=\u001b[39;49m\u001b[43maction\u001b[49m\u001b[43m,\u001b[49m\u001b[43m \u001b[49m\u001b[43mconvert\u001b[49m\u001b[38;5;241;43m=\u001b[39;49m\u001b[38;5;28;43mself\u001b[39;49m\u001b[38;5;241;43m.\u001b[39;49m\u001b[43mconvert_dtype\u001b[49m\n\u001b[0;32m   1504\u001b[0m \u001b[43m\u001b[49m\u001b[43m)\u001b[49m\n\u001b[0;32m   1506\u001b[0m \u001b[38;5;28;01mif\u001b[39;00m \u001b[38;5;28mlen\u001b[39m(mapped) \u001b[38;5;129;01mand\u001b[39;00m \u001b[38;5;28misinstance\u001b[39m(mapped[\u001b[38;5;241m0\u001b[39m], ABCSeries):\n\u001b[0;32m   1507\u001b[0m     \u001b[38;5;66;03m# GH#43986 Need to do list(mapped) in order to get treated as nested\u001b[39;00m\n\u001b[0;32m   1508\u001b[0m     \u001b[38;5;66;03m#  See also GH#25959 regarding EA support\u001b[39;00m\n\u001b[0;32m   1509\u001b[0m     \u001b[38;5;28;01mreturn\u001b[39;00m obj\u001b[38;5;241m.\u001b[39m_constructor_expanddim(\u001b[38;5;28mlist\u001b[39m(mapped), index\u001b[38;5;241m=\u001b[39mobj\u001b[38;5;241m.\u001b[39mindex)\n",
      "File \u001b[1;32m~\\AppData\\Roaming\\Python\\Python310\\site-packages\\pandas\\core\\base.py:925\u001b[0m, in \u001b[0;36mIndexOpsMixin._map_values\u001b[1;34m(self, mapper, na_action, convert)\u001b[0m\n\u001b[0;32m    922\u001b[0m \u001b[38;5;28;01mif\u001b[39;00m \u001b[38;5;28misinstance\u001b[39m(arr, ExtensionArray):\n\u001b[0;32m    923\u001b[0m     \u001b[38;5;28;01mreturn\u001b[39;00m arr\u001b[38;5;241m.\u001b[39mmap(mapper, na_action\u001b[38;5;241m=\u001b[39mna_action)\n\u001b[1;32m--> 925\u001b[0m \u001b[38;5;28;01mreturn\u001b[39;00m \u001b[43malgorithms\u001b[49m\u001b[38;5;241;43m.\u001b[39;49m\u001b[43mmap_array\u001b[49m\u001b[43m(\u001b[49m\u001b[43marr\u001b[49m\u001b[43m,\u001b[49m\u001b[43m \u001b[49m\u001b[43mmapper\u001b[49m\u001b[43m,\u001b[49m\u001b[43m \u001b[49m\u001b[43mna_action\u001b[49m\u001b[38;5;241;43m=\u001b[39;49m\u001b[43mna_action\u001b[49m\u001b[43m,\u001b[49m\u001b[43m \u001b[49m\u001b[43mconvert\u001b[49m\u001b[38;5;241;43m=\u001b[39;49m\u001b[43mconvert\u001b[49m\u001b[43m)\u001b[49m\n",
      "File \u001b[1;32m~\\AppData\\Roaming\\Python\\Python310\\site-packages\\pandas\\core\\algorithms.py:1743\u001b[0m, in \u001b[0;36mmap_array\u001b[1;34m(arr, mapper, na_action, convert)\u001b[0m\n\u001b[0;32m   1741\u001b[0m values \u001b[38;5;241m=\u001b[39m arr\u001b[38;5;241m.\u001b[39mastype(\u001b[38;5;28mobject\u001b[39m, copy\u001b[38;5;241m=\u001b[39m\u001b[38;5;28;01mFalse\u001b[39;00m)\n\u001b[0;32m   1742\u001b[0m \u001b[38;5;28;01mif\u001b[39;00m na_action \u001b[38;5;129;01mis\u001b[39;00m \u001b[38;5;28;01mNone\u001b[39;00m:\n\u001b[1;32m-> 1743\u001b[0m     \u001b[38;5;28;01mreturn\u001b[39;00m \u001b[43mlib\u001b[49m\u001b[38;5;241;43m.\u001b[39;49m\u001b[43mmap_infer\u001b[49m\u001b[43m(\u001b[49m\u001b[43mvalues\u001b[49m\u001b[43m,\u001b[49m\u001b[43m \u001b[49m\u001b[43mmapper\u001b[49m\u001b[43m,\u001b[49m\u001b[43m \u001b[49m\u001b[43mconvert\u001b[49m\u001b[38;5;241;43m=\u001b[39;49m\u001b[43mconvert\u001b[49m\u001b[43m)\u001b[49m\n\u001b[0;32m   1744\u001b[0m \u001b[38;5;28;01melse\u001b[39;00m:\n\u001b[0;32m   1745\u001b[0m     \u001b[38;5;28;01mreturn\u001b[39;00m lib\u001b[38;5;241m.\u001b[39mmap_infer_mask(\n\u001b[0;32m   1746\u001b[0m         values, mapper, mask\u001b[38;5;241m=\u001b[39misna(values)\u001b[38;5;241m.\u001b[39mview(np\u001b[38;5;241m.\u001b[39muint8), convert\u001b[38;5;241m=\u001b[39mconvert\n\u001b[0;32m   1747\u001b[0m     )\n",
      "File \u001b[1;32mpandas/_libs/lib.pyx:2999\u001b[0m, in \u001b[0;36mpandas._libs.lib.map_infer\u001b[1;34m()\u001b[0m\n",
      "Cell \u001b[1;32mIn[27], line 3\u001b[0m, in \u001b[0;36mconvert\u001b[1;34m(obj)\u001b[0m\n\u001b[0;32m      1\u001b[0m \u001b[38;5;28;01mdef\u001b[39;00m\u001b[38;5;250m \u001b[39m\u001b[38;5;21mconvert\u001b[39m(obj):\n\u001b[0;32m      2\u001b[0m     L \u001b[38;5;241m=\u001b[39m []\n\u001b[1;32m----> 3\u001b[0m     \u001b[38;5;28;01mfor\u001b[39;00m i \u001b[38;5;129;01min\u001b[39;00m \u001b[43mast\u001b[49m\u001b[38;5;241m.\u001b[39mliteral_eval(obj):\n\u001b[0;32m      4\u001b[0m         L\u001b[38;5;241m.\u001b[39mappend(i[\u001b[38;5;124m'\u001b[39m\u001b[38;5;124mname\u001b[39m\u001b[38;5;124m'\u001b[39m])\n\u001b[0;32m      5\u001b[0m     \u001b[38;5;28;01mreturn\u001b[39;00m\n",
      "\u001b[1;31mNameError\u001b[0m: name 'ast' is not defined"
     ]
    }
   ],
   "source": [
    "movie['genres']=movie['genres'].apply(convert)"
   ]
  },
  {
   "cell_type": "code",
   "execution_count": null,
   "id": "1c2c7d11-c8f1-4dad-a444-f5b707b5eff9",
   "metadata": {},
   "outputs": [],
   "source": [
    "movie.head()"
   ]
  },
  {
   "cell_type": "code",
   "execution_count": null,
   "id": "348b1e38-abd1-41df-a046-375e1b57afc5",
   "metadata": {},
   "outputs": [],
   "source": [
    "movie['keywords']=movie['keywords'].apply(convert)"
   ]
  },
  {
   "cell_type": "code",
   "execution_count": null,
   "id": "4e35f97c-9bfc-44fd-87cd-8a0d6b2ca95d",
   "metadata": {},
   "outputs": [],
   "source": [
    "movie.head()"
   ]
  },
  {
   "cell_type": "code",
   "execution_count": null,
   "id": "ba6913fc-8324-4ea0-bc17-5277c2e4cce3",
   "metadata": {},
   "outputs": [],
   "source": [
    "def convert3(obj):\n",
    "    L = []\n",
    "    counter =0\n",
    "    for i in ast.literal_eval(obj):\n",
    "        if counter !=3:\n",
    "            L.append(i['name'])\n",
    "            counter+=1\n",
    "        else:\n",
    "            break   \n",
    "    return L"
   ]
  },
  {
   "cell_type": "code",
   "execution_count": null,
   "id": "7e1b4a82-3a16-4b4b-8d04-58fa603046f7",
   "metadata": {},
   "outputs": [],
   "source": [
    "movie['cast']=movie['cast'].apply(convert3)"
   ]
  },
  {
   "cell_type": "code",
   "execution_count": null,
   "id": "1ad4708c-7b4d-4d35-9dc1-2b5256c697b3",
   "metadata": {},
   "outputs": [],
   "source": [
    "movie.head()"
   ]
  },
  {
   "cell_type": "code",
   "execution_count": null,
   "id": "38250baa-1fa7-4388-9e22-ed85fb026858",
   "metadata": {},
   "outputs": [],
   "source": [
    "def fetch_director(obj):\n",
    "    L = []\n",
    "    for i in ast.literal_eval(obj):\n",
    "        if i['job'] =='Director':\n",
    "           L.append(i['name'])\n",
    "           break\n",
    "    return L"
   ]
  },
  {
   "cell_type": "code",
   "execution_count": null,
   "id": "bf805081-852e-4a01-81c4-6dafb1a48193",
   "metadata": {},
   "outputs": [],
   "source": [
    "movie['crew']=movie['crew'].apply(fetch_director)"
   ]
  },
  {
   "cell_type": "code",
   "execution_count": 30,
   "id": "f5ebc5d3-b6ac-4ef5-af13-fcb10dd773c9",
   "metadata": {},
   "outputs": [
    {
     "data": {
      "text/html": [
       "<div>\n",
       "<style scoped>\n",
       "    .dataframe tbody tr th:only-of-type {\n",
       "        vertical-align: middle;\n",
       "    }\n",
       "\n",
       "    .dataframe tbody tr th {\n",
       "        vertical-align: top;\n",
       "    }\n",
       "\n",
       "    .dataframe thead th {\n",
       "        text-align: right;\n",
       "    }\n",
       "</style>\n",
       "<table border=\"1\" class=\"dataframe\">\n",
       "  <thead>\n",
       "    <tr style=\"text-align: right;\">\n",
       "      <th></th>\n",
       "      <th>movie_id</th>\n",
       "      <th>title</th>\n",
       "      <th>overview</th>\n",
       "      <th>genres</th>\n",
       "      <th>keywords</th>\n",
       "      <th>cast</th>\n",
       "      <th>crew</th>\n",
       "    </tr>\n",
       "  </thead>\n",
       "  <tbody>\n",
       "    <tr>\n",
       "      <th>0</th>\n",
       "      <td>19995</td>\n",
       "      <td>Avatar</td>\n",
       "      <td>In the 22nd century, a paraplegic Marine is di...</td>\n",
       "      <td>[{\"id\": 28, \"name\": \"Action\"}, {\"id\": 12, \"nam...</td>\n",
       "      <td>[{\"id\": 1463, \"name\": \"culture clash\"}, {\"id\":...</td>\n",
       "      <td>[{\"cast_id\": 242, \"character\": \"Jake Sully\", \"...</td>\n",
       "      <td>[{\"credit_id\": \"52fe48009251416c750aca23\", \"de...</td>\n",
       "    </tr>\n",
       "    <tr>\n",
       "      <th>1</th>\n",
       "      <td>285</td>\n",
       "      <td>Pirates of the Caribbean: At World's End</td>\n",
       "      <td>Captain Barbossa, long believed to be dead, ha...</td>\n",
       "      <td>[{\"id\": 12, \"name\": \"Adventure\"}, {\"id\": 14, \"...</td>\n",
       "      <td>[{\"id\": 270, \"name\": \"ocean\"}, {\"id\": 726, \"na...</td>\n",
       "      <td>[{\"cast_id\": 4, \"character\": \"Captain Jack Spa...</td>\n",
       "      <td>[{\"credit_id\": \"52fe4232c3a36847f800b579\", \"de...</td>\n",
       "    </tr>\n",
       "    <tr>\n",
       "      <th>2</th>\n",
       "      <td>206647</td>\n",
       "      <td>Spectre</td>\n",
       "      <td>A cryptic message from Bond’s past sends him o...</td>\n",
       "      <td>[{\"id\": 28, \"name\": \"Action\"}, {\"id\": 12, \"nam...</td>\n",
       "      <td>[{\"id\": 470, \"name\": \"spy\"}, {\"id\": 818, \"name...</td>\n",
       "      <td>[{\"cast_id\": 1, \"character\": \"James Bond\", \"cr...</td>\n",
       "      <td>[{\"credit_id\": \"54805967c3a36829b5002c41\", \"de...</td>\n",
       "    </tr>\n",
       "    <tr>\n",
       "      <th>3</th>\n",
       "      <td>49026</td>\n",
       "      <td>The Dark Knight Rises</td>\n",
       "      <td>Following the death of District Attorney Harve...</td>\n",
       "      <td>[{\"id\": 28, \"name\": \"Action\"}, {\"id\": 80, \"nam...</td>\n",
       "      <td>[{\"id\": 849, \"name\": \"dc comics\"}, {\"id\": 853,...</td>\n",
       "      <td>[{\"cast_id\": 2, \"character\": \"Bruce Wayne / Ba...</td>\n",
       "      <td>[{\"credit_id\": \"52fe4781c3a36847f81398c3\", \"de...</td>\n",
       "    </tr>\n",
       "    <tr>\n",
       "      <th>4</th>\n",
       "      <td>49529</td>\n",
       "      <td>John Carter</td>\n",
       "      <td>John Carter is a war-weary, former military ca...</td>\n",
       "      <td>[{\"id\": 28, \"name\": \"Action\"}, {\"id\": 12, \"nam...</td>\n",
       "      <td>[{\"id\": 818, \"name\": \"based on novel\"}, {\"id\":...</td>\n",
       "      <td>[{\"cast_id\": 5, \"character\": \"John Carter\", \"c...</td>\n",
       "      <td>[{\"credit_id\": \"52fe479ac3a36847f813eaa3\", \"de...</td>\n",
       "    </tr>\n",
       "  </tbody>\n",
       "</table>\n",
       "</div>"
      ],
      "text/plain": [
       "   movie_id                                     title  \\\n",
       "0     19995                                    Avatar   \n",
       "1       285  Pirates of the Caribbean: At World's End   \n",
       "2    206647                                   Spectre   \n",
       "3     49026                     The Dark Knight Rises   \n",
       "4     49529                               John Carter   \n",
       "\n",
       "                                            overview  \\\n",
       "0  In the 22nd century, a paraplegic Marine is di...   \n",
       "1  Captain Barbossa, long believed to be dead, ha...   \n",
       "2  A cryptic message from Bond’s past sends him o...   \n",
       "3  Following the death of District Attorney Harve...   \n",
       "4  John Carter is a war-weary, former military ca...   \n",
       "\n",
       "                                              genres  \\\n",
       "0  [{\"id\": 28, \"name\": \"Action\"}, {\"id\": 12, \"nam...   \n",
       "1  [{\"id\": 12, \"name\": \"Adventure\"}, {\"id\": 14, \"...   \n",
       "2  [{\"id\": 28, \"name\": \"Action\"}, {\"id\": 12, \"nam...   \n",
       "3  [{\"id\": 28, \"name\": \"Action\"}, {\"id\": 80, \"nam...   \n",
       "4  [{\"id\": 28, \"name\": \"Action\"}, {\"id\": 12, \"nam...   \n",
       "\n",
       "                                            keywords  \\\n",
       "0  [{\"id\": 1463, \"name\": \"culture clash\"}, {\"id\":...   \n",
       "1  [{\"id\": 270, \"name\": \"ocean\"}, {\"id\": 726, \"na...   \n",
       "2  [{\"id\": 470, \"name\": \"spy\"}, {\"id\": 818, \"name...   \n",
       "3  [{\"id\": 849, \"name\": \"dc comics\"}, {\"id\": 853,...   \n",
       "4  [{\"id\": 818, \"name\": \"based on novel\"}, {\"id\":...   \n",
       "\n",
       "                                                cast  \\\n",
       "0  [{\"cast_id\": 242, \"character\": \"Jake Sully\", \"...   \n",
       "1  [{\"cast_id\": 4, \"character\": \"Captain Jack Spa...   \n",
       "2  [{\"cast_id\": 1, \"character\": \"James Bond\", \"cr...   \n",
       "3  [{\"cast_id\": 2, \"character\": \"Bruce Wayne / Ba...   \n",
       "4  [{\"cast_id\": 5, \"character\": \"John Carter\", \"c...   \n",
       "\n",
       "                                                crew  \n",
       "0  [{\"credit_id\": \"52fe48009251416c750aca23\", \"de...  \n",
       "1  [{\"credit_id\": \"52fe4232c3a36847f800b579\", \"de...  \n",
       "2  [{\"credit_id\": \"54805967c3a36829b5002c41\", \"de...  \n",
       "3  [{\"credit_id\": \"52fe4781c3a36847f81398c3\", \"de...  \n",
       "4  [{\"credit_id\": \"52fe479ac3a36847f813eaa3\", \"de...  "
      ]
     },
     "execution_count": 30,
     "metadata": {},
     "output_type": "execute_result"
    }
   ],
   "source": [
    "movie.head()"
   ]
  },
  {
   "cell_type": "code",
   "execution_count": 31,
   "id": "e67d24f3-42ab-4777-a286-e1525556b1a3",
   "metadata": {},
   "outputs": [],
   "source": [
    "movie['overview']= movie['overview'].apply(lambda x:x.split())"
   ]
  },
  {
   "cell_type": "code",
   "execution_count": 32,
   "id": "798ecc47-f415-45da-8cdc-97f2cdf0c289",
   "metadata": {},
   "outputs": [
    {
     "data": {
      "text/html": [
       "<div>\n",
       "<style scoped>\n",
       "    .dataframe tbody tr th:only-of-type {\n",
       "        vertical-align: middle;\n",
       "    }\n",
       "\n",
       "    .dataframe tbody tr th {\n",
       "        vertical-align: top;\n",
       "    }\n",
       "\n",
       "    .dataframe thead th {\n",
       "        text-align: right;\n",
       "    }\n",
       "</style>\n",
       "<table border=\"1\" class=\"dataframe\">\n",
       "  <thead>\n",
       "    <tr style=\"text-align: right;\">\n",
       "      <th></th>\n",
       "      <th>movie_id</th>\n",
       "      <th>title</th>\n",
       "      <th>overview</th>\n",
       "      <th>genres</th>\n",
       "      <th>keywords</th>\n",
       "      <th>cast</th>\n",
       "      <th>crew</th>\n",
       "    </tr>\n",
       "  </thead>\n",
       "  <tbody>\n",
       "    <tr>\n",
       "      <th>0</th>\n",
       "      <td>19995</td>\n",
       "      <td>Avatar</td>\n",
       "      <td>[In, the, 22nd, century,, a, paraplegic, Marin...</td>\n",
       "      <td>[{\"id\": 28, \"name\": \"Action\"}, {\"id\": 12, \"nam...</td>\n",
       "      <td>[{\"id\": 1463, \"name\": \"culture clash\"}, {\"id\":...</td>\n",
       "      <td>[{\"cast_id\": 242, \"character\": \"Jake Sully\", \"...</td>\n",
       "      <td>[{\"credit_id\": \"52fe48009251416c750aca23\", \"de...</td>\n",
       "    </tr>\n",
       "    <tr>\n",
       "      <th>1</th>\n",
       "      <td>285</td>\n",
       "      <td>Pirates of the Caribbean: At World's End</td>\n",
       "      <td>[Captain, Barbossa,, long, believed, to, be, d...</td>\n",
       "      <td>[{\"id\": 12, \"name\": \"Adventure\"}, {\"id\": 14, \"...</td>\n",
       "      <td>[{\"id\": 270, \"name\": \"ocean\"}, {\"id\": 726, \"na...</td>\n",
       "      <td>[{\"cast_id\": 4, \"character\": \"Captain Jack Spa...</td>\n",
       "      <td>[{\"credit_id\": \"52fe4232c3a36847f800b579\", \"de...</td>\n",
       "    </tr>\n",
       "    <tr>\n",
       "      <th>2</th>\n",
       "      <td>206647</td>\n",
       "      <td>Spectre</td>\n",
       "      <td>[A, cryptic, message, from, Bond’s, past, send...</td>\n",
       "      <td>[{\"id\": 28, \"name\": \"Action\"}, {\"id\": 12, \"nam...</td>\n",
       "      <td>[{\"id\": 470, \"name\": \"spy\"}, {\"id\": 818, \"name...</td>\n",
       "      <td>[{\"cast_id\": 1, \"character\": \"James Bond\", \"cr...</td>\n",
       "      <td>[{\"credit_id\": \"54805967c3a36829b5002c41\", \"de...</td>\n",
       "    </tr>\n",
       "    <tr>\n",
       "      <th>3</th>\n",
       "      <td>49026</td>\n",
       "      <td>The Dark Knight Rises</td>\n",
       "      <td>[Following, the, death, of, District, Attorney...</td>\n",
       "      <td>[{\"id\": 28, \"name\": \"Action\"}, {\"id\": 80, \"nam...</td>\n",
       "      <td>[{\"id\": 849, \"name\": \"dc comics\"}, {\"id\": 853,...</td>\n",
       "      <td>[{\"cast_id\": 2, \"character\": \"Bruce Wayne / Ba...</td>\n",
       "      <td>[{\"credit_id\": \"52fe4781c3a36847f81398c3\", \"de...</td>\n",
       "    </tr>\n",
       "    <tr>\n",
       "      <th>4</th>\n",
       "      <td>49529</td>\n",
       "      <td>John Carter</td>\n",
       "      <td>[John, Carter, is, a, war-weary,, former, mili...</td>\n",
       "      <td>[{\"id\": 28, \"name\": \"Action\"}, {\"id\": 12, \"nam...</td>\n",
       "      <td>[{\"id\": 818, \"name\": \"based on novel\"}, {\"id\":...</td>\n",
       "      <td>[{\"cast_id\": 5, \"character\": \"John Carter\", \"c...</td>\n",
       "      <td>[{\"credit_id\": \"52fe479ac3a36847f813eaa3\", \"de...</td>\n",
       "    </tr>\n",
       "  </tbody>\n",
       "</table>\n",
       "</div>"
      ],
      "text/plain": [
       "   movie_id                                     title  \\\n",
       "0     19995                                    Avatar   \n",
       "1       285  Pirates of the Caribbean: At World's End   \n",
       "2    206647                                   Spectre   \n",
       "3     49026                     The Dark Knight Rises   \n",
       "4     49529                               John Carter   \n",
       "\n",
       "                                            overview  \\\n",
       "0  [In, the, 22nd, century,, a, paraplegic, Marin...   \n",
       "1  [Captain, Barbossa,, long, believed, to, be, d...   \n",
       "2  [A, cryptic, message, from, Bond’s, past, send...   \n",
       "3  [Following, the, death, of, District, Attorney...   \n",
       "4  [John, Carter, is, a, war-weary,, former, mili...   \n",
       "\n",
       "                                              genres  \\\n",
       "0  [{\"id\": 28, \"name\": \"Action\"}, {\"id\": 12, \"nam...   \n",
       "1  [{\"id\": 12, \"name\": \"Adventure\"}, {\"id\": 14, \"...   \n",
       "2  [{\"id\": 28, \"name\": \"Action\"}, {\"id\": 12, \"nam...   \n",
       "3  [{\"id\": 28, \"name\": \"Action\"}, {\"id\": 80, \"nam...   \n",
       "4  [{\"id\": 28, \"name\": \"Action\"}, {\"id\": 12, \"nam...   \n",
       "\n",
       "                                            keywords  \\\n",
       "0  [{\"id\": 1463, \"name\": \"culture clash\"}, {\"id\":...   \n",
       "1  [{\"id\": 270, \"name\": \"ocean\"}, {\"id\": 726, \"na...   \n",
       "2  [{\"id\": 470, \"name\": \"spy\"}, {\"id\": 818, \"name...   \n",
       "3  [{\"id\": 849, \"name\": \"dc comics\"}, {\"id\": 853,...   \n",
       "4  [{\"id\": 818, \"name\": \"based on novel\"}, {\"id\":...   \n",
       "\n",
       "                                                cast  \\\n",
       "0  [{\"cast_id\": 242, \"character\": \"Jake Sully\", \"...   \n",
       "1  [{\"cast_id\": 4, \"character\": \"Captain Jack Spa...   \n",
       "2  [{\"cast_id\": 1, \"character\": \"James Bond\", \"cr...   \n",
       "3  [{\"cast_id\": 2, \"character\": \"Bruce Wayne / Ba...   \n",
       "4  [{\"cast_id\": 5, \"character\": \"John Carter\", \"c...   \n",
       "\n",
       "                                                crew  \n",
       "0  [{\"credit_id\": \"52fe48009251416c750aca23\", \"de...  \n",
       "1  [{\"credit_id\": \"52fe4232c3a36847f800b579\", \"de...  \n",
       "2  [{\"credit_id\": \"54805967c3a36829b5002c41\", \"de...  \n",
       "3  [{\"credit_id\": \"52fe4781c3a36847f81398c3\", \"de...  \n",
       "4  [{\"credit_id\": \"52fe479ac3a36847f813eaa3\", \"de...  "
      ]
     },
     "execution_count": 32,
     "metadata": {},
     "output_type": "execute_result"
    }
   ],
   "source": [
    "movie.head()"
   ]
  },
  {
   "cell_type": "code",
   "execution_count": 33,
   "id": "df30cacd-9b88-42c5-8ff1-cc375ff59353",
   "metadata": {},
   "outputs": [],
   "source": [
    "movie['genres']=movie['genres'].apply(lambda x:[i.replace(\" \",\"\") for i in x])\n",
    "movie['keywords']=movie['keywords'].apply(lambda x:[i.replace(\" \",\"\") for i in x])\n",
    "movie['cast']=movie['cast'].apply(lambda x:[i.replace(\" \",\"\") for i in x])\n",
    "movie['crew']=movie['crew'].apply(lambda x:[i.replace(\" \",\"\") for i in x]) #remove the space btw them"
   ]
  },
  {
   "cell_type": "code",
   "execution_count": 34,
   "id": "a672ba06-cfe1-4ff1-8810-8503cc47ff43",
   "metadata": {},
   "outputs": [
    {
     "data": {
      "text/html": [
       "<div>\n",
       "<style scoped>\n",
       "    .dataframe tbody tr th:only-of-type {\n",
       "        vertical-align: middle;\n",
       "    }\n",
       "\n",
       "    .dataframe tbody tr th {\n",
       "        vertical-align: top;\n",
       "    }\n",
       "\n",
       "    .dataframe thead th {\n",
       "        text-align: right;\n",
       "    }\n",
       "</style>\n",
       "<table border=\"1\" class=\"dataframe\">\n",
       "  <thead>\n",
       "    <tr style=\"text-align: right;\">\n",
       "      <th></th>\n",
       "      <th>movie_id</th>\n",
       "      <th>title</th>\n",
       "      <th>overview</th>\n",
       "      <th>genres</th>\n",
       "      <th>keywords</th>\n",
       "      <th>cast</th>\n",
       "      <th>crew</th>\n",
       "    </tr>\n",
       "  </thead>\n",
       "  <tbody>\n",
       "    <tr>\n",
       "      <th>0</th>\n",
       "      <td>19995</td>\n",
       "      <td>Avatar</td>\n",
       "      <td>[In, the, 22nd, century,, a, paraplegic, Marin...</td>\n",
       "      <td>[[, {, \", i, d, \", :, , 2, 8, ,, , \", n, a, m,...</td>\n",
       "      <td>[[, {, \", i, d, \", :, , 1, 4, 6, 3, ,, , \", n,...</td>\n",
       "      <td>[[, {, \", c, a, s, t, _, i, d, \", :, , 2, 4, 2...</td>\n",
       "      <td>[[, {, \", c, r, e, d, i, t, _, i, d, \", :, , \"...</td>\n",
       "    </tr>\n",
       "    <tr>\n",
       "      <th>1</th>\n",
       "      <td>285</td>\n",
       "      <td>Pirates of the Caribbean: At World's End</td>\n",
       "      <td>[Captain, Barbossa,, long, believed, to, be, d...</td>\n",
       "      <td>[[, {, \", i, d, \", :, , 1, 2, ,, , \", n, a, m,...</td>\n",
       "      <td>[[, {, \", i, d, \", :, , 2, 7, 0, ,, , \", n, a,...</td>\n",
       "      <td>[[, {, \", c, a, s, t, _, i, d, \", :, , 4, ,, ,...</td>\n",
       "      <td>[[, {, \", c, r, e, d, i, t, _, i, d, \", :, , \"...</td>\n",
       "    </tr>\n",
       "    <tr>\n",
       "      <th>2</th>\n",
       "      <td>206647</td>\n",
       "      <td>Spectre</td>\n",
       "      <td>[A, cryptic, message, from, Bond’s, past, send...</td>\n",
       "      <td>[[, {, \", i, d, \", :, , 2, 8, ,, , \", n, a, m,...</td>\n",
       "      <td>[[, {, \", i, d, \", :, , 4, 7, 0, ,, , \", n, a,...</td>\n",
       "      <td>[[, {, \", c, a, s, t, _, i, d, \", :, , 1, ,, ,...</td>\n",
       "      <td>[[, {, \", c, r, e, d, i, t, _, i, d, \", :, , \"...</td>\n",
       "    </tr>\n",
       "    <tr>\n",
       "      <th>3</th>\n",
       "      <td>49026</td>\n",
       "      <td>The Dark Knight Rises</td>\n",
       "      <td>[Following, the, death, of, District, Attorney...</td>\n",
       "      <td>[[, {, \", i, d, \", :, , 2, 8, ,, , \", n, a, m,...</td>\n",
       "      <td>[[, {, \", i, d, \", :, , 8, 4, 9, ,, , \", n, a,...</td>\n",
       "      <td>[[, {, \", c, a, s, t, _, i, d, \", :, , 2, ,, ,...</td>\n",
       "      <td>[[, {, \", c, r, e, d, i, t, _, i, d, \", :, , \"...</td>\n",
       "    </tr>\n",
       "    <tr>\n",
       "      <th>4</th>\n",
       "      <td>49529</td>\n",
       "      <td>John Carter</td>\n",
       "      <td>[John, Carter, is, a, war-weary,, former, mili...</td>\n",
       "      <td>[[, {, \", i, d, \", :, , 2, 8, ,, , \", n, a, m,...</td>\n",
       "      <td>[[, {, \", i, d, \", :, , 8, 1, 8, ,, , \", n, a,...</td>\n",
       "      <td>[[, {, \", c, a, s, t, _, i, d, \", :, , 5, ,, ,...</td>\n",
       "      <td>[[, {, \", c, r, e, d, i, t, _, i, d, \", :, , \"...</td>\n",
       "    </tr>\n",
       "  </tbody>\n",
       "</table>\n",
       "</div>"
      ],
      "text/plain": [
       "   movie_id                                     title  \\\n",
       "0     19995                                    Avatar   \n",
       "1       285  Pirates of the Caribbean: At World's End   \n",
       "2    206647                                   Spectre   \n",
       "3     49026                     The Dark Knight Rises   \n",
       "4     49529                               John Carter   \n",
       "\n",
       "                                            overview  \\\n",
       "0  [In, the, 22nd, century,, a, paraplegic, Marin...   \n",
       "1  [Captain, Barbossa,, long, believed, to, be, d...   \n",
       "2  [A, cryptic, message, from, Bond’s, past, send...   \n",
       "3  [Following, the, death, of, District, Attorney...   \n",
       "4  [John, Carter, is, a, war-weary,, former, mili...   \n",
       "\n",
       "                                              genres  \\\n",
       "0  [[, {, \", i, d, \", :, , 2, 8, ,, , \", n, a, m,...   \n",
       "1  [[, {, \", i, d, \", :, , 1, 2, ,, , \", n, a, m,...   \n",
       "2  [[, {, \", i, d, \", :, , 2, 8, ,, , \", n, a, m,...   \n",
       "3  [[, {, \", i, d, \", :, , 2, 8, ,, , \", n, a, m,...   \n",
       "4  [[, {, \", i, d, \", :, , 2, 8, ,, , \", n, a, m,...   \n",
       "\n",
       "                                            keywords  \\\n",
       "0  [[, {, \", i, d, \", :, , 1, 4, 6, 3, ,, , \", n,...   \n",
       "1  [[, {, \", i, d, \", :, , 2, 7, 0, ,, , \", n, a,...   \n",
       "2  [[, {, \", i, d, \", :, , 4, 7, 0, ,, , \", n, a,...   \n",
       "3  [[, {, \", i, d, \", :, , 8, 4, 9, ,, , \", n, a,...   \n",
       "4  [[, {, \", i, d, \", :, , 8, 1, 8, ,, , \", n, a,...   \n",
       "\n",
       "                                                cast  \\\n",
       "0  [[, {, \", c, a, s, t, _, i, d, \", :, , 2, 4, 2...   \n",
       "1  [[, {, \", c, a, s, t, _, i, d, \", :, , 4, ,, ,...   \n",
       "2  [[, {, \", c, a, s, t, _, i, d, \", :, , 1, ,, ,...   \n",
       "3  [[, {, \", c, a, s, t, _, i, d, \", :, , 2, ,, ,...   \n",
       "4  [[, {, \", c, a, s, t, _, i, d, \", :, , 5, ,, ,...   \n",
       "\n",
       "                                                crew  \n",
       "0  [[, {, \", c, r, e, d, i, t, _, i, d, \", :, , \"...  \n",
       "1  [[, {, \", c, r, e, d, i, t, _, i, d, \", :, , \"...  \n",
       "2  [[, {, \", c, r, e, d, i, t, _, i, d, \", :, , \"...  \n",
       "3  [[, {, \", c, r, e, d, i, t, _, i, d, \", :, , \"...  \n",
       "4  [[, {, \", c, r, e, d, i, t, _, i, d, \", :, , \"...  "
      ]
     },
     "execution_count": 34,
     "metadata": {},
     "output_type": "execute_result"
    }
   ],
   "source": [
    "movie.head()"
   ]
  },
  {
   "cell_type": "code",
   "execution_count": 35,
   "id": "15287776-b170-4d7a-bb01-807dd451277d",
   "metadata": {},
   "outputs": [],
   "source": [
    "movie['tags']= movie['overview']+movie['genres']+movie['cast']+movie['crew'] #concatinate"
   ]
  },
  {
   "cell_type": "code",
   "execution_count": 36,
   "id": "125080f6-1626-4428-8bbd-a8fc837e2e70",
   "metadata": {},
   "outputs": [
    {
     "data": {
      "text/html": [
       "<div>\n",
       "<style scoped>\n",
       "    .dataframe tbody tr th:only-of-type {\n",
       "        vertical-align: middle;\n",
       "    }\n",
       "\n",
       "    .dataframe tbody tr th {\n",
       "        vertical-align: top;\n",
       "    }\n",
       "\n",
       "    .dataframe thead th {\n",
       "        text-align: right;\n",
       "    }\n",
       "</style>\n",
       "<table border=\"1\" class=\"dataframe\">\n",
       "  <thead>\n",
       "    <tr style=\"text-align: right;\">\n",
       "      <th></th>\n",
       "      <th>movie_id</th>\n",
       "      <th>title</th>\n",
       "      <th>overview</th>\n",
       "      <th>genres</th>\n",
       "      <th>keywords</th>\n",
       "      <th>cast</th>\n",
       "      <th>crew</th>\n",
       "      <th>tags</th>\n",
       "    </tr>\n",
       "  </thead>\n",
       "  <tbody>\n",
       "    <tr>\n",
       "      <th>0</th>\n",
       "      <td>19995</td>\n",
       "      <td>Avatar</td>\n",
       "      <td>[In, the, 22nd, century,, a, paraplegic, Marin...</td>\n",
       "      <td>[[, {, \", i, d, \", :, , 2, 8, ,, , \", n, a, m,...</td>\n",
       "      <td>[[, {, \", i, d, \", :, , 1, 4, 6, 3, ,, , \", n,...</td>\n",
       "      <td>[[, {, \", c, a, s, t, _, i, d, \", :, , 2, 4, 2...</td>\n",
       "      <td>[[, {, \", c, r, e, d, i, t, _, i, d, \", :, , \"...</td>\n",
       "      <td>[In, the, 22nd, century,, a, paraplegic, Marin...</td>\n",
       "    </tr>\n",
       "    <tr>\n",
       "      <th>1</th>\n",
       "      <td>285</td>\n",
       "      <td>Pirates of the Caribbean: At World's End</td>\n",
       "      <td>[Captain, Barbossa,, long, believed, to, be, d...</td>\n",
       "      <td>[[, {, \", i, d, \", :, , 1, 2, ,, , \", n, a, m,...</td>\n",
       "      <td>[[, {, \", i, d, \", :, , 2, 7, 0, ,, , \", n, a,...</td>\n",
       "      <td>[[, {, \", c, a, s, t, _, i, d, \", :, , 4, ,, ,...</td>\n",
       "      <td>[[, {, \", c, r, e, d, i, t, _, i, d, \", :, , \"...</td>\n",
       "      <td>[Captain, Barbossa,, long, believed, to, be, d...</td>\n",
       "    </tr>\n",
       "    <tr>\n",
       "      <th>2</th>\n",
       "      <td>206647</td>\n",
       "      <td>Spectre</td>\n",
       "      <td>[A, cryptic, message, from, Bond’s, past, send...</td>\n",
       "      <td>[[, {, \", i, d, \", :, , 2, 8, ,, , \", n, a, m,...</td>\n",
       "      <td>[[, {, \", i, d, \", :, , 4, 7, 0, ,, , \", n, a,...</td>\n",
       "      <td>[[, {, \", c, a, s, t, _, i, d, \", :, , 1, ,, ,...</td>\n",
       "      <td>[[, {, \", c, r, e, d, i, t, _, i, d, \", :, , \"...</td>\n",
       "      <td>[A, cryptic, message, from, Bond’s, past, send...</td>\n",
       "    </tr>\n",
       "    <tr>\n",
       "      <th>3</th>\n",
       "      <td>49026</td>\n",
       "      <td>The Dark Knight Rises</td>\n",
       "      <td>[Following, the, death, of, District, Attorney...</td>\n",
       "      <td>[[, {, \", i, d, \", :, , 2, 8, ,, , \", n, a, m,...</td>\n",
       "      <td>[[, {, \", i, d, \", :, , 8, 4, 9, ,, , \", n, a,...</td>\n",
       "      <td>[[, {, \", c, a, s, t, _, i, d, \", :, , 2, ,, ,...</td>\n",
       "      <td>[[, {, \", c, r, e, d, i, t, _, i, d, \", :, , \"...</td>\n",
       "      <td>[Following, the, death, of, District, Attorney...</td>\n",
       "    </tr>\n",
       "    <tr>\n",
       "      <th>4</th>\n",
       "      <td>49529</td>\n",
       "      <td>John Carter</td>\n",
       "      <td>[John, Carter, is, a, war-weary,, former, mili...</td>\n",
       "      <td>[[, {, \", i, d, \", :, , 2, 8, ,, , \", n, a, m,...</td>\n",
       "      <td>[[, {, \", i, d, \", :, , 8, 1, 8, ,, , \", n, a,...</td>\n",
       "      <td>[[, {, \", c, a, s, t, _, i, d, \", :, , 5, ,, ,...</td>\n",
       "      <td>[[, {, \", c, r, e, d, i, t, _, i, d, \", :, , \"...</td>\n",
       "      <td>[John, Carter, is, a, war-weary,, former, mili...</td>\n",
       "    </tr>\n",
       "  </tbody>\n",
       "</table>\n",
       "</div>"
      ],
      "text/plain": [
       "   movie_id                                     title  \\\n",
       "0     19995                                    Avatar   \n",
       "1       285  Pirates of the Caribbean: At World's End   \n",
       "2    206647                                   Spectre   \n",
       "3     49026                     The Dark Knight Rises   \n",
       "4     49529                               John Carter   \n",
       "\n",
       "                                            overview  \\\n",
       "0  [In, the, 22nd, century,, a, paraplegic, Marin...   \n",
       "1  [Captain, Barbossa,, long, believed, to, be, d...   \n",
       "2  [A, cryptic, message, from, Bond’s, past, send...   \n",
       "3  [Following, the, death, of, District, Attorney...   \n",
       "4  [John, Carter, is, a, war-weary,, former, mili...   \n",
       "\n",
       "                                              genres  \\\n",
       "0  [[, {, \", i, d, \", :, , 2, 8, ,, , \", n, a, m,...   \n",
       "1  [[, {, \", i, d, \", :, , 1, 2, ,, , \", n, a, m,...   \n",
       "2  [[, {, \", i, d, \", :, , 2, 8, ,, , \", n, a, m,...   \n",
       "3  [[, {, \", i, d, \", :, , 2, 8, ,, , \", n, a, m,...   \n",
       "4  [[, {, \", i, d, \", :, , 2, 8, ,, , \", n, a, m,...   \n",
       "\n",
       "                                            keywords  \\\n",
       "0  [[, {, \", i, d, \", :, , 1, 4, 6, 3, ,, , \", n,...   \n",
       "1  [[, {, \", i, d, \", :, , 2, 7, 0, ,, , \", n, a,...   \n",
       "2  [[, {, \", i, d, \", :, , 4, 7, 0, ,, , \", n, a,...   \n",
       "3  [[, {, \", i, d, \", :, , 8, 4, 9, ,, , \", n, a,...   \n",
       "4  [[, {, \", i, d, \", :, , 8, 1, 8, ,, , \", n, a,...   \n",
       "\n",
       "                                                cast  \\\n",
       "0  [[, {, \", c, a, s, t, _, i, d, \", :, , 2, 4, 2...   \n",
       "1  [[, {, \", c, a, s, t, _, i, d, \", :, , 4, ,, ,...   \n",
       "2  [[, {, \", c, a, s, t, _, i, d, \", :, , 1, ,, ,...   \n",
       "3  [[, {, \", c, a, s, t, _, i, d, \", :, , 2, ,, ,...   \n",
       "4  [[, {, \", c, a, s, t, _, i, d, \", :, , 5, ,, ,...   \n",
       "\n",
       "                                                crew  \\\n",
       "0  [[, {, \", c, r, e, d, i, t, _, i, d, \", :, , \"...   \n",
       "1  [[, {, \", c, r, e, d, i, t, _, i, d, \", :, , \"...   \n",
       "2  [[, {, \", c, r, e, d, i, t, _, i, d, \", :, , \"...   \n",
       "3  [[, {, \", c, r, e, d, i, t, _, i, d, \", :, , \"...   \n",
       "4  [[, {, \", c, r, e, d, i, t, _, i, d, \", :, , \"...   \n",
       "\n",
       "                                                tags  \n",
       "0  [In, the, 22nd, century,, a, paraplegic, Marin...  \n",
       "1  [Captain, Barbossa,, long, believed, to, be, d...  \n",
       "2  [A, cryptic, message, from, Bond’s, past, send...  \n",
       "3  [Following, the, death, of, District, Attorney...  \n",
       "4  [John, Carter, is, a, war-weary,, former, mili...  "
      ]
     },
     "execution_count": 36,
     "metadata": {},
     "output_type": "execute_result"
    }
   ],
   "source": [
    "movie.head()"
   ]
  },
  {
   "cell_type": "code",
   "execution_count": 37,
   "id": "f51367a9-8170-446d-ae6f-a9ad47ec2577",
   "metadata": {},
   "outputs": [],
   "source": [
    "new_df = movie[['movie_id', 'title', 'tags']] #merge"
   ]
  },
  {
   "cell_type": "code",
   "execution_count": 38,
   "id": "1401c5c0-2a1a-468d-8d37-ad393a1cc6de",
   "metadata": {},
   "outputs": [],
   "source": [
    "new_df['tags']=new_df['tags'].apply(lambda x:\" \".join(x)) #convert into string"
   ]
  },
  {
   "cell_type": "code",
   "execution_count": 39,
   "id": "b6f64dd4-d2ba-4d21-88b8-053e7558c9ae",
   "metadata": {},
   "outputs": [
    {
     "data": {
      "text/plain": [
       "'In the 22nd century, a paraplegic Marine is dispatched to the moon Pandora on a unique mission, but becomes torn between following orders and protecting an alien civilization. [ { \" i d \" :  2 8 ,  \" n a m e \" :  \" A c t i o n \" } ,  { \" i d \" :  1 2 ,  \" n a m e \" :  \" A d v e n t u r e \" } ,  { \" i d \" :  1 4 ,  \" n a m e \" :  \" F a n t a s y \" } ,  { \" i d \" :  8 7 8 ,  \" n a m e \" :  \" S c i e n c e  F i c t i o n \" } ] [ { \" c a s t _ i d \" :  2 4 2 ,  \" c h a r a c t e r \" :  \" J a k e  S u l l y \" ,  \" c r e d i t _ i d \" :  \" 5 6 0 2 a 8 a 7 c 3 a 3 6 8 5 5 3 2 0 0 1 c 9 a \" ,  \" g e n d e r \" :  2 ,  \" i d \" :  6 5 7 3 1 ,  \" n a m e \" :  \" S a m  W o r t h i n g t o n \" ,  \" o r d e r \" :  0 } ,  { \" c a s t _ i d \" :  3 ,  \" c h a r a c t e r \" :  \" N e y t i r i \" ,  \" c r e d i t _ i d \" :  \" 5 2 f e 4 8 0 0 9 2 5 1 4 1 6 c 7 5 0 a c 9 c b \" ,  \" g e n d e r \" :  1 ,  \" i d \" :  8 6 9 1 ,  \" n a m e \" :  \" Z o e  S a l d a n a \" ,  \" o r d e r \" :  1 } ,  { \" c a s t _ i d \" :  2 5 ,  \" c h a r a c t e r \" :  \" D r .  G r a c e  A u g u s t i n e \" ,  \" c r e d i t _ i d \" :  \" 5 2 f e 4 8 0 0 9 2 5 1 4 1 6 c 7 5 0 a c a 3 9 \" ,  \" g e n d e r \" :  1 ,  \" i d \" :  1 0 2 0 5 ,  \" n a m e \" :  \" S i g o u r n e y  W e a v e r \" ,  \" o r d e r \" :  2 } ,  { \" c a s t _ i d \" :  4 ,  \" c h a r a c t e r \" :  \" C o l .  Q u a r i t c h \" ,  \" c r e d i t _ i d \" :  \" 5 2 f e 4 8 0 0 9 2 5 1 4 1 6 c 7 5 0 a c 9 c f \" ,  \" g e n d e r \" :  2 ,  \" i d \" :  3 2 7 4 7 ,  \" n a m e \" :  \" S t e p h e n  L a n g \" ,  \" o r d e r \" :  3 } ,  { \" c a s t _ i d \" :  5 ,  \" c h a r a c t e r \" :  \" T r u d y  C h a c o n \" ,  \" c r e d i t _ i d \" :  \" 5 2 f e 4 8 0 0 9 2 5 1 4 1 6 c 7 5 0 a c 9 d 3 \" ,  \" g e n d e r \" :  1 ,  \" i d \" :  1 7 6 4 7 ,  \" n a m e \" :  \" M i c h e l l e  R o d r i g u e z \" ,  \" o r d e r \" :  4 } ,  { \" c a s t _ i d \" :  8 ,  \" c h a r a c t e r \" :  \" S e l f r i d g e \" ,  \" c r e d i t _ i d \" :  \" 5 2 f e 4 8 0 0 9 2 5 1 4 1 6 c 7 5 0 a c 9 e 1 \" ,  \" g e n d e r \" :  2 ,  \" i d \" :  1 7 7 1 ,  \" n a m e \" :  \" G i o v a n n i  R i b i s i \" ,  \" o r d e r \" :  5 } ,  { \" c a s t _ i d \" :  7 ,  \" c h a r a c t e r \" :  \" N o r m  S p e l l m a n \" ,  \" c r e d i t _ i d \" :  \" 5 2 f e 4 8 0 0 9 2 5 1 4 1 6 c 7 5 0 a c 9 d d \" ,  \" g e n d e r \" :  2 ,  \" i d \" :  5 9 2 3 1 ,  \" n a m e \" :  \" J o e l  D a v i d  M o o r e \" ,  \" o r d e r \" :  6 } ,  { \" c a s t _ i d \" :  9 ,  \" c h a r a c t e r \" :  \" M o a t \" ,  \" c r e d i t _ i d \" :  \" 5 2 f e 4 8 0 0 9 2 5 1 4 1 6 c 7 5 0 a c 9 e 5 \" ,  \" g e n d e r \" :  1 ,  \" i d \" :  3 0 4 8 5 ,  \" n a m e \" :  \" C C H  P o u n d e r \" ,  \" o r d e r \" :  7 } ,  { \" c a s t _ i d \" :  1 1 ,  \" c h a r a c t e r \" :  \" E y t u k a n \" ,  \" c r e d i t _ i d \" :  \" 5 2 f e 4 8 0 0 9 2 5 1 4 1 6 c 7 5 0 a c 9 e d \" ,  \" g e n d e r \" :  2 ,  \" i d \" :  1 5 8 5 3 ,  \" n a m e \" :  \" W e s  S t u d i \" ,  \" o r d e r \" :  8 } ,  { \" c a s t _ i d \" :  1 0 ,  \" c h a r a c t e r \" :  \" T s u \\' T e y \" ,  \" c r e d i t _ i d \" :  \" 5 2 f e 4 8 0 0 9 2 5 1 4 1 6 c 7 5 0 a c 9 e 9 \" ,  \" g e n d e r \" :  2 ,  \" i d \" :  1 0 9 6 4 ,  \" n a m e \" :  \" L a z  A l o n s o \" ,  \" o r d e r \" :  9 } ,  { \" c a s t _ i d \" :  1 2 ,  \" c h a r a c t e r \" :  \" D r .  M a x  P a t e l \" ,  \" c r e d i t _ i d \" :  \" 5 2 f e 4 8 0 0 9 2 5 1 4 1 6 c 7 5 0 a c 9 f 1 \" ,  \" g e n d e r \" :  2 ,  \" i d \" :  9 5 6 9 7 ,  \" n a m e \" :  \" D i l e e p  R a o \" ,  \" o r d e r \" :  1 0 } ,  { \" c a s t _ i d \" :  1 3 ,  \" c h a r a c t e r \" :  \" L y l e  W a i n f l e e t \" ,  \" c r e d i t _ i d \" :  \" 5 2 f e 4 8 0 0 9 2 5 1 4 1 6 c 7 5 0 a c 9 f 5 \" ,  \" g e n d e r \" :  2 ,  \" i d \" :  9 8 2 1 5 ,  \" n a m e \" :  \" M a t t  G e r a l d \" ,  \" o r d e r \" :  1 1 } ,  { \" c a s t _ i d \" :  3 2 ,  \" c h a r a c t e r \" :  \" P r i v a t e  F i k e \" ,  \" c r e d i t _ i d \" :  \" 5 2 f e 4 8 0 0 9 2 5 1 4 1 6 c 7 5 0 a c a 5 b \" ,  \" g e n d e r \" :  2 ,  \" i d \" :  1 5 4 1 5 3 ,  \" n a m e \" :  \" S e a n  A n t h o n y  M o r a n \" ,  \" o r d e r \" :  1 2 } ,  { \" c a s t _ i d \" :  3 3 ,  \" c h a r a c t e r \" :  \" C r y o  V a u l t  M e d  T e c h \" ,  \" c r e d i t _ i d \" :  \" 5 2 f e 4 8 0 0 9 2 5 1 4 1 6 c 7 5 0 a c a 5 f \" ,  \" g e n d e r \" :  2 ,  \" i d \" :  3 9 7 3 1 2 ,  \" n a m e \" :  \" J a s o n  W h y t e \" ,  \" o r d e r \" :  1 3 } ,  { \" c a s t _ i d \" :  3 4 ,  \" c h a r a c t e r \" :  \" V e n t u r e  S t a r  C r e w  C h i e f \" ,  \" c r e d i t _ i d \" :  \" 5 2 f e 4 8 0 0 9 2 5 1 4 1 6 c 7 5 0 a c a 6 3 \" ,  \" g e n d e r \" :  2 ,  \" i d \" :  4 2 3 1 7 ,  \" n a m e \" :  \" S c o t t  L a w r e n c e \" ,  \" o r d e r \" :  1 4 } ,  { \" c a s t _ i d \" :  3 5 ,  \" c h a r a c t e r \" :  \" L o c k  U p  T r o o p e r \" ,  \" c r e d i t _ i d \" :  \" 5 2 f e 4 8 0 0 9 2 5 1 4 1 6 c 7 5 0 a c a 6 7 \" ,  \" g e n d e r \" :  2 ,  \" i d \" :  9 8 6 7 3 4 ,  \" n a m e \" :  \" K e l l y  K i l g o u r \" ,  \" o r d e r \" :  1 5 } ,  { \" c a s t _ i d \" :  3 6 ,  \" c h a r a c t e r \" :  \" S h u t t l e  P i l o t \" ,  \" c r e d i t _ i d \" :  \" 5 2 f e 4 8 0 0 9 2 5 1 4 1 6 c 7 5 0 a c a 6 b \" ,  \" g e n d e r \" :  0 ,  \" i d \" :  1 2 0 7 2 2 7 ,  \" n a m e \" :  \" J a m e s  P a t r i c k  P i t t \" ,  \" o r d e r \" :  1 6 } ,  { \" c a s t _ i d \" :  3 7 ,  \" c h a r a c t e r \" :  \" S h u t t l e  C o - P i l o t \" ,  \" c r e d i t _ i d \" :  \" 5 2 f e 4 8 0 0 9 2 5 1 4 1 6 c 7 5 0 a c a 6 f \" ,  \" g e n d e r \" :  0 ,  \" i d \" :  1 1 8 0 9 3 6 ,  \" n a m e \" :  \" S e a n  P a t r i c k  M u r p h y \" ,  \" o r d e r \" :  1 7 } ,  { \" c a s t _ i d \" :  3 8 ,  \" c h a r a c t e r \" :  \" S h u t t l e  C r e w  C h i e f \" ,  \" c r e d i t _ i d \" :  \" 5 2 f e 4 8 0 0 9 2 5 1 4 1 6 c 7 5 0 a c a 7 3 \" ,  \" g e n d e r \" :  2 ,  \" i d \" :  1 0 1 9 5 7 8 ,  \" n a m e \" :  \" P e t e r  D i l l o n \" ,  \" o r d e r \" :  1 8 } ,  { \" c a s t _ i d \" :  3 9 ,  \" c h a r a c t e r \" :  \" T r a c t o r  O p e r a t o r  /  T r o u p e \" ,  \" c r e d i t _ i d \" :  \" 5 2 f e 4 8 0 0 9 2 5 1 4 1 6 c 7 5 0 a c a 7 7 \" ,  \" g e n d e r \" :  0 ,  \" i d \" :  9 1 4 4 3 ,  \" n a m e \" :  \" K e v i n  D o r m a n \" ,  \" o r d e r \" :  1 9 } ,  { \" c a s t _ i d \" :  4 0 ,  \" c h a r a c t e r \" :  \" D r a g o n  G u n s h i p  P i l o t \" ,  \" c r e d i t _ i d \" :  \" 5 2 f e 4 8 0 0 9 2 5 1 4 1 6 c 7 5 0 a c a 7 b \" ,  \" g e n d e r \" :  2 ,  \" i d \" :  1 7 3 3 9 1 ,  \" n a m e \" :  \" K e l s o n  H e n d e r s o n \" ,  \" o r d e r \" :  2 0 } ,  { \" c a s t _ i d \" :  4 1 ,  \" c h a r a c t e r \" :  \" D r a g o n  G u n s h i p  G u n n e r \" ,  \" c r e d i t _ i d \" :  \" 5 2 f e 4 8 0 0 9 2 5 1 4 1 6 c 7 5 0 a c a 7 f \" ,  \" g e n d e r \" :  0 ,  \" i d \" :  1 2 0 7 2 3 6 ,  \" n a m e \" :  \" D a v i d  V a n  H o r n \" ,  \" o r d e r \" :  2 1 } ,  { \" c a s t _ i d \" :  4 2 ,  \" c h a r a c t e r \" :  \" D r a g o n  G u n s h i p  N a v i g a t o r \" ,  \" c r e d i t _ i d \" :  \" 5 2 f e 4 8 0 0 9 2 5 1 4 1 6 c 7 5 0 a c a 8 3 \" ,  \" g e n d e r \" :  0 ,  \" i d \" :  2 1 5 9 1 3 ,  \" n a m e \" :  \" J a c o b  T o m u r i \" ,  \" o r d e r \" :  2 2 } ,  { \" c a s t _ i d \" :  4 3 ,  \" c h a r a c t e r \" :  \" S u i t  # 1 \" ,  \" c r e d i t _ i d \" :  \" 5 2 f e 4 8 0 0 9 2 5 1 4 1 6 c 7 5 0 a c a 8 7 \" ,  \" g e n d e r \" :  0 ,  \" i d \" :  1 4 3 2 0 6 ,  \" n a m e \" :  \" M i c h a e l  B l a i n - R o z g a y \" ,  \" o r d e r \" :  2 3 } ,  { \" c a s t _ i d \" :  4 4 ,  \" c h a r a c t e r \" :  \" S u i t  # 2 \" ,  \" c r e d i t _ i d \" :  \" 5 2 f e 4 8 0 0 9 2 5 1 4 1 6 c 7 5 0 a c a 8 b \" ,  \" g e n d e r \" :  2 ,  \" i d \" :  1 6 9 6 7 6 ,  \" n a m e \" :  \" J o n  C u r r y \" ,  \" o r d e r \" :  2 4 } ,  { \" c a s t _ i d \" :  4 6 ,  \" c h a r a c t e r \" :  \" A m b i e n t  R o o m  T e c h \" ,  \" c r e d i t _ i d \" :  \" 5 2 f e 4 8 0 0 9 2 5 1 4 1 6 c 7 5 0 a c a 8 f \" ,  \" g e n d e r \" :  0 ,  \" i d \" :  1 0 4 8 6 1 0 ,  \" n a m e \" :  \" L u k e  H a w k e r \" ,  \" o r d e r \" :  2 5 } ,  { \" c a s t _ i d \" :  4 7 ,  \" c h a r a c t e r \" :  \" A m b i e n t  R o o m  T e c h  /  T r o u p e \" ,  \" c r e d i t _ i d \" :  \" 5 2 f e 4 8 0 0 9 2 5 1 4 1 6 c 7 5 0 a c a 9 3 \" ,  \" g e n d e r \" :  0 ,  \" i d \" :  4 2 2 8 8 ,  \" n a m e \" :  \" W o o d y  S c h u l t z \" ,  \" o r d e r \" :  2 6 } ,  { \" c a s t _ i d \" :  4 8 ,  \" c h a r a c t e r \" :  \" H o r s e  C l a n  L e a d e r \" ,  \" c r e d i t _ i d \" :  \" 5 2 f e 4 8 0 0 9 2 5 1 4 1 6 c 7 5 0 a c a 9 7 \" ,  \" g e n d e r \" :  2 ,  \" i d \" :  6 8 2 7 8 ,  \" n a m e \" :  \" P e t e r  M e n s a h \" ,  \" o r d e r \" :  2 7 } ,  { \" c a s t _ i d \" :  4 9 ,  \" c h a r a c t e r \" :  \" L i n k  R o o m  T e c h \" ,  \" c r e d i t _ i d \" :  \" 5 2 f e 4 8 0 0 9 2 5 1 4 1 6 c 7 5 0 a c a 9 b \" ,  \" g e n d e r \" :  0 ,  \" i d \" :  1 2 0 7 2 4 7 ,  \" n a m e \" :  \" S o n i a  Y e e \" ,  \" o r d e r \" :  2 8 } ,  { \" c a s t _ i d \" :  5 0 ,  \" c h a r a c t e r \" :  \" B a s k e t b a l l  A v a t a r  /  T r o u p e \" ,  \" c r e d i t _ i d \" :  \" 5 2 f e 4 8 0 0 9 2 5 1 4 1 6 c 7 5 0 a c a 9 f \" ,  \" g e n d e r \" :  1 ,  \" i d \" :  1 2 0 7 2 4 8 ,  \" n a m e \" :  \" J a h n e l  C u r f m a n \" ,  \" o r d e r \" :  2 9 } ,  { \" c a s t _ i d \" :  5 1 ,  \" c h a r a c t e r \" :  \" B a s k e t b a l l  A v a t a r \" ,  \" c r e d i t _ i d \" :  \" 5 2 f e 4 8 0 0 9 2 5 1 4 1 6 c 7 5 0 a c a a 3 \" ,  \" g e n d e r \" :  0 ,  \" i d \" :  8 9 7 1 4 ,  \" n a m e \" :  \" I l r a m  C h o i \" ,  \" o r d e r \" :  3 0 } ,  { \" c a s t _ i d \" :  5 2 ,  \" c h a r a c t e r \" :  \" N a \\' v i  C h i l d \" ,  \" c r e d i t _ i d \" :  \" 5 2 f e 4 8 0 0 9 2 5 1 4 1 6 c 7 5 0 a c a a 7 \" ,  \" g e n d e r \" :  0 ,  \" i d \" :  1 2 0 7 2 4 9 ,  \" n a m e \" :  \" K y l a  W a r r e n \" ,  \" o r d e r \" :  3 1 } ,  { \" c a s t _ i d \" :  5 3 ,  \" c h a r a c t e r \" :  \" T r o u p e \" ,  \" c r e d i t _ i d \" :  \" 5 2 f e 4 8 0 0 9 2 5 1 4 1 6 c 7 5 0 a c a a b \" ,  \" g e n d e r \" :  0 ,  \" i d \" :  1 2 0 7 2 5 0 ,  \" n a m e \" :  \" L i s a  R o u m a i n \" ,  \" o r d e r \" :  3 2 } ,  { \" c a s t _ i d \" :  5 4 ,  \" c h a r a c t e r \" :  \" T r o u p e \" ,  \" c r e d i t _ i d \" :  \" 5 2 f e 4 8 0 0 9 2 5 1 4 1 6 c 7 5 0 a c a a f \" ,  \" g e n d e r \" :  1 ,  \" i d \" :  8 3 1 0 5 ,  \" n a m e \" :  \" D e b r a  W i l s o n \" ,  \" o r d e r \" :  3 3 } ,  { \" c a s t _ i d \" :  5 7 ,  \" c h a r a c t e r \" :  \" T r o u p e \" ,  \" c r e d i t _ i d \" :  \" 5 2 f e 4 8 0 0 9 2 5 1 4 1 6 c 7 5 0 a c a b b \" ,  \" g e n d e r \" :  0 ,  \" i d \" :  1 2 0 7 2 5 3 ,  \" n a m e \" :  \" C h r i s  M a l a \" ,  \" o r d e r \" :  3 4 } ,  { \" c a s t _ i d \" :  5 5 ,  \" c h a r a c t e r \" :  \" T r o u p e \" ,  \" c r e d i t _ i d \" :  \" 5 2 f e 4 8 0 0 9 2 5 1 4 1 6 c 7 5 0 a c a b 3 \" ,  \" g e n d e r \" :  0 ,  \" i d \" :  1 2 0 7 2 5 1 ,  \" n a m e \" :  \" T a y l o r  K i b b y \" ,  \" o r d e r \" :  3 5 } ,  { \" c a s t _ i d \" :  5 6 ,  \" c h a r a c t e r \" :  \" T r o u p e \" ,  \" c r e d i t _ i d \" :  \" 5 2 f e 4 8 0 0 9 2 5 1 4 1 6 c 7 5 0 a c a b 7 \" ,  \" g e n d e r \" :  0 ,  \" i d \" :  1 2 0 7 2 5 2 ,  \" n a m e \" :  \" J o d i e  L a n d a u \" ,  \" o r d e r \" :  3 6 } ,  { \" c a s t _ i d \" :  5 8 ,  \" c h a r a c t e r \" :  \" T r o u p e \" ,  \" c r e d i t _ i d \" :  \" 5 2 f e 4 8 0 0 9 2 5 1 4 1 6 c 7 5 0 a c a b f \" ,  \" g e n d e r \" :  0 ,  \" i d \" :  1 2 0 7 2 5 4 ,  \" n a m e \" :  \" J u l i e  L a m m \" ,  \" o r d e r \" :  3 7 } ,  { \" c a s t _ i d \" :  5 9 ,  \" c h a r a c t e r \" :  \" T r o u p e \" ,  \" c r e d i t _ i d \" :  \" 5 2 f e 4 8 0 0 9 2 5 1 4 1 6 c 7 5 0 a c a c 3 \" ,  \" g e n d e r \" :  0 ,  \" i d \" :  1 2 0 7 2 5 7 ,  \" n a m e \" :  \" C u l l e n  B .  M a d d e n \" ,  \" o r d e r \" :  3 8 } ,  { \" c a s t _ i d \" :  6 0 ,  \" c h a r a c t e r \" :  \" T r o u p e \" ,  \" c r e d i t _ i d \" :  \" 5 2 f e 4 8 0 0 9 2 5 1 4 1 6 c 7 5 0 a c a c 7 \" ,  \" g e n d e r \" :  0 ,  \" i d \" :  1 2 0 7 2 5 9 ,  \" n a m e \" :  \" J o s e p h  B r a d y  M a d d e n \" ,  \" o r d e r \" :  3 9 } ,  { \" c a s t _ i d \" :  6 1 ,  \" c h a r a c t e r \" :  \" T r o u p e \" ,  \" c r e d i t _ i d \" :  \" 5 2 f e 4 8 0 0 9 2 5 1 4 1 6 c 7 5 0 a c a c b \" ,  \" g e n d e r \" :  0 ,  \" i d \" :  1 2 0 7 2 6 2 ,  \" n a m e \" :  \" F r a n k i e  T o r r e s \" ,  \" o r d e r \" :  4 0 } ,  { \" c a s t _ i d \" :  6 2 ,  \" c h a r a c t e r \" :  \" T r o u p e \" ,  \" c r e d i t _ i d \" :  \" 5 2 f e 4 8 0 0 9 2 5 1 4 1 6 c 7 5 0 a c a c f \" ,  \" g e n d e r \" :  1 ,  \" i d \" :  1 1 5 8 6 0 0 ,  \" n a m e \" :  \" A u s t i n  W i l s o n \" ,  \" o r d e r \" :  4 1 } ,  { \" c a s t _ i d \" :  6 3 ,  \" c h a r a c t e r \" :  \" T r o u p e \" ,  \" c r e d i t _ i d \" :  \" 5 2 f e 4 8 0 1 9 2 5 1 4 1 6 c 7 5 0 a c a d 3 \" ,  \" g e n d e r \" :  1 ,  \" i d \" :  9 8 3 7 0 5 ,  \" n a m e \" :  \" S a r a  W i l s o n \" ,  \" o r d e r \" :  4 2 } ,  { \" c a s t _ i d \" :  6 4 ,  \" c h a r a c t e r \" :  \" T r o u p e \" ,  \" c r e d i t _ i d \" :  \" 5 2 f e 4 8 0 1 9 2 5 1 4 1 6 c 7 5 0 a c a d 7 \" ,  \" g e n d e r \" :  0 ,  \" i d \" :  1 2 0 7 2 6 3 ,  \" n a m e \" :  \" T a m i c a  W a s h i n g t o n - M i l l e r \" ,  \" o r d e r \" :  4 3 } ,  { \" c a s t _ i d \" :  6 5 ,  \" c h a r a c t e r \" :  \" O p  C e n t e r  S t a f f \" ,  \" c r e d i t _ i d \" :  \" 5 2 f e 4 8 0 1 9 2 5 1 4 1 6 c 7 5 0 a c a d b \" ,  \" g e n d e r \" :  1 ,  \" i d \" :  1 1 4 5 0 9 8 ,  \" n a m e \" :  \" L u c y  B r i a n t \" ,  \" o r d e r \" :  4 4 } ,  { \" c a s t _ i d \" :  6 6 ,  \" c h a r a c t e r \" :  \" O p  C e n t e r  S t a f f \" ,  \" c r e d i t _ i d \" :  \" 5 2 f e 4 8 0 1 9 2 5 1 4 1 6 c 7 5 0 a c a d f \" ,  \" g e n d e r \" :  2 ,  \" i d \" :  3 3 3 0 5 ,  \" n a m e \" :  \" N a t h a n  M e i s t e r \" ,  \" o r d e r \" :  4 5 } ,  { \" c a s t _ i d \" :  6 7 ,  \" c h a r a c t e r \" :  \" O p  C e n t e r  S t a f f \" ,  \" c r e d i t _ i d \" :  \" 5 2 f e 4 8 0 1 9 2 5 1 4 1 6 c 7 5 0 a c a e 3 \" ,  \" g e n d e r \" :  0 ,  \" i d \" :  1 2 0 7 2 6 4 ,  \" n a m e \" :  \" G e r r y  B l a i r \" ,  \" o r d e r \" :  4 6 } ,  { \" c a s t _ i d \" :  6 8 ,  \" c h a r a c t e r \" :  \" O p  C e n t e r  S t a f f \" ,  \" c r e d i t _ i d \" :  \" 5 2 f e 4 8 0 1 9 2 5 1 4 1 6 c 7 5 0 a c a e 7 \" ,  \" g e n d e r \" :  2 ,  \" i d \" :  3 3 3 1 1 ,  \" n a m e \" :  \" M a t t h e w  C h a m b e r l a i n \" ,  \" o r d e r \" :  4 7 } ,  { \" c a s t _ i d \" :  6 9 ,  \" c h a r a c t e r \" :  \" O p  C e n t e r  S t a f f \" ,  \" c r e d i t _ i d \" :  \" 5 2 f e 4 8 0 1 9 2 5 1 4 1 6 c 7 5 0 a c a e b \" ,  \" g e n d e r \" :  0 ,  \" i d \" :  1 2 0 7 2 6 5 ,  \" n a m e \" :  \" P a u l  Y a t e s \" ,  \" o r d e r \" :  4 8 } ,  { \" c a s t _ i d \" :  7 0 ,  \" c h a r a c t e r \" :  \" O p  C e n t e r  D u t y  O f f i c e r \" ,  \" c r e d i t _ i d \" :  \" 5 2 f e 4 8 0 1 9 2 5 1 4 1 6 c 7 5 0 a c a e f \" ,  \" g e n d e r \" :  0 ,  \" i d \" :  1 2 0 7 2 6 6 ,  \" n a m e \" :  \" W r a y  W i l s o n \" ,  \" o r d e r \" :  4 9 } ,  { \" c a s t _ i d \" :  7 1 ,  \" c h a r a c t e r \" :  \" O p  C e n t e r  S t a f f \" ,  \" c r e d i t _ i d \" :  \" 5 2 f e 4 8 0 1 9 2 5 1 4 1 6 c 7 5 0 a c a f 3 \" ,  \" g e n d e r \" :  2 ,  \" i d \" :  5 4 4 9 2 ,  \" n a m e \" :  \" J a m e s  G a y l y n \" ,  \" o r d e r \" :  5 0 } ,  { \" c a s t _ i d \" :  7 2 ,  \" c h a r a c t e r \" :  \" D a n c e r \" ,  \" c r e d i t _ i d \" :  \" 5 2 f e 4 8 0 1 9 2 5 1 4 1 6 c 7 5 0 a c a f 7 \" ,  \" g e n d e r \" :  0 ,  \" i d \" :  1 2 0 7 2 6 7 ,  \" n a m e \" :  \" M e l v i n  L e n o  C l a r k  I I I \" ,  \" o r d e r \" :  5 1 } ,  { \" c a s t _ i d \" :  7 3 ,  \" c h a r a c t e r \" :  \" D a n c e r \" ,  \" c r e d i t _ i d \" :  \" 5 2 f e 4 8 0 1 9 2 5 1 4 1 6 c 7 5 0 a c a f b \" ,  \" g e n d e r \" :  0 ,  \" i d \" :  1 2 0 7 2 6 8 ,  \" n a m e \" :  \" C a r v o n  F u t r e l l \" ,  \" o r d e r \" :  5 2 } ,  { \" c a s t _ i d \" :  7 4 ,  \" c h a r a c t e r \" :  \" D a n c e r \" ,  \" c r e d i t _ i d \" :  \" 5 2 f e 4 8 0 1 9 2 5 1 4 1 6 c 7 5 0 a c a f f \" ,  \" g e n d e r \" :  0 ,  \" i d \" :  1 2 0 7 2 6 9 ,  \" n a m e \" :  \" B r a n d o n  J e l k e s \" ,  \" o r d e r \" :  5 3 } ,  { \" c a s t _ i d \" :  7 5 ,  \" c h a r a c t e r \" :  \" D a n c e r \" ,  \" c r e d i t _ i d \" :  \" 5 2 f e 4 8 0 1 9 2 5 1 4 1 6 c 7 5 0 a c b 0 3 \" ,  \" g e n d e r \" :  0 ,  \" i d \" :  1 2 0 7 2 7 0 ,  \" n a m e \" :  \" M i c a h  M o c h \" ,  \" o r d e r \" :  5 4 } ,  { \" c a s t _ i d \" :  7 6 ,  \" c h a r a c t e r \" :  \" D a n c e r \" ,  \" c r e d i t _ i d \" :  \" 5 2 f e 4 8 0 1 9 2 5 1 4 1 6 c 7 5 0 a c b 0 7 \" ,  \" g e n d e r \" :  0 ,  \" i d \" :  1 2 0 7 2 7 1 ,  \" n a m e \" :  \" H a n n i y a h  M u h a m m a d \" ,  \" o r d e r \" :  5 5 } ,  { \" c a s t _ i d \" :  7 7 ,  \" c h a r a c t e r \" :  \" D a n c e r \" ,  \" c r e d i t _ i d \" :  \" 5 2 f e 4 8 0 1 9 2 5 1 4 1 6 c 7 5 0 a c b 0 b \" ,  \" g e n d e r \" :  0 ,  \" i d \" :  1 2 0 7 2 7 2 ,  \" n a m e \" :  \" C h r i s t o p h e r  N o l e n \" ,  \" o r d e r \" :  5 6 } ,  { \" c a s t _ i d \" :  7 8 ,  \" c h a r a c t e r \" :  \" D a n c e r \" ,  \" c r e d i t _ i d \" :  \" 5 2 f e 4 8 0 1 9 2 5 1 4 1 6 c 7 5 0 a c b 0 f \" ,  \" g e n d e r \" :  0 ,  \" i d \" :  1 2 0 7 2 7 3 ,  \" n a m e \" :  \" C h r i s t a  O l i v e r \" ,  \" o r d e r \" :  5 7 } ,  { \" c a s t _ i d \" :  7 9 ,  \" c h a r a c t e r \" :  \" D a n c e r \" ,  \" c r e d i t _ i d \" :  \" 5 2 f e 4 8 0 1 9 2 5 1 4 1 6 c 7 5 0 a c b 1 3 \" ,  \" g e n d e r \" :  0 ,  \" i d \" :  1 2 0 7 2 7 4 ,  \" n a m e \" :  \" A p r i l  M a r i e  T h o m a s \" ,  \" o r d e r \" :  5 8 } ,  { \" c a s t _ i d \" :  8 0 ,  \" c h a r a c t e r \" :  \" D a n c e r \" ,  \" c r e d i t _ i d \" :  \" 5 2 f e 4 8 0 1 9 2 5 1 4 1 6 c 7 5 0 a c b 1 7 \" ,  \" g e n d e r \" :  0 ,  \" i d \" :  1 2 0 7 2 7 5 ,  \" n a m e \" :  \" B r a v i t a  A .  T h r e a t t \" ,  \" o r d e r \" :  5 9 } ,  { \" c a s t _ i d \" :  8 1 ,  \" c h a r a c t e r \" :  \" M i n i n g  C h i e f  ( u n c r e d i t e d ) \" ,  \" c r e d i t _ i d \" :  \" 5 2 f e 4 8 0 1 9 2 5 1 4 1 6 c 7 5 0 a c b 1 b \" ,  \" g e n d e r \" :  0 ,  \" i d \" :  1 2 0 7 2 7 6 ,  \" n a m e \" :  \" C o l i n  B l e a s d a l e \" ,  \" o r d e r \" :  6 0 } ,  { \" c a s t _ i d \" :  8 2 ,  \" c h a r a c t e r \" :  \" V e t e r a n  M i n e r  ( u n c r e d i t e d ) \" ,  \" c r e d i t _ i d \" :  \" 5 2 f e 4 8 0 1 9 2 5 1 4 1 6 c 7 5 0 a c b 1 f \" ,  \" g e n d e r \" :  0 ,  \" i d \" :  1 0 7 9 6 9 ,  \" n a m e \" :  \" M i k e  B o d n a r \" ,  \" o r d e r \" :  6 1 } ,  { \" c a s t _ i d \" :  8 3 ,  \" c h a r a c t e r \" :  \" R i c h a r d  ( u n c r e d i t e d ) \" ,  \" c r e d i t _ i d \" :  \" 5 2 f e 4 8 0 1 9 2 5 1 4 1 6 c 7 5 0 a c b 2 3 \" ,  \" g e n d e r \" :  0 ,  \" i d \" :  1 2 0 7 2 7 8 ,  \" n a m e \" :  \" M a t t  C l a y t o n \" ,  \" o r d e r \" :  6 2 } ,  { \" c a s t _ i d \" :  8 4 ,  \" c h a r a c t e r \" :  \" N a v \\' i  ( u n c r e d i t e d ) \" ,  \" c r e d i t _ i d \" :  \" 5 2 f e 4 8 0 1 9 2 5 1 4 1 6 c 7 5 0 a c b 2 7 \" ,  \" g e n d e r \" :  1 ,  \" i d \" :  1 4 7 8 9 8 ,  \" n a m e \" :  \" N i c o l e  D i o n n e \" ,  \" o r d e r \" :  6 3 } ,  { \" c a s t _ i d \" :  8 5 ,  \" c h a r a c t e r \" :  \" T r o o p e r  ( u n c r e d i t e d ) \" ,  \" c r e d i t _ i d \" :  \" 5 2 f e 4 8 0 1 9 2 5 1 4 1 6 c 7 5 0 a c b 2 b \" ,  \" g e n d e r \" :  0 ,  \" i d \" :  1 2 0 7 2 8 0 ,  \" n a m e \" :  \" J a m i e  H a r r i s o n \" ,  \" o r d e r \" :  6 4 } ,  { \" c a s t _ i d \" :  8 6 ,  \" c h a r a c t e r \" :  \" T r o o p e r  ( u n c r e d i t e d ) \" ,  \" c r e d i t _ i d \" :  \" 5 2 f e 4 8 0 1 9 2 5 1 4 1 6 c 7 5 0 a c b 2 f \" ,  \" g e n d e r \" :  0 ,  \" i d \" :  1 2 0 7 2 8 1 ,  \" n a m e \" :  \" A l l a n  H e n r y \" ,  \" o r d e r \" :  6 5 } ,  { \" c a s t _ i d \" :  8 7 ,  \" c h a r a c t e r \" :  \" G r o u n d  T e c h n i c i a n  ( u n c r e d i t e d ) \" ,  \" c r e d i t _ i d \" :  \" 5 2 f e 4 8 0 1 9 2 5 1 4 1 6 c 7 5 0 a c b 3 3 \" ,  \" g e n d e r \" :  2 ,  \" i d \" :  1 2 0 7 2 8 2 ,  \" n a m e \" :  \" A n t h o n y  I n g r u b e r \" ,  \" o r d e r \" :  6 6 } ,  { \" c a s t _ i d \" :  8 8 ,  \" c h a r a c t e r \" :  \" F l i g h t  C r e w  M e c h a n i c  ( u n c r e d i t e d ) \" ,  \" c r e d i t _ i d \" :  \" 5 2 f e 4 8 0 1 9 2 5 1 4 1 6 c 7 5 0 a c b 3 7 \" ,  \" g e n d e r \" :  0 ,  \" i d \" :  1 2 0 7 2 8 3 ,  \" n a m e \" :  \" A s h l e y  J e f f e r y \" ,  \" o r d e r \" :  6 7 } ,  { \" c a s t _ i d \" :  1 4 ,  \" c h a r a c t e r \" :  \" S a m s o n  P i l o t \" ,  \" c r e d i t _ i d \" :  \" 5 2 f e 4 8 0 0 9 2 5 1 4 1 6 c 7 5 0 a c 9 f 9 \" ,  \" g e n d e r \" :  0 ,  \" i d \" :  9 8 2 1 6 ,  \" n a m e \" :  \" D e a n  K n o w s l e y \" ,  \" o r d e r \" :  6 8 } ,  { \" c a s t _ i d \" :  8 9 ,  \" c h a r a c t e r \" :  \" T r o o p e r  ( u n c r e d i t e d ) \" ,  \" c r e d i t _ i d \" :  \" 5 2 f e 4 8 0 1 9 2 5 1 4 1 6 c 7 5 0 a c b 3 b \" ,  \" g e n d e r \" :  0 ,  \" i d \" :  1 2 0 1 3 9 9 ,  \" n a m e \" :  \" J o s e p h  M i k a - H u n t \" ,  \" o r d e r \" :  6 9 } ,  { \" c a s t _ i d \" :  9 0 ,  \" c h a r a c t e r \" :  \" B a n s h e e  ( u n c r e d i t e d ) \" ,  \" c r e d i t _ i d \" :  \" 5 2 f e 4 8 0 1 9 2 5 1 4 1 6 c 7 5 0 a c b 3 f \" ,  \" g e n d e r \" :  0 ,  \" i d \" :  2 3 6 6 9 6 ,  \" n a m e \" :  \" T e r r y  N o t a r y \" ,  \" o r d e r \" :  7 0 } ,  { \" c a s t _ i d \" :  9 1 ,  \" c h a r a c t e r \" :  \" S o l d i e r  ( u n c r e d i t e d ) \" ,  \" c r e d i t _ i d \" :  \" 5 2 f e 4 8 0 1 9 2 5 1 4 1 6 c 7 5 0 a c b 4 3 \" ,  \" g e n d e r \" :  0 ,  \" i d \" :  1 2 0 7 2 8 7 ,  \" n a m e \" :  \" K a i  P a n t a n o \" ,  \" o r d e r \" :  7 1 } ,  { \" c a s t _ i d \" :  9 2 ,  \" c h a r a c t e r \" :  \" B l a s t  T e c h n i c i a n  ( u n c r e d i t e d ) \" ,  \" c r e d i t _ i d \" :  \" 5 2 f e 4 8 0 1 9 2 5 1 4 1 6 c 7 5 0 a c b 4 7 \" ,  \" g e n d e r \" :  0 ,  \" i d \" :  1 2 0 7 2 8 8 ,  \" n a m e \" :  \" L o g a n  P i t h y o u \" ,  \" o r d e r \" :  7 2 } ,  { \" c a s t _ i d \" :  9 3 ,  \" c h a r a c t e r \" :  \" V i n d u m  R a a h  ( u n c r e d i t e d ) \" ,  \" c r e d i t _ i d \" :  \" 5 2 f e 4 8 0 1 9 2 5 1 4 1 6 c 7 5 0 a c b 4 b \" ,  \" g e n d e r \" :  0 ,  \" i d \" :  1 2 0 7 2 8 9 ,  \" n a m e \" :  \" S t u a r t  P o l l o c k \" ,  \" o r d e r \" :  7 3 } ,  { \" c a s t _ i d \" :  9 4 ,  \" c h a r a c t e r \" :  \" H e r o  ( u n c r e d i t e d ) \" ,  \" c r e d i t _ i d \" :  \" 5 2 f e 4 8 0 1 9 2 5 1 4 1 6 c 7 5 0 a c b 4 f \" ,  \" g e n d e r \" :  0 ,  \" i d \" :  5 8 4 8 6 8 ,  \" n a m e \" :  \" R a j a \" ,  \" o r d e r \" :  7 4 } ,  { \" c a s t _ i d \" :  9 5 ,  \" c h a r a c t e r \" :  \" O p s  C e n t r e w o r k e r  ( u n c r e d i t e d ) \" ,  \" c r e d i t _ i d \" :  \" 5 2 f e 4 8 0 1 9 2 5 1 4 1 6 c 7 5 0 a c b 5 3 \" ,  \" g e n d e r \" :  0 ,  \" i d \" :  1 2 0 7 2 9 0 ,  \" n a m e \" :  \" G a r e t h  R u c k \" ,  \" o r d e r \" :  7 5 } ,  { \" c a s t _ i d \" :  9 6 ,  \" c h a r a c t e r \" :  \" E n g i n e e r  ( u n c r e d i t e d ) \" ,  \" c r e d i t _ i d \" :  \" 5 2 f e 4 8 0 1 9 2 5 1 4 1 6 c 7 5 0 a c b 5 7 \" ,  \" g e n d e r \" :  0 ,  \" i d \" :  1 0 6 2 4 6 3 ,  \" n a m e \" :  \" R h i a n  S h e e h a n \" ,  \" o r d e r \" :  7 6 } ,  { \" c a s t _ i d \" :  9 7 ,  \" c h a r a c t e r \" :  \" C o l .  Q u a r i t c h \\' s  M e c h  S u i t  ( u n c r e d i t e d ) \" ,  \" c r e d i t _ i d \" :  \" 5 2 f e 4 8 0 1 9 2 5 1 4 1 6 c 7 5 0 a c b 5 b \" ,  \" g e n d e r \" :  0 ,  \" i d \" :  6 0 6 5 6 ,  \" n a m e \" :  \" T .  J .  S t o r m \" ,  \" o r d e r \" :  7 7 } ,  { \" c a s t _ i d \" :  9 8 ,  \" c h a r a c t e r \" :  \" F e m a l e  M a r i n e  ( u n c r e d i t e d ) \" ,  \" c r e d i t _ i d \" :  \" 5 2 f e 4 8 0 1 9 2 5 1 4 1 6 c 7 5 0 a c b 5 f \" ,  \" g e n d e r \" :  0 ,  \" i d \" :  1 2 0 7 2 9 1 ,  \" n a m e \" :  \" J o d i e  T a y l o r \" ,  \" o r d e r \" :  7 8 } ,  { \" c a s t _ i d \" :  9 9 ,  \" c h a r a c t e r \" :  \" I k r a n  C l a n  L e a d e r  ( u n c r e d i t e d ) \" ,  \" c r e d i t _ i d \" :  \" 5 2 f e 4 8 0 1 9 2 5 1 4 1 6 c 7 5 0 a c b 6 3 \" ,  \" g e n d e r \" :  1 ,  \" i d \" :  1 1 8 6 0 2 7 ,  \" n a m e \" :  \" A l i c i a  V e l a - B a i l e y \" ,  \" o r d e r \" :  7 9 } ,  { \" c a s t _ i d \" :  1 0 0 ,  \" c h a r a c t e r \" :  \" G e o l o g i s t  ( u n c r e d i t e d ) \" ,  \" c r e d i t _ i d \" :  \" 5 2 f e 4 8 0 1 9 2 5 1 4 1 6 c 7 5 0 a c b 6 7 \" ,  \" g e n d e r \" :  0 ,  \" i d \" :  1 2 0 7 2 9 2 ,  \" n a m e \" :  \" R i c h a r d  W h i t e s i d e \" ,  \" o r d e r \" :  8 0 } ,  { \" c a s t _ i d \" :  1 0 1 ,  \" c h a r a c t e r \" :  \" N a \\' v i  ( u n c r e d i t e d ) \" ,  \" c r e d i t _ i d \" :  \" 5 2 f e 4 8 0 1 9 2 5 1 4 1 6 c 7 5 0 a c b 6 b \" ,  \" g e n d e r \" :  0 ,  \" i d \" :  1 0 3 2 5 9 ,  \" n a m e \" :  \" N i k i e  Z a m b o \" ,  \" o r d e r \" :  8 1 } ,  { \" c a s t _ i d \" :  1 0 2 ,  \" c h a r a c t e r \" :  \" A m b i e n t  R o o m  T e c h  /  T r o u p e \" ,  \" c r e d i t _ i d \" :  \" 5 2 f e 4 8 0 1 9 2 5 1 4 1 6 c 7 5 0 a c b 6 f \" ,  \" g e n d e r \" :  1 ,  \" i d \" :  4 2 2 8 6 ,  \" n a m e \" :  \" J u l e n e  R e n e e \" ,  \" o r d e r \" :  8 2 } ] [ { \" c r e d i t _ i d \" :  \" 5 2 f e 4 8 0 0 9 2 5 1 4 1 6 c 7 5 0 a c a 2 3 \" ,  \" d e p a r t m e n t \" :  \" E d i t i n g \" ,  \" g e n d e r \" :  0 ,  \" i d \" :  1 7 2 1 ,  \" j o b \" :  \" E d i t o r \" ,  \" n a m e \" :  \" S t e p h e n  E .  R i v k i n \" } ,  { \" c r e d i t _ i d \" :  \" 5 3 9 c 4 7 e c c 3 a 3 6 8 1 0 e 3 0 0 1 f 8 7 \" ,  \" d e p a r t m e n t \" :  \" A r t \" ,  \" g e n d e r \" :  2 ,  \" i d \" :  4 9 6 ,  \" j o b \" :  \" P r o d u c t i o n  D e s i g n \" ,  \" n a m e \" :  \" R i c k  C a r t e r \" } ,  { \" c r e d i t _ i d \" :  \" 5 4 4 9 1 c 8 9 c 3 a 3 6 8 0 f b 4 0 0 1 c f 7 \" ,  \" d e p a r t m e n t \" :  \" S o u n d \" ,  \" g e n d e r \" :  0 ,  \" i d \" :  9 0 0 ,  \" j o b \" :  \" S o u n d  D e s i g n e r \" ,  \" n a m e \" :  \" C h r i s t o p h e r  B o y e s \" } ,  { \" c r e d i t _ i d \" :  \" 5 4 4 9 1 c b 7 0 e 0 a 2 6 7 4 8 0 0 0 1 b d 0 \" ,  \" d e p a r t m e n t \" :  \" S o u n d \" ,  \" g e n d e r \" :  0 ,  \" i d \" :  9 0 0 ,  \" j o b \" :  \" S u p e r v i s i n g  S o u n d  E d i t o r \" ,  \" n a m e \" :  \" C h r i s t o p h e r  B o y e s \" } ,  { \" c r e d i t _ i d \" :  \" 5 3 9 c 4 a 4 c c 3 a 3 6 8 1 0 c 9 0 0 2 1 0 1 \" ,  \" d e p a r t m e n t \" :  \" P r o d u c t i o n \" ,  \" g e n d e r \" :  1 ,  \" i d \" :  1 2 6 2 ,  \" j o b \" :  \" C a s t i n g \" ,  \" n a m e \" :  \" M a l i  F i n n \" } ,  { \" c r e d i t _ i d \" :  \" 5 5 4 4 e e 3 b 9 2 5 1 4 1 4 9 9 f 0 0 0 8 f c \" ,  \" d e p a r t m e n t \" :  \" S o u n d \" ,  \" g e n d e r \" :  2 ,  \" i d \" :  1 7 2 9 ,  \" j o b \" :  \" O r i g i n a l  M u s i c  C o m p o s e r \" ,  \" n a m e \" :  \" J a m e s  H o r n e r \" } ,  { \" c r e d i t _ i d \" :  \" 5 2 f e 4 8 0 0 9 2 5 1 4 1 6 c 7 5 0 a c 9 c 3 \" ,  \" d e p a r t m e n t \" :  \" D i r e c t i n g \" ,  \" g e n d e r \" :  2 ,  \" i d \" :  2 7 1 0 ,  \" j o b \" :  \" D i r e c t o r \" ,  \" n a m e \" :  \" J a m e s  C a m e r o n \" } ,  { \" c r e d i t _ i d \" :  \" 5 2 f e 4 8 0 0 9 2 5 1 4 1 6 c 7 5 0 a c 9 d 9 \" ,  \" d e p a r t m e n t \" :  \" W r i t i n g \" ,  \" g e n d e r \" :  2 ,  \" i d \" :  2 7 1 0 ,  \" j o b \" :  \" W r i t e r \" ,  \" n a m e \" :  \" J a m e s  C a m e r o n \" } ,  { \" c r e d i t _ i d \" :  \" 5 2 f e 4 8 0 0 9 2 5 1 4 1 6 c 7 5 0 a c a 1 7 \" ,  \" d e p a r t m e n t \" :  \" E d i t i n g \" ,  \" g e n d e r \" :  2 ,  \" i d \" :  2 7 1 0 ,  \" j o b \" :  \" E d i t o r \" ,  \" n a m e \" :  \" J a m e s  C a m e r o n \" } ,  { \" c r e d i t _ i d \" :  \" 5 2 f e 4 8 0 0 9 2 5 1 4 1 6 c 7 5 0 a c a 2 9 \" ,  \" d e p a r t m e n t \" :  \" P r o d u c t i o n \" ,  \" g e n d e r \" :  2 ,  \" i d \" :  2 7 1 0 ,  \" j o b \" :  \" P r o d u c e r \" ,  \" n a m e \" :  \" J a m e s  C a m e r o n \" } ,  { \" c r e d i t _ i d \" :  \" 5 2 f e 4 8 0 0 9 2 5 1 4 1 6 c 7 5 0 a c a 3 f \" ,  \" d e p a r t m e n t \" :  \" W r i t i n g \" ,  \" g e n d e r \" :  2 ,  \" i d \" :  2 7 1 0 ,  \" j o b \" :  \" S c r e e n p l a y \" ,  \" n a m e \" :  \" J a m e s  C a m e r o n \" } ,  { \" c r e d i t _ i d \" :  \" 5 3 9 c 4 9 8 7 c 3 a 3 6 8 1 0 b a 0 0 2 1 a 4 \" ,  \" d e p a r t m e n t \" :  \" A r t \" ,  \" g e n d e r \" :  2 ,  \" i d \" :  7 2 3 6 ,  \" j o b \" :  \" A r t  D i r e c t i o n \" ,  \" n a m e \" :  \" A n d r e w  M e n z i e s \" } ,  { \" c r e d i t _ i d \" :  \" 5 4 9 5 9 8 c 3 c 3 a 3 6 8 6 a e 9 0 0 4 3 8 3 \" ,  \" d e p a r t m e n t \" :  \" V i s u a l  E f f e c t s \" ,  \" g e n d e r \" :  0 ,  \" i d \" :  6 6 9 0 ,  \" j o b \" :  \" V i s u a l  E f f e c t s  P r o d u c e r \" ,  \" n a m e \" :  \" J i l l  B r o o k s \" } ,  { \" c r e d i t _ i d \" :  \" 5 2 f e 4 8 0 0 9 2 5 1 4 1 6 c 7 5 0 a c a 4 b \" ,  \" d e p a r t m e n t \" :  \" P r o d u c t i o n \" ,  \" g e n d e r \" :  1 ,  \" i d \" :  6 3 4 7 ,  \" j o b \" :  \" C a s t i n g \" ,  \" n a m e \" :  \" M a r g e r y  S i m k i n \" } ,  { \" c r e d i t _ i d \" :  \" 5 7 0 b 6 f 4 1 9 2 5 1 4 1 7 d a 7 0 0 3 2 f e \" ,  \" d e p a r t m e n t \" :  \" A r t \" ,  \" g e n d e r \" :  2 ,  \" i d \" :  6 8 7 8 ,  \" j o b \" :  \" S u p e r v i s i n g  A r t  D i r e c t o r \" ,  \" n a m e \" :  \" K e v i n  I s h i o k a \" } ,  { \" c r e d i t _ i d \" :  \" 5 4 9 5 a 0 f a c 3 a 3 6 8 6 a e 9 0 0 4 4 6 8 \" ,  \" d e p a r t m e n t \" :  \" S o u n d \" ,  \" g e n d e r \" :  0 ,  \" i d \" :  6 8 8 3 ,  \" j o b \" :  \" M u s i c  E d i t o r \" ,  \" n a m e \" :  \" D i c k  B e r n s t e i n \" } ,  { \" c r e d i t _ i d \" :  \" 5 4 9 5 9 7 0 6 c 3 a 3 6 8 6 a f 3 0 0 3 e 8 1 \" ,  \" d e p a r t m e n t \" :  \" S o u n d \" ,  \" g e n d e r \" :  0 ,  \" i d \" :  8 1 5 9 ,  \" j o b \" :  \" S o u n d  E f f e c t s  E d i t o r \" ,  \" n a m e \" :  \" S h a n n o n  M i l l s \" } ,  { \" c r e d i t _ i d \" :  \" 5 4 4 9 1 d 5 8 c 3 a 3 6 8 0 f b 1 0 0 1 c c b \" ,  \" d e p a r t m e n t \" :  \" S o u n d \" ,  \" g e n d e r \" :  0 ,  \" i d \" :  8 1 6 0 ,  \" j o b \" :  \" F o l e y \" ,  \" n a m e \" :  \" D e n n i e  T h o r p e \" } ,  { \" c r e d i t _ i d \" :  \" 5 4 4 9 1 d 6 c c 3 a 3 6 8 0 f a 5 0 0 1 b 2 c \" ,  \" d e p a r t m e n t \" :  \" S o u n d \" ,  \" g e n d e r \" :  0 ,  \" i d \" :  8 1 6 3 ,  \" j o b \" :  \" F o l e y \" ,  \" n a m e \" :  \" J a n a  V a n c e \" } ,  { \" c r e d i t _ i d \" :  \" 5 2 f e 4 8 0 0 9 2 5 1 4 1 6 c 7 5 0 a c a 5 7 \" ,  \" d e p a r t m e n t \" :  \" C o s t u m e  &  M a k e - U p \" ,  \" g e n d e r \" :  1 ,  \" i d \" :  8 5 2 7 ,  \" j o b \" :  \" C o s t u m e  D e s i g n \" ,  \" n a m e \" :  \" D e b o r a h  L y n n  S c o t t \" } ,  { \" c r e d i t _ i d \" :  \" 5 2 f e 4 8 0 0 9 2 5 1 4 1 6 c 7 5 0 a c a 2 f \" ,  \" d e p a r t m e n t \" :  \" P r o d u c t i o n \" ,  \" g e n d e r \" :  2 ,  \" i d \" :  8 5 2 9 ,  \" j o b \" :  \" P r o d u c e r \" ,  \" n a m e \" :  \" J o n  L a n d a u \" } ,  { \" c r e d i t _ i d \" :  \" 5 3 9 c 4 9 3 7 c 3 a 3 6 8 1 0 b a 0 0 2 1 9 4 \" ,  \" d e p a r t m e n t \" :  \" A r t \" ,  \" g e n d e r \" :  0 ,  \" i d \" :  9 6 1 8 ,  \" j o b \" :  \" A r t  D i r e c t i o n \" ,  \" n a m e \" :  \" S e a n  H a w o r t h \" } ,  { \" c r e d i t _ i d \" :  \" 5 3 9 c 4 9 b 6 c 3 a 3 6 8 1 0 c 1 0 0 2 0 e 6 \" ,  \" d e p a r t m e n t \" :  \" A r t \" ,  \" g e n d e r \" :  1 ,  \" i d \" :  1 2 6 5 3 ,  \" j o b \" :  \" S e t  D e c o r a t i o n \" ,  \" n a m e \" :  \" K i m  S i n c l a i r \" } ,  { \" c r e d i t _ i d \" :  \" 5 7 0 b 6 f 2 f 9 2 5 1 4 1 3 a 0 e 0 0 0 2 0 d \" ,  \" d e p a r t m e n t \" :  \" A r t \" ,  \" g e n d e r \" :  1 ,  \" i d \" :  1 2 6 5 3 ,  \" j o b \" :  \" S u p e r v i s i n g  A r t  D i r e c t o r \" ,  \" n a m e \" :  \" K i m  S i n c l a i r \" } ,  { \" c r e d i t _ i d \" :  \" 5 4 4 9 1 a 6 c 0 e 0 a 2 6 7 4 8 c 0 0 1 b 1 9 \" ,  \" d e p a r t m e n t \" :  \" A r t \" ,  \" g e n d e r \" :  2 ,  \" i d \" :  1 4 3 5 0 ,  \" j o b \" :  \" S e t  D e s i g n e r \" ,  \" n a m e \" :  \" R i c h a r d  F .  M a y s \" } ,  { \" c r e d i t _ i d \" :  \" 5 6 9 2 8 c f 4 c 3 a 3 6 8 4 c f f 0 0 2 5 c 4 \" ,  \" d e p a r t m e n t \" :  \" P r o d u c t i o n \" ,  \" g e n d e r \" :  1 ,  \" i d \" :  2 0 2 9 4 ,  \" j o b \" :  \" E x e c u t i v e  P r o d u c e r \" ,  \" n a m e \" :  \" L a e t a  K a l o g r i d i s \" } ,  { \" c r e d i t _ i d \" :  \" 5 2 f e 4 8 0 0 9 2 5 1 4 1 6 c 7 5 0 a c a 5 1 \" ,  \" d e p a r t m e n t \" :  \" C o s t u m e  &  M a k e - U p \" ,  \" g e n d e r \" :  0 ,  \" i d \" :  1 7 6 7 5 ,  \" j o b \" :  \" C o s t u m e  D e s i g n \" ,  \" n a m e \" :  \" M a y e s  C .  R u b e o \" } ,  { \" c r e d i t _ i d \" :  \" 5 2 f e 4 8 0 0 9 2 5 1 4 1 6 c 7 5 0 a c a 1 1 \" ,  \" d e p a r t m e n t \" :  \" C a m e r a \" ,  \" g e n d e r \" :  2 ,  \" i d \" :  1 8 2 6 5 ,  \" j o b \" :  \" D i r e c t o r  o f  P h o t o g r a p h y \" ,  \" n a m e \" :  \" M a u r o  F i o r e \" } ,  { \" c r e d i t _ i d \" :  \" 5 4 4 9 1 9 4 d 0 e 0 a 2 6 7 4 8 f 0 0 1 b 3 9 \" ,  \" d e p a r t m e n t \" :  \" A r t \" ,  \" g e n d e r \" :  0 ,  \" i d \" :  4 2 2 8 1 ,  \" j o b \" :  \" S e t  D e s i g n e r \" ,  \" n a m e \" :  \" S c o t t  H e r b e r t s o n \" } ,  { \" c r e d i t _ i d \" :  \" 5 2 f e 4 8 0 0 9 2 5 1 4 1 6 c 7 5 0 a c a 0 5 \" ,  \" d e p a r t m e n t \" :  \" C r e w \" ,  \" g e n d e r \" :  0 ,  \" i d \" :  4 2 2 8 8 ,  \" j o b \" :  \" S t u n t s \" ,  \" n a m e \" :  \" W o o d y  S c h u l t z \" } ,  { \" c r e d i t _ i d \" :  \" 5 5 9 2 a e f b 9 2 5 1 4 1 5 2 d e 0 0 1 0 f 5 \" ,  \" d e p a r t m e n t \" :  \" C o s t u m e  &  M a k e - U p \" ,  \" g e n d e r \" :  0 ,  \" i d \" :  2 9 0 6 7 ,  \" j o b \" :  \" M a k e u p  A r t i s t \" ,  \" n a m e \" :  \" L i n d a  D e V e t t a \" } ,  { \" c r e d i t _ i d \" :  \" 5 5 9 2 a f a 4 9 2 5 1 4 1 5 2 d e 0 0 1 1 2 c \" ,  \" d e p a r t m e n t \" :  \" C o s t u m e  &  M a k e - U p \" ,  \" g e n d e r \" :  0 ,  \" i d \" :  2 9 0 6 7 ,  \" j o b \" :  \" H a i r s t y l i s t \" ,  \" n a m e \" :  \" L i n d a  D e V e t t a \" } ,  { \" c r e d i t _ i d \" :  \" 5 4 9 5 9 e d 5 9 2 5 1 4 1 3 0 f c 0 0 2 e 5 d \" ,  \" d e p a r t m e n t \" :  \" C a m e r a \" ,  \" g e n d e r \" :  2 ,  \" i d \" :  3 3 3 0 2 ,  \" j o b \" :  \" C a m e r a  O p e r a t o r \" ,  \" n a m e \" :  \" R i c h a r d  B l u c k \" } ,  { \" c r e d i t _ i d \" :  \" 5 3 9 c 4 8 9 1 c 3 a 3 6 8 1 0 b a 0 0 2 1 4 7 \" ,  \" d e p a r t m e n t \" :  \" A r t \" ,  \" g e n d e r \" :  2 ,  \" i d \" :  3 3 3 0 3 ,  \" j o b \" :  \" A r t  D i r e c t i o n \" ,  \" n a m e \" :  \" S i m o n  B r i g h t \" } ,  { \" c r e d i t _ i d \" :  \" 5 4 9 5 9 c 0 6 9 2 5 1 4 1 7 a 8 1 0 0 1 f 3 a \" ,  \" d e p a r t m e n t \" :  \" V i s u a l  E f f e c t s \" ,  \" g e n d e r \" :  0 ,  \" i d \" :  1 1 3 1 4 5 ,  \" j o b \" :  \" V i s u a l  E f f e c t s  S u p e r v i s o r \" ,  \" n a m e \" :  \" R i c h a r d  M a r t i n \" } ,  { \" c r e d i t _ i d \" :  \" 5 4 9 5 9 a 0 d c 3 a 3 6 8 0 f f 5 0 0 2 c 8 d \" ,  \" d e p a r t m e n t \" :  \" C r e w \" ,  \" g e n d e r \" :  2 ,  \" i d \" :  5 8 1 8 8 ,  \" j o b \" :  \" V i s u a l  E f f e c t s  E d i t o r \" ,  \" n a m e \" :  \" S t e v e  R .  M o o r e \" } ,  { \" c r e d i t _ i d \" :  \" 5 2 f e 4 8 0 0 9 2 5 1 4 1 6 c 7 5 0 a c a 1 d \" ,  \" d e p a r t m e n t \" :  \" E d i t i n g \" ,  \" g e n d e r \" :  2 ,  \" i d \" :  5 8 8 7 1 ,  \" j o b \" :  \" E d i t o r \" ,  \" n a m e \" :  \" J o h n  R e f o u a \" } ,  { \" c r e d i t _ i d \" :  \" 5 4 4 9 1 a 4 d c 3 a 3 6 8 0 f c 3 0 0 1 8 c a \" ,  \" d e p a r t m e n t \" :  \" A r t \" ,  \" g e n d e r \" :  0 ,  \" i d \" :  9 2 3 5 9 ,  \" j o b \" :  \" S e t  D e s i g n e r \" ,  \" n a m e \" :  \" K a r l  J .  M a r t i n \" } ,  { \" c r e d i t _ i d \" :  \" 5 2 f e 4 8 0 0 9 2 5 1 4 1 6 c 7 5 0 a c a 3 5 \" ,  \" d e p a r t m e n t \" :  \" C a m e r a \" ,  \" g e n d e r \" :  1 ,  \" i d \" :  7 2 2 0 1 ,  \" j o b \" :  \" D i r e c t o r  o f  P h o t o g r a p h y \" ,  \" n a m e \" :  \" C h i l i n g  L i n \" } ,  { \" c r e d i t _ i d \" :  \" 5 2 f e 4 8 0 0 9 2 5 1 4 1 6 c 7 5 0 a c 9 f f \" ,  \" d e p a r t m e n t \" :  \" C r e w \" ,  \" g e n d e r \" :  0 ,  \" i d \" :  8 9 7 1 4 ,  \" j o b \" :  \" S t u n t s \" ,  \" n a m e \" :  \" I l r a m  C h o i \" } ,  { \" c r e d i t _ i d \" :  \" 5 4 9 5 9 c 5 2 9 2 5 1 4 1 6 e 2 b 0 0 4 3 9 4 \" ,  \" d e p a r t m e n t \" :  \" V i s u a l  E f f e c t s \" ,  \" g e n d e r \" :  2 ,  \" i d \" :  9 3 2 1 4 ,  \" j o b \" :  \" V i s u a l  E f f e c t s  S u p e r v i s o r \" ,  \" n a m e \" :  \" S t e v e n  Q u a l e \" } ,  { \" c r e d i t _ i d \" :  \" 5 4 4 9 1 e d f 0 e 0 a 2 6 7 4 8 9 0 0 1 c 3 7 \" ,  \" d e p a r t m e n t \" :  \" C r e w \" ,  \" g e n d e r \" :  1 ,  \" i d \" :  1 2 2 6 0 7 ,  \" j o b \" :  \" D i a l e c t  C o a c h \" ,  \" n a m e \" :  \" C a r l a  M e y e r \" } ,  { \" c r e d i t _ i d \" :  \" 5 3 9 c 4 8 5 b c 3 a 3 6 8 6 5 3 d 0 0 1 a 3 a \" ,  \" d e p a r t m e n t \" :  \" A r t \" ,  \" g e n d e r \" :  2 ,  \" i d \" :  1 3 2 5 8 5 ,  \" j o b \" :  \" A r t  D i r e c t i o n \" ,  \" n a m e \" :  \" N i c k  B a s s e t t \" } ,  { \" c r e d i t _ i d \" :  \" 5 3 9 c 4 9 0 3 c 3 a 3 6 8 6 5 3 d 0 0 1 a 7 4 \" ,  \" d e p a r t m e n t \" :  \" A r t \" ,  \" g e n d e r \" :  0 ,  \" i d \" :  1 3 2 5 9 6 ,  \" j o b \" :  \" A r t  D i r e c t i o n \" ,  \" n a m e \" :  \" J i l l  C o r m a c k \" } ,  { \" c r e d i t _ i d \" :  \" 5 3 9 c 4 9 6 7 c 3 a 3 6 8 6 5 3 d 0 0 1 a 9 4 \" ,  \" d e p a r t m e n t \" :  \" A r t \" ,  \" g e n d e r \" :  0 ,  \" i d \" :  1 3 2 6 0 4 ,  \" j o b \" :  \" A r t  D i r e c t i o n \" ,  \" n a m e \" :  \" A n d y  M c L a r e n \" } ,  { \" c r e d i t _ i d \" :  \" 5 2 f e 4 8 0 0 9 2 5 1 4 1 6 c 7 5 0 a c a 4 5 \" ,  \" d e p a r t m e n t \" :  \" C r e w \" ,  \" g e n d e r \" :  0 ,  \" i d \" :  2 3 6 6 9 6 ,  \" j o b \" :  \" M o t i o n  C a p t u r e  A r t i s t \" ,  \" n a m e \" :  \" T e r r y  N o t a r y \" } ,  { \" c r e d i t _ i d \" :  \" 5 4 9 5 9 e 0 2 c 3 a 3 6 8 0 f c 6 0 0 2 7 d 2 \" ,  \" d e p a r t m e n t \" :  \" C r e w \" ,  \" g e n d e r \" :  2 ,  \" i d \" :  9 5 6 1 9 8 ,  \" j o b \" :  \" S t u n t  C o o r d i n a t o r \" ,  \" n a m e \" :  \" G a r r e t t  W a r r e n \" } ,  { \" c r e d i t _ i d \" :  \" 5 4 9 5 9 c a 3 c 3 a 3 6 8 6 a e 3 0 0 4 3 8 c \" ,  \" d e p a r t m e n t \" :  \" V i s u a l  E f f e c t s \" ,  \" g e n d e r \" :  2 ,  \" i d \" :  9 5 7 8 7 4 ,  \" j o b \" :  \" V i s u a l  E f f e c t s  S u p e r v i s o r \" ,  \" n a m e \" :  \" J o n a t h a n  R o t h b a r t \" } ,  { \" c r e d i t _ i d \" :  \" 5 7 0 b 6 f 5 1 9 2 5 1 4 1 2 c 7 4 0 0 1 b 2 f \" ,  \" d e p a r t m e n t \" :  \" A r t \" ,  \" g e n d e r \" :  0 ,  \" i d \" :  9 5 7 8 8 9 ,  \" j o b \" :  \" S u p e r v i s i n g  A r t  D i r e c t o r \" ,  \" n a m e \" :  \" S t e f a n  D e c h a n t \" } ,  { \" c r e d i t _ i d \" :  \" 5 7 0 b 6 f 6 2 c 3 a 3 6 8 0 b 7 7 0 0 7 4 6 0 \" ,  \" d e p a r t m e n t \" :  \" A r t \" ,  \" g e n d e r \" :  2 ,  \" i d \" :  9 5 9 5 5 5 ,  \" j o b \" :  \" S u p e r v i s i n g  A r t  D i r e c t o r \" ,  \" n a m e \" :  \" T o d d  C h e r n i a w s k y \" } ,  { \" c r e d i t _ i d \" :  \" 5 3 9 c 4 a 3 a c 3 a 3 6 8 1 0 d a 0 0 2 1 c c \" ,  \" d e p a r t m e n t \" :  \" P r o d u c t i o n \" ,  \" g e n d e r \" :  0 ,  \" i d \" :  1 0 1 6 1 7 7 ,  \" j o b \" :  \" C a s t i n g \" ,  \" n a m e \" :  \" M i r a n d a  R i v e r s \" } ,  { \" c r e d i t _ i d \" :  \" 5 3 9 c 4 8 2 c c 3 a 3 6 8 1 0 c 1 0 0 2 0 6 2 \" ,  \" d e p a r t m e n t \" :  \" A r t \" ,  \" g e n d e r \" :  0 ,  \" i d \" :  1 0 3 2 5 3 6 ,  \" j o b \" :  \" P r o d u c t i o n  D e s i g n \" ,  \" n a m e \" :  \" R o b e r t  S t r o m b e r g \" } ,  { \" c r e d i t _ i d \" :  \" 5 3 9 c 4 b 6 5 c 3 a 3 6 8 1 0 c 9 0 0 2 1 2 5 \" ,  \" d e p a r t m e n t \" :  \" C o s t u m e  &  M a k e - U p \" ,  \" g e n d e r \" :  2 ,  \" i d \" :  1 0 7 1 6 8 0 ,  \" j o b \" :  \" C o s t u m e  D e s i g n \" ,  \" n a m e \" :  \" J o h n  H a r d i n g \" } ,  { \" c r e d i t _ i d \" :  \" 5 4 9 5 9 e 6 6 9 2 5 1 4 1 3 0 f c 0 0 2 e 4 e \" ,  \" d e p a r t m e n t \" :  \" C a m e r a \" ,  \" g e n d e r \" :  0 ,  \" i d \" :  1 1 7 7 3 6 4 ,  \" j o b \" :  \" S t e a d i c a m  O p e r a t o r \" ,  \" n a m e \" :  \" R o b e r t o  D e  A n g e l i s \" } ,  { \" c r e d i t _ i d \" :  \" 5 3 9 c 4 9 f 1 c 3 a 3 6 8 6 5 3 d 0 0 1 a a c \" ,  \" d e p a r t m e n t \" :  \" C o s t u m e  &  M a k e - U p \" ,  \" g e n d e r \" :  2 ,  \" i d \" :  1 2 0 2 8 5 0 ,  \" j o b \" :  \" M a k e u p  D e p a r t m e n t  H e a d \" ,  \" n a m e \" :  \" M i k e  S m i t h s o n \" } ,  { \" c r e d i t _ i d \" :  \" 5 4 9 5 9 9 9 e c 3 a 3 6 8 6 a e 1 0 0 4 6 0 c \" ,  \" d e p a r t m e n t \" :  \" V i s u a l  E f f e c t s \" ,  \" g e n d e r \" :  0 ,  \" i d \" :  1 2 0 4 6 6 8 ,  \" j o b \" :  \" V i s u a l  E f f e c t s  P r o d u c e r \" ,  \" n a m e \" :  \" A l a i n  L a l a n n e \" } ,  { \" c r e d i t _ i d \" :  \" 5 4 9 5 9 c d f c 3 a 3 6 8 1 1 5 3 0 0 2 7 2 9 \" ,  \" d e p a r t m e n t \" :  \" V i s u a l  E f f e c t s \" ,  \" g e n d e r \" :  0 ,  \" i d \" :  1 2 0 6 4 1 0 ,  \" j o b \" :  \" V i s u a l  E f f e c t s  S u p e r v i s o r \" ,  \" n a m e \" :  \" L u c a s  S a l t o n \" } ,  { \" c r e d i t _ i d \" :  \" 5 4 9 5 9 6 2 3 9 2 5 1 4 1 7 a 8 1 0 0 1 e a e \" ,  \" d e p a r t m e n t \" :  \" C r e w \" ,  \" g e n d e r \" :  0 ,  \" i d \" :  1 2 3 4 2 6 6 ,  \" j o b \" :  \" P o s t  P r o d u c t i o n  S u p e r v i s o r \" ,  \" n a m e \" :  \" J a n a c e  T a s h j i a n \" } ,  { \" c r e d i t _ i d \" :  \" 5 4 9 5 9 c 8 5 9 2 5 1 4 1 6 e 1 e 0 0 3 e f e \" ,  \" d e p a r t m e n t \" :  \" V i s u a l  E f f e c t s \" ,  \" g e n d e r \" :  0 ,  \" i d \" :  1 2 7 1 9 3 2 ,  \" j o b \" :  \" V i s u a l  E f f e c t s  S u p e r v i s o r \" ,  \" n a m e \" :  \" S t e p h e n  R o s e n b a u m \" } ,  { \" c r e d i t _ i d \" :  \" 5 5 9 2 a f 2 8 c 3 a 3 6 8 7 7 5 a 0 0 1 0 5 f \" ,  \" d e p a r t m e n t \" :  \" C o s t u m e  &  M a k e - U p \" ,  \" g e n d e r \" :  0 ,  \" i d \" :  1 3 1 0 0 6 4 ,  \" j o b \" :  \" M a k e u p  A r t i s t \" ,  \" n a m e \" :  \" F r a n k i e  K a r e n a \" } ,  { \" c r e d i t _ i d \" :  \" 5 3 9 c 4 a d f c 3 a 3 6 8 1 0 e 3 0 0 2 0 3 b \" ,  \" d e p a r t m e n t \" :  \" C o s t u m e  &  M a k e - U p \" ,  \" g e n d e r \" :  1 ,  \" i d \" :  1 3 1 9 8 4 4 ,  \" j o b \" :  \" C o s t u m e  S u p e r v i s o r \" ,  \" n a m e \" :  \" L i s a  L o v a a s \" } ,  { \" c r e d i t _ i d \" :  \" 5 4 9 5 9 b 5 7 9 2 5 1 4 1 6 e 2 b 0 0 4 3 7 1 \" ,  \" d e p a r t m e n t \" :  \" V i s u a l  E f f e c t s \" ,  \" g e n d e r \" :  0 ,  \" i d \" :  1 3 2 7 0 2 8 ,  \" j o b \" :  \" V i s u a l  E f f e c t s  S u p e r v i s o r \" ,  \" n a m e \" :  \" J o n a t h a n  F a w k n e r \" } ,  { \" c r e d i t _ i d \" :  \" 5 3 9 c 4 8 a 7 c 3 a 3 6 8 1 0 b 5 0 0 1 f a 7 \" ,  \" d e p a r t m e n t \" :  \" A r t \" ,  \" g e n d e r \" :  0 ,  \" i d \" :  1 3 3 0 5 6 1 ,  \" j o b \" :  \" A r t  D i r e c t i o n \" ,  \" n a m e \" :  \" R o b e r t  B a v i n \" } ,  { \" c r e d i t _ i d \" :  \" 5 3 9 c 4 a 7 1 c 3 a 3 6 8 1 0 d a 0 0 2 1 e 0 \" ,  \" d e p a r t m e n t \" :  \" C o s t u m e  &  M a k e - U p \" ,  \" g e n d e r \" :  0 ,  \" i d \" :  1 3 3 0 5 6 7 ,  \" j o b \" :  \" C o s t u m e  S u p e r v i s o r \" ,  \" n a m e \" :  \" A n t h o n y  A l m a r a z \" } ,  { \" c r e d i t _ i d \" :  \" 5 3 9 c 4 a 8 a c 3 a 3 6 8 1 0 b a 0 0 2 1 e 4 \" ,  \" d e p a r t m e n t \" :  \" C o s t u m e  &  M a k e - U p \" ,  \" g e n d e r \" :  0 ,  \" i d \" :  1 3 3 0 5 7 0 ,  \" j o b \" :  \" C o s t u m e  S u p e r v i s o r \" ,  \" n a m e \" :  \" C a r o l y n  M .  F e n t o n \" } ,  { \" c r e d i t _ i d \" :  \" 5 3 9 c 4 a b 6 c 3 a 3 6 8 1 0 d a 0 0 2 1 f 0 \" ,  \" d e p a r t m e n t \" :  \" C o s t u m e  &  M a k e - U p \" ,  \" g e n d e r \" :  0 ,  \" i d \" :  1 3 3 0 5 7 4 ,  \" j o b \" :  \" C o s t u m e  S u p e r v i s o r \" ,  \" n a m e \" :  \" B e t h  K o e n i g s b e r g \" } ,  { \" c r e d i t _ i d \" :  \" 5 4 4 9 1 a b 7 0 e 0 a 2 6 7 4 8 0 0 0 1 b a 2 \" ,  \" d e p a r t m e n t \" :  \" A r t \" ,  \" g e n d e r \" :  0 ,  \" i d \" :  1 3 3 6 1 9 1 ,  \" j o b \" :  \" S e t  D e s i g n e r \" ,  \" n a m e \" :  \" S a m  P a g e \" } ,  { \" c r e d i t _ i d \" :  \" 5 4 4 9 1 9 d 9 c 3 a 3 6 8 0 f c 3 0 0 1 8 b d \" ,  \" d e p a r t m e n t \" :  \" A r t \" ,  \" g e n d e r \" :  0 ,  \" i d \" :  1 3 3 9 4 4 1 ,  \" j o b \" :  \" S e t  D e s i g n e r \" ,  \" n a m e \" :  \" T e x  K a d o n a g a \" } ,  { \" c r e d i t _ i d \" :  \" 5 4 4 9 1 c f 5 0 e 0 a 2 6 7 4 8 3 0 0 1 b 0 c \" ,  \" d e p a r t m e n t \" :  \" E d i t i n g \" ,  \" g e n d e r \" :  0 ,  \" i d \" :  1 3 5 2 4 2 2 ,  \" j o b \" :  \" D i a l o g u e  E d i t o r \" ,  \" n a m e \" :  \" K i m  F o s c a t o \" } ,  { \" c r e d i t _ i d \" :  \" 5 4 4 9 1 9 f 4 0 e 0 a 2 6 7 4 8 c 0 0 1 b 0 9 \" ,  \" d e p a r t m e n t \" :  \" A r t \" ,  \" g e n d e r \" :  0 ,  \" i d \" :  1 3 5 2 9 6 2 ,  \" j o b \" :  \" S e t  D e s i g n e r \" ,  \" n a m e \" :  \" T a m m y  S .  L e e \" } ,  { \" c r e d i t _ i d \" :  \" 5 4 9 5 a 1 1 5 c 3 a 3 6 8 0 f f 5 0 0 2 d 7 1 \" ,  \" d e p a r t m e n t \" :  \" C r e w \" ,  \" g e n d e r \" :  0 ,  \" i d \" :  1 3 5 7 0 7 0 ,  \" j o b \" :  \" T r a n s p o r t a t i o n  C o o r d i n a t o r \" ,  \" n a m e \" :  \" D e n n y  C a i r a \" } ,  { \" c r e d i t _ i d \" :  \" 5 4 9 5 a 1 2 f 9 2 5 1 4 1 3 0 f c 0 0 2 e 9 4 \" ,  \" d e p a r t m e n t \" :  \" C r e w \" ,  \" g e n d e r \" :  0 ,  \" i d \" :  1 3 5 7 0 7 1 ,  \" j o b \" :  \" T r a n s p o r t a t i o n  C o o r d i n a t o r \" ,  \" n a m e \" :  \" J a m e s  W a i t k u s \" } ,  { \" c r e d i t _ i d \" :  \" 5 4 9 5 9 7 6 f c 3 a 3 6 8 1 1 5 3 0 0 2 6 b 0 \" ,  \" d e p a r t m e n t \" :  \" S o u n d \" ,  \" g e n d e r \" :  0 ,  \" i d \" :  1 3 6 0 1 0 3 ,  \" j o b \" :  \" S u p e r v i s i n g  S o u n d  E d i t o r \" ,  \" n a m e \" :  \" A d d i s o n  T e a g u e \" } ,  { \" c r e d i t _ i d \" :  \" 5 4 4 9 1 8 3 7 c 3 a 3 6 8 0 f b 1 0 0 1 c 5 a \" ,  \" d e p a r t m e n t \" :  \" A r t \" ,  \" g e n d e r \" :  2 ,  \" i d \" :  1 3 7 6 8 8 7 ,  \" j o b \" :  \" S e t  D e s i g n e r \" ,  \" n a m e \" :  \" C .  S c o t t  B a k e r \" } ,  { \" c r e d i t _ i d \" :  \" 5 4 4 9 1 8 7 8 c 3 a 3 6 8 0 f b 4 0 0 1 c 9 d \" ,  \" d e p a r t m e n t \" :  \" A r t \" ,  \" g e n d e r \" :  0 ,  \" i d \" :  1 3 7 6 8 8 8 ,  \" j o b \" :  \" S e t  D e s i g n e r \" ,  \" n a m e \" :  \" L u k e  C a s k a \" } ,  { \" c r e d i t _ i d \" :  \" 5 4 4 9 1 8 d a c 3 a 3 6 8 0 f a 5 0 0 1 a e 0 \" ,  \" d e p a r t m e n t \" :  \" A r t \" ,  \" g e n d e r \" :  0 ,  \" i d \" :  1 3 7 6 8 8 9 ,  \" j o b \" :  \" S e t  D e s i g n e r \" ,  \" n a m e \" :  \" D a v i d  C h o w \" } ,  { \" c r e d i t _ i d \" :  \" 5 4 4 9 1 9 1 1 0 e 0 a 2 6 7 4 8 6 0 0 1 b 6 8 \" ,  \" d e p a r t m e n t \" :  \" A r t \" ,  \" g e n d e r \" :  0 ,  \" i d \" :  1 3 7 6 8 9 0 ,  \" j o b \" :  \" S e t  D e s i g n e r \" ,  \" n a m e \" :  \" J o n a t h a n  D y e r \" } ,  { \" c r e d i t _ i d \" :  \" 5 4 4 9 1 9 6 7 c 3 a 3 6 8 0 f a a 0 0 1 b 5 e \" ,  \" d e p a r t m e n t \" :  \" A r t \" ,  \" g e n d e r \" :  0 ,  \" i d \" :  1 3 7 6 8 9 1 ,  \" j o b \" :  \" S e t  D e s i g n e r \" ,  \" n a m e \" :  \" J o s e p h  H i u r a \" } ,  { \" c r e d i t _ i d \" :  \" 5 4 4 9 1 9 9 7 c 3 a 3 6 8 0 f b 1 0 0 1 c 8 a \" ,  \" d e p a r t m e n t \" :  \" A r t \" ,  \" g e n d e r \" :  0 ,  \" i d \" :  1 3 7 6 8 9 2 ,  \" j o b \" :  \" A r t  D e p a r t m e n t  C o o r d i n a t o r \" ,  \" n a m e \" :  \" R e b e c c a  J e l l i e \" } ,  { \" c r e d i t _ i d \" :  \" 5 4 4 9 1 9 b a 0 e 0 a 2 6 7 4 8 f 0 0 1 b 4 2 \" ,  \" d e p a r t m e n t \" :  \" A r t \" ,  \" g e n d e r \" :  0 ,  \" i d \" :  1 3 7 6 8 9 3 ,  \" j o b \" :  \" S e t  D e s i g n e r \" ,  \" n a m e \" :  \" R o b e r t  A n d r e w  J o h n s o n \" } ,  { \" c r e d i t _ i d \" :  \" 5 4 4 9 1 b 1 d c 3 a 3 6 8 0 f a a 0 0 1 b 8 c \" ,  \" d e p a r t m e n t \" :  \" A r t \" ,  \" g e n d e r \" :  0 ,  \" i d \" :  1 3 7 6 8 9 5 ,  \" j o b \" :  \" A s s i s t a n t  A r t  D i r e c t o r \" ,  \" n a m e \" :  \" M i k e  S t a s s i \" } ,  { \" c r e d i t _ i d \" :  \" 5 4 4 9 1 b 7 9 c 3 a 3 6 8 0 f b b 0 0 1 8 2 6 \" ,  \" d e p a r t m e n t \" :  \" A r t \" ,  \" g e n d e r \" :  0 ,  \" i d \" :  1 3 7 6 8 9 7 ,  \" j o b \" :  \" C o n s t r u c t i o n  C o o r d i n a t o r \" ,  \" n a m e \" :  \" J o h n  V i l l a r i n o \" } ,  { \" c r e d i t _ i d \" :  \" 5 4 4 9 1 b a e c 3 a 3 6 8 0 f b 4 0 0 1 c e 6 \" ,  \" d e p a r t m e n t \" :  \" A r t \" ,  \" g e n d e r \" :  2 ,  \" i d \" :  1 3 7 6 8 9 8 ,  \" j o b \" :  \" A s s i s t a n t  A r t  D i r e c t o r \" ,  \" n a m e \" :  \" J e f f r e y  W i s n i e w s k i \" } ,  { \" c r e d i t _ i d \" :  \" 5 4 4 9 1 d 2 f c 3 a 3 6 8 0 f b 4 0 0 1 d 0 7 \" ,  \" d e p a r t m e n t \" :  \" E d i t i n g \" ,  \" g e n d e r \" :  0 ,  \" i d \" :  1 3 7 6 8 9 9 ,  \" j o b \" :  \" D i a l o g u e  E d i t o r \" ,  \" n a m e \" :  \" C h e r y l  N a r d i \" } ,  { \" c r e d i t _ i d \" :  \" 5 4 4 9 1 d 8 6 c 3 a 3 6 8 0 f a 5 0 0 1 b 2 f \" ,  \" d e p a r t m e n t \" :  \" E d i t i n g \" ,  \" g e n d e r \" :  0 ,  \" i d \" :  1 3 7 6 9 0 1 ,  \" j o b \" :  \" D i a l o g u e  E d i t o r \" ,  \" n a m e \" :  \" M a r s h a l l  W i n n \" } ,  { \" c r e d i t _ i d \" :  \" 5 4 4 9 1 d 9 d c 3 a 3 6 8 0 f a a 0 0 1 b b 0 \" ,  \" d e p a r t m e n t \" :  \" S o u n d \" ,  \" g e n d e r \" :  0 ,  \" i d \" :  1 3 7 6 9 0 2 ,  \" j o b \" :  \" S u p e r v i s i n g  S o u n d  E d i t o r \" ,  \" n a m e \" :  \" G w e n d o l y n  Y a t e s  W h i t t l e \" } ,  { \" c r e d i t _ i d \" :  \" 5 4 4 9 1 d c 1 0 e 0 a 2 6 7 4 8 6 0 0 1 b c e \" ,  \" d e p a r t m e n t \" :  \" S o u n d \" ,  \" g e n d e r \" :  0 ,  \" i d \" :  1 3 7 6 9 0 3 ,  \" j o b \" :  \" S o u n d  R e - R e c o r d i n g  M i x e r \" ,  \" n a m e \" :  \" W i l l i a m  S t e i n \" } ,  { \" c r e d i t _ i d \" :  \" 5 4 4 9 1 f 5 0 0 e 0 a 2 6 7 4 7 c 0 0 1 c 0 7 \" ,  \" d e p a r t m e n t \" :  \" C r e w \" ,  \" g e n d e r \" :  0 ,  \" i d \" :  1 3 7 6 9 0 9 ,  \" j o b \" :  \" C h o r e o g r a p h e r \" ,  \" n a m e \" :  \" L u l a  W a s h i n g t o n \" } ,  { \" c r e d i t _ i d \" :  \" 5 4 9 5 9 9 2 3 9 2 5 1 4 1 2 c 4 e 0 0 2 a 2 e \" ,  \" d e p a r t m e n t \" :  \" V i s u a l  E f f e c t s \" ,  \" g e n d e r \" :  0 ,  \" i d \" :  1 3 9 1 6 9 2 ,  \" j o b \" :  \" V i s u a l  E f f e c t s  P r o d u c e r \" ,  \" n a m e \" :  \" C h r i s  D e l  C o n t e \" } ,  { \" c r e d i t _ i d \" :  \" 5 4 9 5 9 d 5 4 c 3 a 3 6 8 3 1 b 8 0 0 1 d 9 a \" ,  \" d e p a r t m e n t \" :  \" V i s u a l  E f f e c t s \" ,  \" g e n d e r \" :  2 ,  \" i d \" :  1 3 9 1 6 9 5 ,  \" j o b \" :  \" V i s u a l  E f f e c t s  S u p e r v i s o r \" ,  \" n a m e \" :  \" R .  C h r i s t o p h e r  W h i t e \" } ,  { \" c r e d i t _ i d \" :  \" 5 4 9 5 9 b d f 9 2 5 1 4 1 2 c 4 e 0 0 2 a 6 6 \" ,  \" d e p a r t m e n t \" :  \" V i s u a l  E f f e c t s \" ,  \" g e n d e r \" :  0 ,  \" i d \" :  1 3 9 4 0 7 0 ,  \" j o b \" :  \" V i s u a l  E f f e c t s  S u p e r v i s o r \" ,  \" n a m e \" :  \" D a n  L e m m o n \" } ,  { \" c r e d i t _ i d \" :  \" 5 4 9 5 9 7 1 d 9 2 5 1 4 1 3 2 e d 0 0 2 9 2 2 \" ,  \" d e p a r t m e n t \" :  \" S o u n d \" ,  \" g e n d e r \" :  0 ,  \" i d \" :  1 3 9 4 1 2 9 ,  \" j o b \" :  \" S o u n d  E f f e c t s  E d i t o r \" ,  \" n a m e \" :  \" T i m  N i e l s e n \" } ,  { \" c r e d i t _ i d \" :  \" 5 5 9 2 b 2 5 7 9 2 5 1 4 1 5 2 c c 0 0 1 1 a a \" ,  \" d e p a r t m e n t \" :  \" C r e w \" ,  \" g e n d e r \" :  0 ,  \" i d \" :  1 3 9 4 2 8 6 ,  \" j o b \" :  \" C G  S u p e r v i s o r \" ,  \" n a m e \" :  \" M i c h a e l  M u l h o l l a n d \" } ,  { \" c r e d i t _ i d \" :  \" 5 4 9 5 9 a 3 2 9 2 5 1 4 1 6 e 2 b 0 0 4 3 5 5 \" ,  \" d e p a r t m e n t \" :  \" C r e w \" ,  \" g e n d e r \" :  0 ,  \" i d \" :  1 3 9 4 7 5 0 ,  \" j o b \" :  \" V i s u a l  E f f e c t s  E d i t o r \" ,  \" n a m e \" :  \" T h o m a s  N i t t m a n n \" } ,  { \" c r e d i t _ i d \" :  \" 5 4 9 5 9 d 6 d c 3 a 3 6 8 6 a e 9 0 0 4 4 0 1 \" ,  \" d e p a r t m e n t \" :  \" V i s u a l  E f f e c t s \" ,  \" g e n d e r \" :  0 ,  \" i d \" :  1 3 9 4 7 5 5 ,  \" j o b \" :  \" V i s u a l  E f f e c t s  S u p e r v i s o r \" ,  \" n a m e \" :  \" E d s o n  W i l l i a m s \" } ,  { \" c r e d i t _ i d \" :  \" 5 4 9 5 a 0 8 f c 3 a 3 6 8 6 a e 3 0 0 4 4 1 c \" ,  \" d e p a r t m e n t \" :  \" E d i t i n g \" ,  \" g e n d e r \" :  0 ,  \" i d \" :  1 3 9 4 9 5 3 ,  \" j o b \" :  \" D i g i t a l  I n t e r m e d i a t e \" ,  \" n a m e \" :  \" C h r i s t i n e  C a r r \" } ,  { \" c r e d i t _ i d \" :  \" 5 5 4 0 2 d 6 5 9 2 5 1 4 1 3 d 6 d 0 0 0 2 4 9 \" ,  \" d e p a r t m e n t \" :  \" V i s u a l  E f f e c t s \" ,  \" g e n d e r \" :  0 ,  \" i d \" :  1 3 9 5 2 6 9 ,  \" j o b \" :  \" V i s u a l  E f f e c t s  S u p e r v i s o r \" ,  \" n a m e \" :  \" J o h n  B r u n o \" } ,  { \" c r e d i t _ i d \" :  \" 5 4 9 5 9 e 7 b 9 2 5 1 4 1 6 e 1 e 0 0 3 f 3 e \" ,  \" d e p a r t m e n t \" :  \" C a m e r a \" ,  \" g e n d e r \" :  0 ,  \" i d \" :  1 3 9 8 9 7 0 ,  \" j o b \" :  \" S t e a d i c a m  O p e r a t o r \" ,  \" n a m e \" :  \" D a v i d  E m m e r i c h s \" } ,  { \" c r e d i t _ i d \" :  \" 5 4 9 5 9 7 3 4 c 3 a 3 6 8 6 a e 1 0 0 4 5 e 0 \" ,  \" d e p a r t m e n t \" :  \" S o u n d \" ,  \" g e n d e r \" :  0 ,  \" i d \" :  1 4 0 0 9 0 6 ,  \" j o b \" :  \" S o u n d  E f f e c t s  E d i t o r \" ,  \" n a m e \" :  \" C h r i s t o p h e r  S c a r a b o s i o \" } ,  { \" c r e d i t _ i d \" :  \" 5 4 9 5 9 5 d d 9 2 5 1 4 1 3 0 f c 0 0 2 d 7 9 \" ,  \" d e p a r t m e n t \" :  \" P r o d u c t i o n \" ,  \" g e n d e r \" :  0 ,  \" i d \" :  1 4 0 1 7 8 4 ,  \" j o b \" :  \" P r o d u c t i o n  S u p e r v i s o r \" ,  \" n a m e \" :  \" J e n n i f e r  T e v e s \" } ,  { \" c r e d i t _ i d \" :  \" 5 4 9 5 9 6 0 0 9 2 5 1 4 1 3 a f 7 0 0 2 8 c c \" ,  \" d e p a r t m e n t \" :  \" P r o d u c t i o n \" ,  \" g e n d e r \" :  0 ,  \" i d \" :  1 4 0 1 7 8 5 ,  \" j o b \" :  \" P r o d u c t i o n  M a n a g e r \" ,  \" n a m e \" :  \" B r i g i t t e  Y o r k e \" } ,  { \" c r e d i t _ i d \" :  \" 5 4 9 5 9 6 e 8 9 2 5 1 4 1 3 0 f c 0 0 2 d 9 9 \" ,  \" d e p a r t m e n t \" :  \" S o u n d \" ,  \" g e n d e r \" :  0 ,  \" i d \" :  1 4 0 1 7 8 6 ,  \" j o b \" :  \" S o u n d  E f f e c t s  E d i t o r \" ,  \" n a m e \" :  \" K e n  F i s c h e r \" } ,  { \" c r e d i t _ i d \" :  \" 5 4 9 5 9 8 2 2 9 2 5 1 4 1 2 c 4 e 0 0 2 a 1 c \" ,  \" d e p a r t m e n t \" :  \" C r e w \" ,  \" g e n d e r \" :  0 ,  \" i d \" :  1 4 0 1 7 8 7 ,  \" j o b \" :  \" S p e c i a l  E f f e c t s  C o o r d i n a t o r \" ,  \" n a m e \" :  \" I a i n  H u t t o n \" } ,  { \" c r e d i t _ i d \" :  \" 5 4 9 5 9 8 3 4 9 2 5 1 4 1 6 e 2 b 0 0 4 3 2 b \" ,  \" d e p a r t m e n t \" :  \" C r e w \" ,  \" g e n d e r \" :  0 ,  \" i d \" :  1 4 0 1 7 8 8 ,  \" j o b \" :  \" S p e c i a l  E f f e c t s  C o o r d i n a t o r \" ,  \" n a m e \" :  \" S t e v e  I n g r a m \" } ,  { \" c r e d i t _ i d \" :  \" 5 4 9 5 9 9 0 5 c 3 a 3 6 8 6 a e 3 0 0 4 3 2 4 \" ,  \" d e p a r t m e n t \" :  \" V i s u a l  E f f e c t s \" ,  \" g e n d e r \" :  0 ,  \" i d \" :  1 4 0 1 7 8 9 ,  \" j o b \" :  \" V i s u a l  E f f e c t s  P r o d u c e r \" ,  \" n a m e \" :  \" J o y c e  C o x \" } ,  { \" c r e d i t _ i d \" :  \" 5 4 9 5 9 9 4 b 9 2 5 1 4 1 3 2 e d 0 0 2 9 5 1 \" ,  \" d e p a r t m e n t \" :  \" V i s u a l  E f f e c t s \" ,  \" g e n d e r \" :  0 ,  \" i d \" :  1 4 0 1 7 9 0 ,  \" j o b \" :  \" V i s u a l  E f f e c t s  P r o d u c e r \" ,  \" n a m e \" :  \" J e n n y  F o s t e r \" } ,  { \" c r e d i t _ i d \" :  \" 5 4 9 5 9 9 c b c 3 a 3 6 8 6 a e 1 0 0 4 6 1 3 \" ,  \" d e p a r t m e n t \" :  \" C r e w \" ,  \" g e n d e r \" :  0 ,  \" i d \" :  1 4 0 1 7 9 1 ,  \" j o b \" :  \" V i s u a l  E f f e c t s  E d i t o r \" ,  \" n a m e \" :  \" C h r i s t o p h e r  M a r i n o \" } ,  { \" c r e d i t _ i d \" :  \" 5 4 9 5 9 9 f 2 c 3 a 3 6 8 6 a e 1 0 0 4 6 1 e \" ,  \" d e p a r t m e n t \" :  \" C r e w \" ,  \" g e n d e r \" :  0 ,  \" i d \" :  1 4 0 1 7 9 2 ,  \" j o b \" :  \" V i s u a l  E f f e c t s  E d i t o r \" ,  \" n a m e \" :  \" J i m  M i l t o n \" } ,  { \" c r e d i t _ i d \" :  \" 5 4 9 5 9 a 5 1 c 3 a 3 6 8 6 a f 3 0 0 3 e b 5 \" ,  \" d e p a r t m e n t \" :  \" V i s u a l  E f f e c t s \" ,  \" g e n d e r \" :  0 ,  \" i d \" :  1 4 0 1 7 9 3 ,  \" j o b \" :  \" V i s u a l  E f f e c t s  P r o d u c e r \" ,  \" n a m e \" :  \" C y n d i  O c h s \" } ,  { \" c r e d i t _ i d \" :  \" 5 4 9 5 9 a 7 c c 3 a 3 6 8 1 1 5 3 0 0 2 6 f 4 \" ,  \" d e p a r t m e n t \" :  \" C r e w \" ,  \" g e n d e r \" :  0 ,  \" i d \" :  1 4 0 1 7 9 4 ,  \" j o b \" :  \" V i s u a l  E f f e c t s  E d i t o r \" ,  \" n a m e \" :  \" L u c a s  P u t n a m \" } ,  { \" c r e d i t _ i d \" :  \" 5 4 9 5 9 b 9 1 c 3 a 3 6 8 0 f f 5 0 0 2 c b 4 \" ,  \" d e p a r t m e n t \" :  \" V i s u a l  E f f e c t s \" ,  \" g e n d e r \" :  0 ,  \" i d \" :  1 4 0 1 7 9 5 ,  \" j o b \" :  \" V i s u a l  E f f e c t s  S u p e r v i s o r \" ,  \" n a m e \" :  \" A n t h o n y  \\' M a x \\'  I v i n s \" } ,  { \" c r e d i t _ i d \" :  \" 5 4 9 5 9 b b 6 9 2 5 1 4 1 2 c 4 e 0 0 2 a 5 f \" ,  \" d e p a r t m e n t \" :  \" V i s u a l  E f f e c t s \" ,  \" g e n d e r \" :  0 ,  \" i d \" :  1 4 0 1 7 9 6 ,  \" j o b \" :  \" V i s u a l  E f f e c t s  S u p e r v i s o r \" ,  \" n a m e \" :  \" J o h n  K n o l l \" } ,  { \" c r e d i t _ i d \" :  \" 5 4 9 5 9 c b b c 3 a 3 6 8 6 a e 3 0 0 4 3 9 1 \" ,  \" d e p a r t m e n t \" :  \" V i s u a l  E f f e c t s \" ,  \" g e n d e r \" :  2 ,  \" i d \" :  1 4 0 1 7 9 9 ,  \" j o b \" :  \" V i s u a l  E f f e c t s  S u p e r v i s o r \" ,  \" n a m e \" :  \" E r i c  S a i n d o n \" } ,  { \" c r e d i t _ i d \" :  \" 5 4 9 5 9 d 0 6 c 3 a 3 6 8 6 a e 9 0 0 4 3 f 6 \" ,  \" d e p a r t m e n t \" :  \" V i s u a l  E f f e c t s \" ,  \" g e n d e r \" :  0 ,  \" i d \" :  1 4 0 1 8 0 0 ,  \" j o b \" :  \" V i s u a l  E f f e c t s  S u p e r v i s o r \" ,  \" n a m e \" :  \" W a y n e  S t a b l e s \" } ,  { \" c r e d i t _ i d \" :  \" 5 4 9 5 9 d 2 5 9 2 5 1 4 1 6 e 1 e 0 0 3 f 1 1 \" ,  \" d e p a r t m e n t \" :  \" V i s u a l  E f f e c t s \" ,  \" g e n d e r \" :  0 ,  \" i d \" :  1 4 0 1 8 0 1 ,  \" j o b \" :  \" V i s u a l  E f f e c t s  S u p e r v i s o r \" ,  \" n a m e \" :  \" D a v i d  S t i n n e t t \" } ,  { \" c r e d i t _ i d \" :  \" 5 4 9 5 9 d b 4 9 2 5 1 4 1 3 a f 7 0 0 2 9 7 5 \" ,  \" d e p a r t m e n t \" :  \" V i s u a l  E f f e c t s \" ,  \" g e n d e r \" :  0 ,  \" i d \" :  1 4 0 1 8 0 3 ,  \" j o b \" :  \" V i s u a l  E f f e c t s  S u p e r v i s o r \" ,  \" n a m e \" :  \" G u y  W i l l i a m s \" } ,  { \" c r e d i t _ i d \" :  \" 5 4 9 5 9 d e 4 c 3 a 3 6 8 1 1 5 3 0 0 2 7 5 0 \" ,  \" d e p a r t m e n t \" :  \" C r e w \" ,  \" g e n d e r \" :  0 ,  \" i d \" :  1 4 0 1 8 0 4 ,  \" j o b \" :  \" S t u n t  C o o r d i n a t o r \" ,  \" n a m e \" :  \" S t u a r t  T h o r p \" } ,  { \" c r e d i t _ i d \" :  \" 5 4 9 5 9 e f 2 c 3 a 3 6 8 0 f c 6 0 0 2 7 f 2 \" ,  \" d e p a r t m e n t \" :  \" L i g h t i n g \" ,  \" g e n d e r \" :  0 ,  \" i d \" :  1 4 0 1 8 0 5 ,  \" j o b \" :  \" B e s t  B o y  E l e c t r i c \" ,  \" n a m e \" :  \" G i l e s  C o b u r n \" } ,  { \" c r e d i t _ i d \" :  \" 5 4 9 5 9 f 0 7 c 3 a 3 6 8 0 f c 6 0 0 2 7 f 9 \" ,  \" d e p a r t m e n t \" :  \" C a m e r a \" ,  \" g e n d e r \" :  2 ,  \" i d \" :  1 4 0 1 8 0 6 ,  \" j o b \" :  \" S t i l l  P h o t o g r a p h e r \" ,  \" n a m e \" :  \" M a r k  F e l l m a n \" } ,  { \" c r e d i t _ i d \" :  \" 5 4 9 5 9 f 4 7 c 3 a 3 6 8 1 1 5 3 0 0 2 7 7 4 \" ,  \" d e p a r t m e n t \" :  \" L i g h t i n g \" ,  \" g e n d e r \" :  0 ,  \" i d \" :  1 4 0 1 8 0 7 ,  \" j o b \" :  \" L i g h t i n g  T e c h n i c i a n \" ,  \" n a m e \" :  \" S c o t t  S p r a g u e \" } ,  { \" c r e d i t _ i d \" :  \" 5 4 9 5 9 f 8 c c 3 a 3 6 8 3 1 b 8 0 0 1 d f 2 \" ,  \" d e p a r t m e n t \" :  \" V i s u a l  E f f e c t s \" ,  \" g e n d e r \" :  0 ,  \" i d \" :  1 4 0 1 8 0 8 ,  \" j o b \" :  \" A n i m a t i o n  D i r e c t o r \" ,  \" n a m e \" :  \" J e r e m y  H o l l o b o n \" } ,  { \" c r e d i t _ i d \" :  \" 5 4 9 5 9 f a 0 c 3 a 3 6 8 3 1 b 8 0 0 1 d f b \" ,  \" d e p a r t m e n t \" :  \" V i s u a l  E f f e c t s \" ,  \" g e n d e r \" :  0 ,  \" i d \" :  1 4 0 1 8 0 9 ,  \" j o b \" :  \" A n i m a t i o n  D i r e c t o r \" ,  \" n a m e \" :  \" O r l a n d o  M e u n i e r \" } ,  { \" c r e d i t _ i d \" :  \" 5 4 9 5 9 f b 6 c 3 a 3 6 8 6 a f 3 0 0 3 f 5 4 \" ,  \" d e p a r t m e n t \" :  \" V i s u a l  E f f e c t s \" ,  \" g e n d e r \" :  0 ,  \" i d \" :  1 4 0 1 8 1 0 ,  \" j o b \" :  \" A n i m a t i o n  D i r e c t o r \" ,  \" n a m e \" :  \" T a i s u k e  T a n i m u r a \" } ,  { \" c r e d i t _ i d \" :  \" 5 4 9 5 9 f d 2 c 3 a 3 6 8 3 1 b 8 0 0 1 e 0 2 \" ,  \" d e p a r t m e n t \" :  \" C o s t u m e  &  M a k e - U p \" ,  \" g e n d e r \" :  0 ,  \" i d \" :  1 4 0 1 8 1 2 ,  \" j o b \" :  \" S e t  C o s t u m e r \" ,  \" n a m e \" :  \" L i l i a  M i s h e l  A c e v e d o \" } ,  { \" c r e d i t _ i d \" :  \" 5 4 9 5 9 f f 9 c 3 a 3 6 8 6 a e 3 0 0 4 4 0 c \" ,  \" d e p a r t m e n t \" :  \" C o s t u m e  &  M a k e - U p \" ,  \" g e n d e r \" :  0 ,  \" i d \" :  1 4 0 1 8 1 4 ,  \" j o b \" :  \" S e t  C o s t u m e r \" ,  \" n a m e \" :  \" A l e j a n d r o  M .  H e r n a n d e z \" } ,  { \" c r e d i t _ i d \" :  \" 5 4 9 5 a 0 d d c 3 a 3 6 8 6 a e 1 0 0 4 6 f e \" ,  \" d e p a r t m e n t \" :  \" E d i t i n g \" ,  \" g e n d e r \" :  0 ,  \" i d \" :  1 4 0 1 8 1 5 ,  \" j o b \" :  \" D i g i t a l  I n t e r m e d i a t e \" ,  \" n a m e \" :  \" M a r v i n  H a l l \" } ,  { \" c r e d i t _ i d \" :  \" 5 4 9 5 a 1 f 7 c 3 a 3 6 8 6 a e 3 0 0 4 4 4 3 \" ,  \" d e p a r t m e n t \" :  \" P r o d u c t i o n \" ,  \" g e n d e r \" :  0 ,  \" i d \" :  1 4 0 1 8 1 6 ,  \" j o b \" :  \" P u b l i c i s t \" ,  \" n a m e \" :  \" J u d y  A l l e y \" } ,  { \" c r e d i t _ i d \" :  \" 5 5 9 2 b 2 9 f c 3 a 3 6 8 6 9 d 1 0 0 0 0 2 f \" ,  \" d e p a r t m e n t \" :  \" C r e w \" ,  \" g e n d e r \" :  0 ,  \" i d \" :  1 4 1 8 3 8 1 ,  \" j o b \" :  \" C G  S u p e r v i s o r \" ,  \" n a m e \" :  \" M i k e  P e r r y \" } ,  { \" c r e d i t _ i d \" :  \" 5 5 9 2 b 2 3 a 9 2 5 1 4 1 5 d f 8 0 0 1 0 8 1 \" ,  \" d e p a r t m e n t \" :  \" C r e w \" ,  \" g e n d e r \" :  0 ,  \" i d \" :  1 4 2 6 8 5 4 ,  \" j o b \" :  \" C G  S u p e r v i s o r \" ,  \" n a m e \" :  \" A n d r e w  M o r l e y \" } ,  { \" c r e d i t _ i d \" :  \" 5 5 4 9 1 e 1 1 9 2 5 1 4 1 0 4 c 4 0 0 0 2 d 8 \" ,  \" d e p a r t m e n t \" :  \" A r t \" ,  \" g e n d e r \" :  0 ,  \" i d \" :  1 4 3 8 9 0 1 ,  \" j o b \" :  \" C o n c e p t u a l  D e s i g n \" ,  \" n a m e \" :  \" S e t h  E n g s t r o m \" } ,  { \" c r e d i t _ i d \" :  \" 5 5 2 5 d 5 8 0 9 2 5 1 4 1 7 2 7 6 0 0 2 b 0 6 \" ,  \" d e p a r t m e n t \" :  \" C r e w \" ,  \" g e n d e r \" :  0 ,  \" i d \" :  1 4 4 7 3 6 2 ,  \" j o b \" :  \" V i s u a l  E f f e c t s  A r t  D i r e c t o r \" ,  \" n a m e \" :  \" E r i c  O l i v e r \" } ,  { \" c r e d i t _ i d \" :  \" 5 5 4 4 2 7 c a 9 2 5 1 4 1 5 8 6 5 0 0 3 1 2 a \" ,  \" d e p a r t m e n t \" :  \" V i s u a l  E f f e c t s \" ,  \" g e n d e r \" :  0 ,  \" i d \" :  1 4 4 7 5 0 3 ,  \" j o b \" :  \" M o d e l i n g \" ,  \" n a m e \" :  \" M a t s u n e  S u z u k i \" } ,  { \" c r e d i t _ i d \" :  \" 5 5 1 9 0 6 8 8 9 2 5 1 4 1 5 a a b 0 0 1 c 8 8 \" ,  \" d e p a r t m e n t \" :  \" A r t \" ,  \" g e n d e r \" :  0 ,  \" i d \" :  1 4 4 7 5 2 4 ,  \" j o b \" :  \" A r t  D e p a r t m e n t  M a n a g e r \" ,  \" n a m e \" :  \" P a u l  T o b i n \" } ,  { \" c r e d i t _ i d \" :  \" 5 5 9 2 a f 8 4 9 2 5 1 4 1 5 2 c c 0 0 1 0 d e \" ,  \" d e p a r t m e n t \" :  \" C o s t u m e  &  M a k e - U p \" ,  \" g e n d e r \" :  0 ,  \" i d \" :  1 4 5 2 6 4 3 ,  \" j o b \" :  \" H a i r s t y l i s t \" ,  \" n a m e \" :  \" R o x a n e  G r i f f i n \" } ,  { \" c r e d i t _ i d \" :  \" 5 5 3 d 3 c 1 0 9 2 5 1 4 1 5 8 5 2 0 0 1 3 1 8 \" ,  \" d e p a r t m e n t \" :  \" L i g h t i n g \" ,  \" g e n d e r \" :  0 ,  \" i d \" :  1 4 5 3 9 3 8 ,  \" j o b \" :  \" L i g h t i n g  A r t i s t \" ,  \" n a m e \" :  \" A r u n  R a m - M o h a n \" } ,  { \" c r e d i t _ i d \" :  \" 5 5 9 2 a f 4 6 9 2 5 1 4 1 5 2 d 5 0 0 1 3 5 5 \" ,  \" d e p a r t m e n t \" :  \" C o s t u m e  &  M a k e - U p \" ,  \" g e n d e r \" :  0 ,  \" i d \" :  1 4 5 7 3 0 5 ,  \" j o b \" :  \" M a k e u p  A r t i s t \" ,  \" n a m e \" :  \" G e o r g i a  L o c k h a r t - A d a m s \" } ,  { \" c r e d i t _ i d \" :  \" 5 5 9 2 b 2 e a c 3 a 3 6 8 7 7 4 7 0 0 1 2 a 5 \" ,  \" d e p a r t m e n t \" :  \" C r e w \" ,  \" g e n d e r \" :  0 ,  \" i d \" :  1 4 6 6 0 3 5 ,  \" j o b \" :  \" C G  S u p e r v i s o r \" ,  \" n a m e \" :  \" T h r a i n  S h a d b o l t \" } ,  { \" c r e d i t _ i d \" :  \" 5 5 9 2 b 0 3 2 c 3 a 3 6 8 7 7 4 5 0 0 1 5 f 1 \" ,  \" d e p a r t m e n t \" :  \" C r e w \" ,  \" g e n d e r \" :  0 ,  \" i d \" :  1 4 8 3 2 2 0 ,  \" j o b \" :  \" C G  S u p e r v i s o r \" ,  \" n a m e \" :  \" B r a d  A l e x a n d e r \" } ,  { \" c r e d i t _ i d \" :  \" 5 5 9 2 b 0 5 5 9 2 5 1 4 1 5 2 d 8 0 0 1 2 f 6 \" ,  \" d e p a r t m e n t \" :  \" C r e w \" ,  \" g e n d e r \" :  0 ,  \" i d \" :  1 4 8 3 2 2 1 ,  \" j o b \" :  \" C G  S u p e r v i s o r \" ,  \" n a m e \" :  \" S h a d i  A l m a s s i z a d e h \" } ,  { \" c r e d i t _ i d \" :  \" 5 5 9 2 b 0 9 0 c 3 a 3 6 8 7 7 5 7 0 0 1 0 b 5 \" ,  \" d e p a r t m e n t \" :  \" C r e w \" ,  \" g e n d e r \" :  0 ,  \" i d \" :  1 4 8 3 2 2 2 ,  \" j o b \" :  \" C G  S u p e r v i s o r \" ,  \" n a m e \" :  \" S i m o n  C l u t t e r b u c k \" } ,  { \" c r e d i t _ i d \" :  \" 5 5 9 2 b 0 d b c 3 a 3 6 8 7 7 4 b 0 0 1 1 2 c \" ,  \" d e p a r t m e n t \" :  \" C r e w \" ,  \" g e n d e r \" :  0 ,  \" i d \" :  1 4 8 3 2 2 3 ,  \" j o b \" :  \" C G  S u p e r v i s o r \" ,  \" n a m e \" :  \" G r a e m e  D e m m o c k s \" } ,  { \" c r e d i t _ i d \" :  \" 5 5 9 2 b 0 f e 9 2 5 1 4 1 5 2 d b 0 0 1 0 c 1 \" ,  \" d e p a r t m e n t \" :  \" C r e w \" ,  \" g e n d e r \" :  0 ,  \" i d \" :  1 4 8 3 2 2 4 ,  \" j o b \" :  \" C G  S u p e r v i s o r \" ,  \" n a m e \" :  \" A d r i a n  F e r n a n d e s \" } ,  { \" c r e d i t _ i d \" :  \" 5 5 9 2 b 1 1 f 9 2 5 1 4 1 5 d f 8 0 0 1 0 5 9 \" ,  \" d e p a r t m e n t \" :  \" C r e w \" ,  \" g e n d e r \" :  0 ,  \" i d \" :  1 4 8 3 2 2 5 ,  \" j o b \" :  \" C G  S u p e r v i s o r \" ,  \" n a m e \" :  \" M i t c h  G a t e s \" } ,  { \" c r e d i t _ i d \" :  \" 5 5 9 2 b 1 5 d c 3 a 3 6 8 7 7 4 5 0 0 1 6 4 5 \" ,  \" d e p a r t m e n t \" :  \" C r e w \" ,  \" g e n d e r \" :  0 ,  \" i d \" :  1 4 8 3 2 2 6 ,  \" j o b \" :  \" C G  S u p e r v i s o r \" ,  \" n a m e \" :  \" J e r r y  K u n g \" } ,  { \" c r e d i t _ i d \" :  \" 5 5 9 2 b 1 8 e 9 2 5 1 4 1 6 4 5 a 0 0 0 4 a e \" ,  \" d e p a r t m e n t \" :  \" C r e w \" ,  \" g e n d e r \" :  0 ,  \" i d \" :  1 4 8 3 2 2 7 ,  \" j o b \" :  \" C G  S u p e r v i s o r \" ,  \" n a m e \" :  \" A n d y  L o m a s \" } ,  { \" c r e d i t _ i d \" :  \" 5 5 9 2 b 1 b f c 3 a 3 6 8 7 7 5 d 0 0 1 0 e 7 \" ,  \" d e p a r t m e n t \" :  \" C r e w \" ,  \" g e n d e r \" :  0 ,  \" i d \" :  1 4 8 3 2 2 8 ,  \" j o b \" :  \" C G  S u p e r v i s o r \" ,  \" n a m e \" :  \" S e b a s t i a n  M a r i n o \" } ,  { \" c r e d i t _ i d \" :  \" 5 5 9 2 b 2 0 4 9 2 5 1 4 1 5 d f 8 0 0 1 0 7 8 \" ,  \" d e p a r t m e n t \" :  \" C r e w \" ,  \" g e n d e r \" :  0 ,  \" i d \" :  1 4 8 3 2 2 9 ,  \" j o b \" :  \" C G  S u p e r v i s o r \" ,  \" n a m e \" :  \" M a t t h i a s  M e n z \" } ,  { \" c r e d i t _ i d \" :  \" 5 5 9 2 b 2 7 b 9 2 5 1 4 1 5 2 d 8 0 0 1 3 6 a \" ,  \" d e p a r t m e n t \" :  \" C r e w \" ,  \" g e n d e r \" :  0 ,  \" i d \" :  1 4 8 3 2 3 0 ,  \" j o b \" :  \" C G  S u p e r v i s o r \" ,  \" n a m e \" :  \" S e r g e i  N e v s h u p o v \" } ,  { \" c r e d i t _ i d \" :  \" 5 5 9 2 b 2 c 3 c 3 a 3 6 8 6 9 e 8 0 0 0 0 3 c \" ,  \" d e p a r t m e n t \" :  \" C r e w \" ,  \" g e n d e r \" :  0 ,  \" i d \" :  1 4 8 3 2 3 1 ,  \" j o b \" :  \" C G  S u p e r v i s o r \" ,  \" n a m e \" :  \" P h i l i p p e  R e b o u r s \" } ,  { \" c r e d i t _ i d \" :  \" 5 5 9 2 b 3 1 7 c 3 a 3 6 8 7 7 4 7 0 0 1 2 a f \" ,  \" d e p a r t m e n t \" :  \" C r e w \" ,  \" g e n d e r \" :  0 ,  \" i d \" :  1 4 8 3 2 3 2 ,  \" j o b \" :  \" C G  S u p e r v i s o r \" ,  \" n a m e \" :  \" M i c h a e l  T a k a r a n g i \" } ,  { \" c r e d i t _ i d \" :  \" 5 5 9 2 b 3 4 5 c 3 a 3 6 8 7 7 4 7 0 0 1 2 b b \" ,  \" d e p a r t m e n t \" :  \" C r e w \" ,  \" g e n d e r \" :  0 ,  \" i d \" :  1 4 8 3 2 3 3 ,  \" j o b \" :  \" C G  S u p e r v i s o r \" ,  \" n a m e \" :  \" D a v i d  W e i t z b e r g \" } ,  { \" c r e d i t _ i d \" :  \" 5 5 9 2 b 3 7 c c 3 a 3 6 8 7 7 5 1 0 0 1 1 3 b \" ,  \" d e p a r t m e n t \" :  \" C r e w \" ,  \" g e n d e r \" :  0 ,  \" i d \" :  1 4 8 3 2 3 4 ,  \" j o b \" :  \" C G  S u p e r v i s o r \" ,  \" n a m e \" :  \" B e n  W h i t e \" } ,  { \" c r e d i t _ i d \" :  \" 5 7 3 c 8 e 2 f 9 2 5 1 4 1 3 f 5 d 0 0 0 0 9 4 \" ,  \" d e p a r t m e n t \" :  \" C r e w \" ,  \" g e n d e r \" :  1 ,  \" i d \" :  1 6 2 1 9 3 2 ,  \" j o b \" :  \" S t u n t s \" ,  \" n a m e \" :  \" M i n  W i n d l e \" } ]'"
      ]
     },
     "execution_count": 39,
     "metadata": {},
     "output_type": "execute_result"
    }
   ],
   "source": [
    "new_df['tags'][0]"
   ]
  },
  {
   "cell_type": "code",
   "execution_count": 40,
   "id": "07a48a0f-07f1-4d1a-9b73-0a65f85a076c",
   "metadata": {},
   "outputs": [],
   "source": [
    "new_df['tags']=new_df['tags'].apply(lambda x:x.lower()) #change into lowercase"
   ]
  },
  {
   "cell_type": "code",
   "execution_count": 41,
   "id": "e50e44ba-e5f1-4506-a1f6-9aa2070a9e79",
   "metadata": {},
   "outputs": [
    {
     "data": {
      "text/plain": [
       "'in the 22nd century, a paraplegic marine is dispatched to the moon pandora on a unique mission, but becomes torn between following orders and protecting an alien civilization. [ { \" i d \" :  2 8 ,  \" n a m e \" :  \" a c t i o n \" } ,  { \" i d \" :  1 2 ,  \" n a m e \" :  \" a d v e n t u r e \" } ,  { \" i d \" :  1 4 ,  \" n a m e \" :  \" f a n t a s y \" } ,  { \" i d \" :  8 7 8 ,  \" n a m e \" :  \" s c i e n c e  f i c t i o n \" } ] [ { \" c a s t _ i d \" :  2 4 2 ,  \" c h a r a c t e r \" :  \" j a k e  s u l l y \" ,  \" c r e d i t _ i d \" :  \" 5 6 0 2 a 8 a 7 c 3 a 3 6 8 5 5 3 2 0 0 1 c 9 a \" ,  \" g e n d e r \" :  2 ,  \" i d \" :  6 5 7 3 1 ,  \" n a m e \" :  \" s a m  w o r t h i n g t o n \" ,  \" o r d e r \" :  0 } ,  { \" c a s t _ i d \" :  3 ,  \" c h a r a c t e r \" :  \" n e y t i r i \" ,  \" c r e d i t _ i d \" :  \" 5 2 f e 4 8 0 0 9 2 5 1 4 1 6 c 7 5 0 a c 9 c b \" ,  \" g e n d e r \" :  1 ,  \" i d \" :  8 6 9 1 ,  \" n a m e \" :  \" z o e  s a l d a n a \" ,  \" o r d e r \" :  1 } ,  { \" c a s t _ i d \" :  2 5 ,  \" c h a r a c t e r \" :  \" d r .  g r a c e  a u g u s t i n e \" ,  \" c r e d i t _ i d \" :  \" 5 2 f e 4 8 0 0 9 2 5 1 4 1 6 c 7 5 0 a c a 3 9 \" ,  \" g e n d e r \" :  1 ,  \" i d \" :  1 0 2 0 5 ,  \" n a m e \" :  \" s i g o u r n e y  w e a v e r \" ,  \" o r d e r \" :  2 } ,  { \" c a s t _ i d \" :  4 ,  \" c h a r a c t e r \" :  \" c o l .  q u a r i t c h \" ,  \" c r e d i t _ i d \" :  \" 5 2 f e 4 8 0 0 9 2 5 1 4 1 6 c 7 5 0 a c 9 c f \" ,  \" g e n d e r \" :  2 ,  \" i d \" :  3 2 7 4 7 ,  \" n a m e \" :  \" s t e p h e n  l a n g \" ,  \" o r d e r \" :  3 } ,  { \" c a s t _ i d \" :  5 ,  \" c h a r a c t e r \" :  \" t r u d y  c h a c o n \" ,  \" c r e d i t _ i d \" :  \" 5 2 f e 4 8 0 0 9 2 5 1 4 1 6 c 7 5 0 a c 9 d 3 \" ,  \" g e n d e r \" :  1 ,  \" i d \" :  1 7 6 4 7 ,  \" n a m e \" :  \" m i c h e l l e  r o d r i g u e z \" ,  \" o r d e r \" :  4 } ,  { \" c a s t _ i d \" :  8 ,  \" c h a r a c t e r \" :  \" s e l f r i d g e \" ,  \" c r e d i t _ i d \" :  \" 5 2 f e 4 8 0 0 9 2 5 1 4 1 6 c 7 5 0 a c 9 e 1 \" ,  \" g e n d e r \" :  2 ,  \" i d \" :  1 7 7 1 ,  \" n a m e \" :  \" g i o v a n n i  r i b i s i \" ,  \" o r d e r \" :  5 } ,  { \" c a s t _ i d \" :  7 ,  \" c h a r a c t e r \" :  \" n o r m  s p e l l m a n \" ,  \" c r e d i t _ i d \" :  \" 5 2 f e 4 8 0 0 9 2 5 1 4 1 6 c 7 5 0 a c 9 d d \" ,  \" g e n d e r \" :  2 ,  \" i d \" :  5 9 2 3 1 ,  \" n a m e \" :  \" j o e l  d a v i d  m o o r e \" ,  \" o r d e r \" :  6 } ,  { \" c a s t _ i d \" :  9 ,  \" c h a r a c t e r \" :  \" m o a t \" ,  \" c r e d i t _ i d \" :  \" 5 2 f e 4 8 0 0 9 2 5 1 4 1 6 c 7 5 0 a c 9 e 5 \" ,  \" g e n d e r \" :  1 ,  \" i d \" :  3 0 4 8 5 ,  \" n a m e \" :  \" c c h  p o u n d e r \" ,  \" o r d e r \" :  7 } ,  { \" c a s t _ i d \" :  1 1 ,  \" c h a r a c t e r \" :  \" e y t u k a n \" ,  \" c r e d i t _ i d \" :  \" 5 2 f e 4 8 0 0 9 2 5 1 4 1 6 c 7 5 0 a c 9 e d \" ,  \" g e n d e r \" :  2 ,  \" i d \" :  1 5 8 5 3 ,  \" n a m e \" :  \" w e s  s t u d i \" ,  \" o r d e r \" :  8 } ,  { \" c a s t _ i d \" :  1 0 ,  \" c h a r a c t e r \" :  \" t s u \\' t e y \" ,  \" c r e d i t _ i d \" :  \" 5 2 f e 4 8 0 0 9 2 5 1 4 1 6 c 7 5 0 a c 9 e 9 \" ,  \" g e n d e r \" :  2 ,  \" i d \" :  1 0 9 6 4 ,  \" n a m e \" :  \" l a z  a l o n s o \" ,  \" o r d e r \" :  9 } ,  { \" c a s t _ i d \" :  1 2 ,  \" c h a r a c t e r \" :  \" d r .  m a x  p a t e l \" ,  \" c r e d i t _ i d \" :  \" 5 2 f e 4 8 0 0 9 2 5 1 4 1 6 c 7 5 0 a c 9 f 1 \" ,  \" g e n d e r \" :  2 ,  \" i d \" :  9 5 6 9 7 ,  \" n a m e \" :  \" d i l e e p  r a o \" ,  \" o r d e r \" :  1 0 } ,  { \" c a s t _ i d \" :  1 3 ,  \" c h a r a c t e r \" :  \" l y l e  w a i n f l e e t \" ,  \" c r e d i t _ i d \" :  \" 5 2 f e 4 8 0 0 9 2 5 1 4 1 6 c 7 5 0 a c 9 f 5 \" ,  \" g e n d e r \" :  2 ,  \" i d \" :  9 8 2 1 5 ,  \" n a m e \" :  \" m a t t  g e r a l d \" ,  \" o r d e r \" :  1 1 } ,  { \" c a s t _ i d \" :  3 2 ,  \" c h a r a c t e r \" :  \" p r i v a t e  f i k e \" ,  \" c r e d i t _ i d \" :  \" 5 2 f e 4 8 0 0 9 2 5 1 4 1 6 c 7 5 0 a c a 5 b \" ,  \" g e n d e r \" :  2 ,  \" i d \" :  1 5 4 1 5 3 ,  \" n a m e \" :  \" s e a n  a n t h o n y  m o r a n \" ,  \" o r d e r \" :  1 2 } ,  { \" c a s t _ i d \" :  3 3 ,  \" c h a r a c t e r \" :  \" c r y o  v a u l t  m e d  t e c h \" ,  \" c r e d i t _ i d \" :  \" 5 2 f e 4 8 0 0 9 2 5 1 4 1 6 c 7 5 0 a c a 5 f \" ,  \" g e n d e r \" :  2 ,  \" i d \" :  3 9 7 3 1 2 ,  \" n a m e \" :  \" j a s o n  w h y t e \" ,  \" o r d e r \" :  1 3 } ,  { \" c a s t _ i d \" :  3 4 ,  \" c h a r a c t e r \" :  \" v e n t u r e  s t a r  c r e w  c h i e f \" ,  \" c r e d i t _ i d \" :  \" 5 2 f e 4 8 0 0 9 2 5 1 4 1 6 c 7 5 0 a c a 6 3 \" ,  \" g e n d e r \" :  2 ,  \" i d \" :  4 2 3 1 7 ,  \" n a m e \" :  \" s c o t t  l a w r e n c e \" ,  \" o r d e r \" :  1 4 } ,  { \" c a s t _ i d \" :  3 5 ,  \" c h a r a c t e r \" :  \" l o c k  u p  t r o o p e r \" ,  \" c r e d i t _ i d \" :  \" 5 2 f e 4 8 0 0 9 2 5 1 4 1 6 c 7 5 0 a c a 6 7 \" ,  \" g e n d e r \" :  2 ,  \" i d \" :  9 8 6 7 3 4 ,  \" n a m e \" :  \" k e l l y  k i l g o u r \" ,  \" o r d e r \" :  1 5 } ,  { \" c a s t _ i d \" :  3 6 ,  \" c h a r a c t e r \" :  \" s h u t t l e  p i l o t \" ,  \" c r e d i t _ i d \" :  \" 5 2 f e 4 8 0 0 9 2 5 1 4 1 6 c 7 5 0 a c a 6 b \" ,  \" g e n d e r \" :  0 ,  \" i d \" :  1 2 0 7 2 2 7 ,  \" n a m e \" :  \" j a m e s  p a t r i c k  p i t t \" ,  \" o r d e r \" :  1 6 } ,  { \" c a s t _ i d \" :  3 7 ,  \" c h a r a c t e r \" :  \" s h u t t l e  c o - p i l o t \" ,  \" c r e d i t _ i d \" :  \" 5 2 f e 4 8 0 0 9 2 5 1 4 1 6 c 7 5 0 a c a 6 f \" ,  \" g e n d e r \" :  0 ,  \" i d \" :  1 1 8 0 9 3 6 ,  \" n a m e \" :  \" s e a n  p a t r i c k  m u r p h y \" ,  \" o r d e r \" :  1 7 } ,  { \" c a s t _ i d \" :  3 8 ,  \" c h a r a c t e r \" :  \" s h u t t l e  c r e w  c h i e f \" ,  \" c r e d i t _ i d \" :  \" 5 2 f e 4 8 0 0 9 2 5 1 4 1 6 c 7 5 0 a c a 7 3 \" ,  \" g e n d e r \" :  2 ,  \" i d \" :  1 0 1 9 5 7 8 ,  \" n a m e \" :  \" p e t e r  d i l l o n \" ,  \" o r d e r \" :  1 8 } ,  { \" c a s t _ i d \" :  3 9 ,  \" c h a r a c t e r \" :  \" t r a c t o r  o p e r a t o r  /  t r o u p e \" ,  \" c r e d i t _ i d \" :  \" 5 2 f e 4 8 0 0 9 2 5 1 4 1 6 c 7 5 0 a c a 7 7 \" ,  \" g e n d e r \" :  0 ,  \" i d \" :  9 1 4 4 3 ,  \" n a m e \" :  \" k e v i n  d o r m a n \" ,  \" o r d e r \" :  1 9 } ,  { \" c a s t _ i d \" :  4 0 ,  \" c h a r a c t e r \" :  \" d r a g o n  g u n s h i p  p i l o t \" ,  \" c r e d i t _ i d \" :  \" 5 2 f e 4 8 0 0 9 2 5 1 4 1 6 c 7 5 0 a c a 7 b \" ,  \" g e n d e r \" :  2 ,  \" i d \" :  1 7 3 3 9 1 ,  \" n a m e \" :  \" k e l s o n  h e n d e r s o n \" ,  \" o r d e r \" :  2 0 } ,  { \" c a s t _ i d \" :  4 1 ,  \" c h a r a c t e r \" :  \" d r a g o n  g u n s h i p  g u n n e r \" ,  \" c r e d i t _ i d \" :  \" 5 2 f e 4 8 0 0 9 2 5 1 4 1 6 c 7 5 0 a c a 7 f \" ,  \" g e n d e r \" :  0 ,  \" i d \" :  1 2 0 7 2 3 6 ,  \" n a m e \" :  \" d a v i d  v a n  h o r n \" ,  \" o r d e r \" :  2 1 } ,  { \" c a s t _ i d \" :  4 2 ,  \" c h a r a c t e r \" :  \" d r a g o n  g u n s h i p  n a v i g a t o r \" ,  \" c r e d i t _ i d \" :  \" 5 2 f e 4 8 0 0 9 2 5 1 4 1 6 c 7 5 0 a c a 8 3 \" ,  \" g e n d e r \" :  0 ,  \" i d \" :  2 1 5 9 1 3 ,  \" n a m e \" :  \" j a c o b  t o m u r i \" ,  \" o r d e r \" :  2 2 } ,  { \" c a s t _ i d \" :  4 3 ,  \" c h a r a c t e r \" :  \" s u i t  # 1 \" ,  \" c r e d i t _ i d \" :  \" 5 2 f e 4 8 0 0 9 2 5 1 4 1 6 c 7 5 0 a c a 8 7 \" ,  \" g e n d e r \" :  0 ,  \" i d \" :  1 4 3 2 0 6 ,  \" n a m e \" :  \" m i c h a e l  b l a i n - r o z g a y \" ,  \" o r d e r \" :  2 3 } ,  { \" c a s t _ i d \" :  4 4 ,  \" c h a r a c t e r \" :  \" s u i t  # 2 \" ,  \" c r e d i t _ i d \" :  \" 5 2 f e 4 8 0 0 9 2 5 1 4 1 6 c 7 5 0 a c a 8 b \" ,  \" g e n d e r \" :  2 ,  \" i d \" :  1 6 9 6 7 6 ,  \" n a m e \" :  \" j o n  c u r r y \" ,  \" o r d e r \" :  2 4 } ,  { \" c a s t _ i d \" :  4 6 ,  \" c h a r a c t e r \" :  \" a m b i e n t  r o o m  t e c h \" ,  \" c r e d i t _ i d \" :  \" 5 2 f e 4 8 0 0 9 2 5 1 4 1 6 c 7 5 0 a c a 8 f \" ,  \" g e n d e r \" :  0 ,  \" i d \" :  1 0 4 8 6 1 0 ,  \" n a m e \" :  \" l u k e  h a w k e r \" ,  \" o r d e r \" :  2 5 } ,  { \" c a s t _ i d \" :  4 7 ,  \" c h a r a c t e r \" :  \" a m b i e n t  r o o m  t e c h  /  t r o u p e \" ,  \" c r e d i t _ i d \" :  \" 5 2 f e 4 8 0 0 9 2 5 1 4 1 6 c 7 5 0 a c a 9 3 \" ,  \" g e n d e r \" :  0 ,  \" i d \" :  4 2 2 8 8 ,  \" n a m e \" :  \" w o o d y  s c h u l t z \" ,  \" o r d e r \" :  2 6 } ,  { \" c a s t _ i d \" :  4 8 ,  \" c h a r a c t e r \" :  \" h o r s e  c l a n  l e a d e r \" ,  \" c r e d i t _ i d \" :  \" 5 2 f e 4 8 0 0 9 2 5 1 4 1 6 c 7 5 0 a c a 9 7 \" ,  \" g e n d e r \" :  2 ,  \" i d \" :  6 8 2 7 8 ,  \" n a m e \" :  \" p e t e r  m e n s a h \" ,  \" o r d e r \" :  2 7 } ,  { \" c a s t _ i d \" :  4 9 ,  \" c h a r a c t e r \" :  \" l i n k  r o o m  t e c h \" ,  \" c r e d i t _ i d \" :  \" 5 2 f e 4 8 0 0 9 2 5 1 4 1 6 c 7 5 0 a c a 9 b \" ,  \" g e n d e r \" :  0 ,  \" i d \" :  1 2 0 7 2 4 7 ,  \" n a m e \" :  \" s o n i a  y e e \" ,  \" o r d e r \" :  2 8 } ,  { \" c a s t _ i d \" :  5 0 ,  \" c h a r a c t e r \" :  \" b a s k e t b a l l  a v a t a r  /  t r o u p e \" ,  \" c r e d i t _ i d \" :  \" 5 2 f e 4 8 0 0 9 2 5 1 4 1 6 c 7 5 0 a c a 9 f \" ,  \" g e n d e r \" :  1 ,  \" i d \" :  1 2 0 7 2 4 8 ,  \" n a m e \" :  \" j a h n e l  c u r f m a n \" ,  \" o r d e r \" :  2 9 } ,  { \" c a s t _ i d \" :  5 1 ,  \" c h a r a c t e r \" :  \" b a s k e t b a l l  a v a t a r \" ,  \" c r e d i t _ i d \" :  \" 5 2 f e 4 8 0 0 9 2 5 1 4 1 6 c 7 5 0 a c a a 3 \" ,  \" g e n d e r \" :  0 ,  \" i d \" :  8 9 7 1 4 ,  \" n a m e \" :  \" i l r a m  c h o i \" ,  \" o r d e r \" :  3 0 } ,  { \" c a s t _ i d \" :  5 2 ,  \" c h a r a c t e r \" :  \" n a \\' v i  c h i l d \" ,  \" c r e d i t _ i d \" :  \" 5 2 f e 4 8 0 0 9 2 5 1 4 1 6 c 7 5 0 a c a a 7 \" ,  \" g e n d e r \" :  0 ,  \" i d \" :  1 2 0 7 2 4 9 ,  \" n a m e \" :  \" k y l a  w a r r e n \" ,  \" o r d e r \" :  3 1 } ,  { \" c a s t _ i d \" :  5 3 ,  \" c h a r a c t e r \" :  \" t r o u p e \" ,  \" c r e d i t _ i d \" :  \" 5 2 f e 4 8 0 0 9 2 5 1 4 1 6 c 7 5 0 a c a a b \" ,  \" g e n d e r \" :  0 ,  \" i d \" :  1 2 0 7 2 5 0 ,  \" n a m e \" :  \" l i s a  r o u m a i n \" ,  \" o r d e r \" :  3 2 } ,  { \" c a s t _ i d \" :  5 4 ,  \" c h a r a c t e r \" :  \" t r o u p e \" ,  \" c r e d i t _ i d \" :  \" 5 2 f e 4 8 0 0 9 2 5 1 4 1 6 c 7 5 0 a c a a f \" ,  \" g e n d e r \" :  1 ,  \" i d \" :  8 3 1 0 5 ,  \" n a m e \" :  \" d e b r a  w i l s o n \" ,  \" o r d e r \" :  3 3 } ,  { \" c a s t _ i d \" :  5 7 ,  \" c h a r a c t e r \" :  \" t r o u p e \" ,  \" c r e d i t _ i d \" :  \" 5 2 f e 4 8 0 0 9 2 5 1 4 1 6 c 7 5 0 a c a b b \" ,  \" g e n d e r \" :  0 ,  \" i d \" :  1 2 0 7 2 5 3 ,  \" n a m e \" :  \" c h r i s  m a l a \" ,  \" o r d e r \" :  3 4 } ,  { \" c a s t _ i d \" :  5 5 ,  \" c h a r a c t e r \" :  \" t r o u p e \" ,  \" c r e d i t _ i d \" :  \" 5 2 f e 4 8 0 0 9 2 5 1 4 1 6 c 7 5 0 a c a b 3 \" ,  \" g e n d e r \" :  0 ,  \" i d \" :  1 2 0 7 2 5 1 ,  \" n a m e \" :  \" t a y l o r  k i b b y \" ,  \" o r d e r \" :  3 5 } ,  { \" c a s t _ i d \" :  5 6 ,  \" c h a r a c t e r \" :  \" t r o u p e \" ,  \" c r e d i t _ i d \" :  \" 5 2 f e 4 8 0 0 9 2 5 1 4 1 6 c 7 5 0 a c a b 7 \" ,  \" g e n d e r \" :  0 ,  \" i d \" :  1 2 0 7 2 5 2 ,  \" n a m e \" :  \" j o d i e  l a n d a u \" ,  \" o r d e r \" :  3 6 } ,  { \" c a s t _ i d \" :  5 8 ,  \" c h a r a c t e r \" :  \" t r o u p e \" ,  \" c r e d i t _ i d \" :  \" 5 2 f e 4 8 0 0 9 2 5 1 4 1 6 c 7 5 0 a c a b f \" ,  \" g e n d e r \" :  0 ,  \" i d \" :  1 2 0 7 2 5 4 ,  \" n a m e \" :  \" j u l i e  l a m m \" ,  \" o r d e r \" :  3 7 } ,  { \" c a s t _ i d \" :  5 9 ,  \" c h a r a c t e r \" :  \" t r o u p e \" ,  \" c r e d i t _ i d \" :  \" 5 2 f e 4 8 0 0 9 2 5 1 4 1 6 c 7 5 0 a c a c 3 \" ,  \" g e n d e r \" :  0 ,  \" i d \" :  1 2 0 7 2 5 7 ,  \" n a m e \" :  \" c u l l e n  b .  m a d d e n \" ,  \" o r d e r \" :  3 8 } ,  { \" c a s t _ i d \" :  6 0 ,  \" c h a r a c t e r \" :  \" t r o u p e \" ,  \" c r e d i t _ i d \" :  \" 5 2 f e 4 8 0 0 9 2 5 1 4 1 6 c 7 5 0 a c a c 7 \" ,  \" g e n d e r \" :  0 ,  \" i d \" :  1 2 0 7 2 5 9 ,  \" n a m e \" :  \" j o s e p h  b r a d y  m a d d e n \" ,  \" o r d e r \" :  3 9 } ,  { \" c a s t _ i d \" :  6 1 ,  \" c h a r a c t e r \" :  \" t r o u p e \" ,  \" c r e d i t _ i d \" :  \" 5 2 f e 4 8 0 0 9 2 5 1 4 1 6 c 7 5 0 a c a c b \" ,  \" g e n d e r \" :  0 ,  \" i d \" :  1 2 0 7 2 6 2 ,  \" n a m e \" :  \" f r a n k i e  t o r r e s \" ,  \" o r d e r \" :  4 0 } ,  { \" c a s t _ i d \" :  6 2 ,  \" c h a r a c t e r \" :  \" t r o u p e \" ,  \" c r e d i t _ i d \" :  \" 5 2 f e 4 8 0 0 9 2 5 1 4 1 6 c 7 5 0 a c a c f \" ,  \" g e n d e r \" :  1 ,  \" i d \" :  1 1 5 8 6 0 0 ,  \" n a m e \" :  \" a u s t i n  w i l s o n \" ,  \" o r d e r \" :  4 1 } ,  { \" c a s t _ i d \" :  6 3 ,  \" c h a r a c t e r \" :  \" t r o u p e \" ,  \" c r e d i t _ i d \" :  \" 5 2 f e 4 8 0 1 9 2 5 1 4 1 6 c 7 5 0 a c a d 3 \" ,  \" g e n d e r \" :  1 ,  \" i d \" :  9 8 3 7 0 5 ,  \" n a m e \" :  \" s a r a  w i l s o n \" ,  \" o r d e r \" :  4 2 } ,  { \" c a s t _ i d \" :  6 4 ,  \" c h a r a c t e r \" :  \" t r o u p e \" ,  \" c r e d i t _ i d \" :  \" 5 2 f e 4 8 0 1 9 2 5 1 4 1 6 c 7 5 0 a c a d 7 \" ,  \" g e n d e r \" :  0 ,  \" i d \" :  1 2 0 7 2 6 3 ,  \" n a m e \" :  \" t a m i c a  w a s h i n g t o n - m i l l e r \" ,  \" o r d e r \" :  4 3 } ,  { \" c a s t _ i d \" :  6 5 ,  \" c h a r a c t e r \" :  \" o p  c e n t e r  s t a f f \" ,  \" c r e d i t _ i d \" :  \" 5 2 f e 4 8 0 1 9 2 5 1 4 1 6 c 7 5 0 a c a d b \" ,  \" g e n d e r \" :  1 ,  \" i d \" :  1 1 4 5 0 9 8 ,  \" n a m e \" :  \" l u c y  b r i a n t \" ,  \" o r d e r \" :  4 4 } ,  { \" c a s t _ i d \" :  6 6 ,  \" c h a r a c t e r \" :  \" o p  c e n t e r  s t a f f \" ,  \" c r e d i t _ i d \" :  \" 5 2 f e 4 8 0 1 9 2 5 1 4 1 6 c 7 5 0 a c a d f \" ,  \" g e n d e r \" :  2 ,  \" i d \" :  3 3 3 0 5 ,  \" n a m e \" :  \" n a t h a n  m e i s t e r \" ,  \" o r d e r \" :  4 5 } ,  { \" c a s t _ i d \" :  6 7 ,  \" c h a r a c t e r \" :  \" o p  c e n t e r  s t a f f \" ,  \" c r e d i t _ i d \" :  \" 5 2 f e 4 8 0 1 9 2 5 1 4 1 6 c 7 5 0 a c a e 3 \" ,  \" g e n d e r \" :  0 ,  \" i d \" :  1 2 0 7 2 6 4 ,  \" n a m e \" :  \" g e r r y  b l a i r \" ,  \" o r d e r \" :  4 6 } ,  { \" c a s t _ i d \" :  6 8 ,  \" c h a r a c t e r \" :  \" o p  c e n t e r  s t a f f \" ,  \" c r e d i t _ i d \" :  \" 5 2 f e 4 8 0 1 9 2 5 1 4 1 6 c 7 5 0 a c a e 7 \" ,  \" g e n d e r \" :  2 ,  \" i d \" :  3 3 3 1 1 ,  \" n a m e \" :  \" m a t t h e w  c h a m b e r l a i n \" ,  \" o r d e r \" :  4 7 } ,  { \" c a s t _ i d \" :  6 9 ,  \" c h a r a c t e r \" :  \" o p  c e n t e r  s t a f f \" ,  \" c r e d i t _ i d \" :  \" 5 2 f e 4 8 0 1 9 2 5 1 4 1 6 c 7 5 0 a c a e b \" ,  \" g e n d e r \" :  0 ,  \" i d \" :  1 2 0 7 2 6 5 ,  \" n a m e \" :  \" p a u l  y a t e s \" ,  \" o r d e r \" :  4 8 } ,  { \" c a s t _ i d \" :  7 0 ,  \" c h a r a c t e r \" :  \" o p  c e n t e r  d u t y  o f f i c e r \" ,  \" c r e d i t _ i d \" :  \" 5 2 f e 4 8 0 1 9 2 5 1 4 1 6 c 7 5 0 a c a e f \" ,  \" g e n d e r \" :  0 ,  \" i d \" :  1 2 0 7 2 6 6 ,  \" n a m e \" :  \" w r a y  w i l s o n \" ,  \" o r d e r \" :  4 9 } ,  { \" c a s t _ i d \" :  7 1 ,  \" c h a r a c t e r \" :  \" o p  c e n t e r  s t a f f \" ,  \" c r e d i t _ i d \" :  \" 5 2 f e 4 8 0 1 9 2 5 1 4 1 6 c 7 5 0 a c a f 3 \" ,  \" g e n d e r \" :  2 ,  \" i d \" :  5 4 4 9 2 ,  \" n a m e \" :  \" j a m e s  g a y l y n \" ,  \" o r d e r \" :  5 0 } ,  { \" c a s t _ i d \" :  7 2 ,  \" c h a r a c t e r \" :  \" d a n c e r \" ,  \" c r e d i t _ i d \" :  \" 5 2 f e 4 8 0 1 9 2 5 1 4 1 6 c 7 5 0 a c a f 7 \" ,  \" g e n d e r \" :  0 ,  \" i d \" :  1 2 0 7 2 6 7 ,  \" n a m e \" :  \" m e l v i n  l e n o  c l a r k  i i i \" ,  \" o r d e r \" :  5 1 } ,  { \" c a s t _ i d \" :  7 3 ,  \" c h a r a c t e r \" :  \" d a n c e r \" ,  \" c r e d i t _ i d \" :  \" 5 2 f e 4 8 0 1 9 2 5 1 4 1 6 c 7 5 0 a c a f b \" ,  \" g e n d e r \" :  0 ,  \" i d \" :  1 2 0 7 2 6 8 ,  \" n a m e \" :  \" c a r v o n  f u t r e l l \" ,  \" o r d e r \" :  5 2 } ,  { \" c a s t _ i d \" :  7 4 ,  \" c h a r a c t e r \" :  \" d a n c e r \" ,  \" c r e d i t _ i d \" :  \" 5 2 f e 4 8 0 1 9 2 5 1 4 1 6 c 7 5 0 a c a f f \" ,  \" g e n d e r \" :  0 ,  \" i d \" :  1 2 0 7 2 6 9 ,  \" n a m e \" :  \" b r a n d o n  j e l k e s \" ,  \" o r d e r \" :  5 3 } ,  { \" c a s t _ i d \" :  7 5 ,  \" c h a r a c t e r \" :  \" d a n c e r \" ,  \" c r e d i t _ i d \" :  \" 5 2 f e 4 8 0 1 9 2 5 1 4 1 6 c 7 5 0 a c b 0 3 \" ,  \" g e n d e r \" :  0 ,  \" i d \" :  1 2 0 7 2 7 0 ,  \" n a m e \" :  \" m i c a h  m o c h \" ,  \" o r d e r \" :  5 4 } ,  { \" c a s t _ i d \" :  7 6 ,  \" c h a r a c t e r \" :  \" d a n c e r \" ,  \" c r e d i t _ i d \" :  \" 5 2 f e 4 8 0 1 9 2 5 1 4 1 6 c 7 5 0 a c b 0 7 \" ,  \" g e n d e r \" :  0 ,  \" i d \" :  1 2 0 7 2 7 1 ,  \" n a m e \" :  \" h a n n i y a h  m u h a m m a d \" ,  \" o r d e r \" :  5 5 } ,  { \" c a s t _ i d \" :  7 7 ,  \" c h a r a c t e r \" :  \" d a n c e r \" ,  \" c r e d i t _ i d \" :  \" 5 2 f e 4 8 0 1 9 2 5 1 4 1 6 c 7 5 0 a c b 0 b \" ,  \" g e n d e r \" :  0 ,  \" i d \" :  1 2 0 7 2 7 2 ,  \" n a m e \" :  \" c h r i s t o p h e r  n o l e n \" ,  \" o r d e r \" :  5 6 } ,  { \" c a s t _ i d \" :  7 8 ,  \" c h a r a c t e r \" :  \" d a n c e r \" ,  \" c r e d i t _ i d \" :  \" 5 2 f e 4 8 0 1 9 2 5 1 4 1 6 c 7 5 0 a c b 0 f \" ,  \" g e n d e r \" :  0 ,  \" i d \" :  1 2 0 7 2 7 3 ,  \" n a m e \" :  \" c h r i s t a  o l i v e r \" ,  \" o r d e r \" :  5 7 } ,  { \" c a s t _ i d \" :  7 9 ,  \" c h a r a c t e r \" :  \" d a n c e r \" ,  \" c r e d i t _ i d \" :  \" 5 2 f e 4 8 0 1 9 2 5 1 4 1 6 c 7 5 0 a c b 1 3 \" ,  \" g e n d e r \" :  0 ,  \" i d \" :  1 2 0 7 2 7 4 ,  \" n a m e \" :  \" a p r i l  m a r i e  t h o m a s \" ,  \" o r d e r \" :  5 8 } ,  { \" c a s t _ i d \" :  8 0 ,  \" c h a r a c t e r \" :  \" d a n c e r \" ,  \" c r e d i t _ i d \" :  \" 5 2 f e 4 8 0 1 9 2 5 1 4 1 6 c 7 5 0 a c b 1 7 \" ,  \" g e n d e r \" :  0 ,  \" i d \" :  1 2 0 7 2 7 5 ,  \" n a m e \" :  \" b r a v i t a  a .  t h r e a t t \" ,  \" o r d e r \" :  5 9 } ,  { \" c a s t _ i d \" :  8 1 ,  \" c h a r a c t e r \" :  \" m i n i n g  c h i e f  ( u n c r e d i t e d ) \" ,  \" c r e d i t _ i d \" :  \" 5 2 f e 4 8 0 1 9 2 5 1 4 1 6 c 7 5 0 a c b 1 b \" ,  \" g e n d e r \" :  0 ,  \" i d \" :  1 2 0 7 2 7 6 ,  \" n a m e \" :  \" c o l i n  b l e a s d a l e \" ,  \" o r d e r \" :  6 0 } ,  { \" c a s t _ i d \" :  8 2 ,  \" c h a r a c t e r \" :  \" v e t e r a n  m i n e r  ( u n c r e d i t e d ) \" ,  \" c r e d i t _ i d \" :  \" 5 2 f e 4 8 0 1 9 2 5 1 4 1 6 c 7 5 0 a c b 1 f \" ,  \" g e n d e r \" :  0 ,  \" i d \" :  1 0 7 9 6 9 ,  \" n a m e \" :  \" m i k e  b o d n a r \" ,  \" o r d e r \" :  6 1 } ,  { \" c a s t _ i d \" :  8 3 ,  \" c h a r a c t e r \" :  \" r i c h a r d  ( u n c r e d i t e d ) \" ,  \" c r e d i t _ i d \" :  \" 5 2 f e 4 8 0 1 9 2 5 1 4 1 6 c 7 5 0 a c b 2 3 \" ,  \" g e n d e r \" :  0 ,  \" i d \" :  1 2 0 7 2 7 8 ,  \" n a m e \" :  \" m a t t  c l a y t o n \" ,  \" o r d e r \" :  6 2 } ,  { \" c a s t _ i d \" :  8 4 ,  \" c h a r a c t e r \" :  \" n a v \\' i  ( u n c r e d i t e d ) \" ,  \" c r e d i t _ i d \" :  \" 5 2 f e 4 8 0 1 9 2 5 1 4 1 6 c 7 5 0 a c b 2 7 \" ,  \" g e n d e r \" :  1 ,  \" i d \" :  1 4 7 8 9 8 ,  \" n a m e \" :  \" n i c o l e  d i o n n e \" ,  \" o r d e r \" :  6 3 } ,  { \" c a s t _ i d \" :  8 5 ,  \" c h a r a c t e r \" :  \" t r o o p e r  ( u n c r e d i t e d ) \" ,  \" c r e d i t _ i d \" :  \" 5 2 f e 4 8 0 1 9 2 5 1 4 1 6 c 7 5 0 a c b 2 b \" ,  \" g e n d e r \" :  0 ,  \" i d \" :  1 2 0 7 2 8 0 ,  \" n a m e \" :  \" j a m i e  h a r r i s o n \" ,  \" o r d e r \" :  6 4 } ,  { \" c a s t _ i d \" :  8 6 ,  \" c h a r a c t e r \" :  \" t r o o p e r  ( u n c r e d i t e d ) \" ,  \" c r e d i t _ i d \" :  \" 5 2 f e 4 8 0 1 9 2 5 1 4 1 6 c 7 5 0 a c b 2 f \" ,  \" g e n d e r \" :  0 ,  \" i d \" :  1 2 0 7 2 8 1 ,  \" n a m e \" :  \" a l l a n  h e n r y \" ,  \" o r d e r \" :  6 5 } ,  { \" c a s t _ i d \" :  8 7 ,  \" c h a r a c t e r \" :  \" g r o u n d  t e c h n i c i a n  ( u n c r e d i t e d ) \" ,  \" c r e d i t _ i d \" :  \" 5 2 f e 4 8 0 1 9 2 5 1 4 1 6 c 7 5 0 a c b 3 3 \" ,  \" g e n d e r \" :  2 ,  \" i d \" :  1 2 0 7 2 8 2 ,  \" n a m e \" :  \" a n t h o n y  i n g r u b e r \" ,  \" o r d e r \" :  6 6 } ,  { \" c a s t _ i d \" :  8 8 ,  \" c h a r a c t e r \" :  \" f l i g h t  c r e w  m e c h a n i c  ( u n c r e d i t e d ) \" ,  \" c r e d i t _ i d \" :  \" 5 2 f e 4 8 0 1 9 2 5 1 4 1 6 c 7 5 0 a c b 3 7 \" ,  \" g e n d e r \" :  0 ,  \" i d \" :  1 2 0 7 2 8 3 ,  \" n a m e \" :  \" a s h l e y  j e f f e r y \" ,  \" o r d e r \" :  6 7 } ,  { \" c a s t _ i d \" :  1 4 ,  \" c h a r a c t e r \" :  \" s a m s o n  p i l o t \" ,  \" c r e d i t _ i d \" :  \" 5 2 f e 4 8 0 0 9 2 5 1 4 1 6 c 7 5 0 a c 9 f 9 \" ,  \" g e n d e r \" :  0 ,  \" i d \" :  9 8 2 1 6 ,  \" n a m e \" :  \" d e a n  k n o w s l e y \" ,  \" o r d e r \" :  6 8 } ,  { \" c a s t _ i d \" :  8 9 ,  \" c h a r a c t e r \" :  \" t r o o p e r  ( u n c r e d i t e d ) \" ,  \" c r e d i t _ i d \" :  \" 5 2 f e 4 8 0 1 9 2 5 1 4 1 6 c 7 5 0 a c b 3 b \" ,  \" g e n d e r \" :  0 ,  \" i d \" :  1 2 0 1 3 9 9 ,  \" n a m e \" :  \" j o s e p h  m i k a - h u n t \" ,  \" o r d e r \" :  6 9 } ,  { \" c a s t _ i d \" :  9 0 ,  \" c h a r a c t e r \" :  \" b a n s h e e  ( u n c r e d i t e d ) \" ,  \" c r e d i t _ i d \" :  \" 5 2 f e 4 8 0 1 9 2 5 1 4 1 6 c 7 5 0 a c b 3 f \" ,  \" g e n d e r \" :  0 ,  \" i d \" :  2 3 6 6 9 6 ,  \" n a m e \" :  \" t e r r y  n o t a r y \" ,  \" o r d e r \" :  7 0 } ,  { \" c a s t _ i d \" :  9 1 ,  \" c h a r a c t e r \" :  \" s o l d i e r  ( u n c r e d i t e d ) \" ,  \" c r e d i t _ i d \" :  \" 5 2 f e 4 8 0 1 9 2 5 1 4 1 6 c 7 5 0 a c b 4 3 \" ,  \" g e n d e r \" :  0 ,  \" i d \" :  1 2 0 7 2 8 7 ,  \" n a m e \" :  \" k a i  p a n t a n o \" ,  \" o r d e r \" :  7 1 } ,  { \" c a s t _ i d \" :  9 2 ,  \" c h a r a c t e r \" :  \" b l a s t  t e c h n i c i a n  ( u n c r e d i t e d ) \" ,  \" c r e d i t _ i d \" :  \" 5 2 f e 4 8 0 1 9 2 5 1 4 1 6 c 7 5 0 a c b 4 7 \" ,  \" g e n d e r \" :  0 ,  \" i d \" :  1 2 0 7 2 8 8 ,  \" n a m e \" :  \" l o g a n  p i t h y o u \" ,  \" o r d e r \" :  7 2 } ,  { \" c a s t _ i d \" :  9 3 ,  \" c h a r a c t e r \" :  \" v i n d u m  r a a h  ( u n c r e d i t e d ) \" ,  \" c r e d i t _ i d \" :  \" 5 2 f e 4 8 0 1 9 2 5 1 4 1 6 c 7 5 0 a c b 4 b \" ,  \" g e n d e r \" :  0 ,  \" i d \" :  1 2 0 7 2 8 9 ,  \" n a m e \" :  \" s t u a r t  p o l l o c k \" ,  \" o r d e r \" :  7 3 } ,  { \" c a s t _ i d \" :  9 4 ,  \" c h a r a c t e r \" :  \" h e r o  ( u n c r e d i t e d ) \" ,  \" c r e d i t _ i d \" :  \" 5 2 f e 4 8 0 1 9 2 5 1 4 1 6 c 7 5 0 a c b 4 f \" ,  \" g e n d e r \" :  0 ,  \" i d \" :  5 8 4 8 6 8 ,  \" n a m e \" :  \" r a j a \" ,  \" o r d e r \" :  7 4 } ,  { \" c a s t _ i d \" :  9 5 ,  \" c h a r a c t e r \" :  \" o p s  c e n t r e w o r k e r  ( u n c r e d i t e d ) \" ,  \" c r e d i t _ i d \" :  \" 5 2 f e 4 8 0 1 9 2 5 1 4 1 6 c 7 5 0 a c b 5 3 \" ,  \" g e n d e r \" :  0 ,  \" i d \" :  1 2 0 7 2 9 0 ,  \" n a m e \" :  \" g a r e t h  r u c k \" ,  \" o r d e r \" :  7 5 } ,  { \" c a s t _ i d \" :  9 6 ,  \" c h a r a c t e r \" :  \" e n g i n e e r  ( u n c r e d i t e d ) \" ,  \" c r e d i t _ i d \" :  \" 5 2 f e 4 8 0 1 9 2 5 1 4 1 6 c 7 5 0 a c b 5 7 \" ,  \" g e n d e r \" :  0 ,  \" i d \" :  1 0 6 2 4 6 3 ,  \" n a m e \" :  \" r h i a n  s h e e h a n \" ,  \" o r d e r \" :  7 6 } ,  { \" c a s t _ i d \" :  9 7 ,  \" c h a r a c t e r \" :  \" c o l .  q u a r i t c h \\' s  m e c h  s u i t  ( u n c r e d i t e d ) \" ,  \" c r e d i t _ i d \" :  \" 5 2 f e 4 8 0 1 9 2 5 1 4 1 6 c 7 5 0 a c b 5 b \" ,  \" g e n d e r \" :  0 ,  \" i d \" :  6 0 6 5 6 ,  \" n a m e \" :  \" t .  j .  s t o r m \" ,  \" o r d e r \" :  7 7 } ,  { \" c a s t _ i d \" :  9 8 ,  \" c h a r a c t e r \" :  \" f e m a l e  m a r i n e  ( u n c r e d i t e d ) \" ,  \" c r e d i t _ i d \" :  \" 5 2 f e 4 8 0 1 9 2 5 1 4 1 6 c 7 5 0 a c b 5 f \" ,  \" g e n d e r \" :  0 ,  \" i d \" :  1 2 0 7 2 9 1 ,  \" n a m e \" :  \" j o d i e  t a y l o r \" ,  \" o r d e r \" :  7 8 } ,  { \" c a s t _ i d \" :  9 9 ,  \" c h a r a c t e r \" :  \" i k r a n  c l a n  l e a d e r  ( u n c r e d i t e d ) \" ,  \" c r e d i t _ i d \" :  \" 5 2 f e 4 8 0 1 9 2 5 1 4 1 6 c 7 5 0 a c b 6 3 \" ,  \" g e n d e r \" :  1 ,  \" i d \" :  1 1 8 6 0 2 7 ,  \" n a m e \" :  \" a l i c i a  v e l a - b a i l e y \" ,  \" o r d e r \" :  7 9 } ,  { \" c a s t _ i d \" :  1 0 0 ,  \" c h a r a c t e r \" :  \" g e o l o g i s t  ( u n c r e d i t e d ) \" ,  \" c r e d i t _ i d \" :  \" 5 2 f e 4 8 0 1 9 2 5 1 4 1 6 c 7 5 0 a c b 6 7 \" ,  \" g e n d e r \" :  0 ,  \" i d \" :  1 2 0 7 2 9 2 ,  \" n a m e \" :  \" r i c h a r d  w h i t e s i d e \" ,  \" o r d e r \" :  8 0 } ,  { \" c a s t _ i d \" :  1 0 1 ,  \" c h a r a c t e r \" :  \" n a \\' v i  ( u n c r e d i t e d ) \" ,  \" c r e d i t _ i d \" :  \" 5 2 f e 4 8 0 1 9 2 5 1 4 1 6 c 7 5 0 a c b 6 b \" ,  \" g e n d e r \" :  0 ,  \" i d \" :  1 0 3 2 5 9 ,  \" n a m e \" :  \" n i k i e  z a m b o \" ,  \" o r d e r \" :  8 1 } ,  { \" c a s t _ i d \" :  1 0 2 ,  \" c h a r a c t e r \" :  \" a m b i e n t  r o o m  t e c h  /  t r o u p e \" ,  \" c r e d i t _ i d \" :  \" 5 2 f e 4 8 0 1 9 2 5 1 4 1 6 c 7 5 0 a c b 6 f \" ,  \" g e n d e r \" :  1 ,  \" i d \" :  4 2 2 8 6 ,  \" n a m e \" :  \" j u l e n e  r e n e e \" ,  \" o r d e r \" :  8 2 } ] [ { \" c r e d i t _ i d \" :  \" 5 2 f e 4 8 0 0 9 2 5 1 4 1 6 c 7 5 0 a c a 2 3 \" ,  \" d e p a r t m e n t \" :  \" e d i t i n g \" ,  \" g e n d e r \" :  0 ,  \" i d \" :  1 7 2 1 ,  \" j o b \" :  \" e d i t o r \" ,  \" n a m e \" :  \" s t e p h e n  e .  r i v k i n \" } ,  { \" c r e d i t _ i d \" :  \" 5 3 9 c 4 7 e c c 3 a 3 6 8 1 0 e 3 0 0 1 f 8 7 \" ,  \" d e p a r t m e n t \" :  \" a r t \" ,  \" g e n d e r \" :  2 ,  \" i d \" :  4 9 6 ,  \" j o b \" :  \" p r o d u c t i o n  d e s i g n \" ,  \" n a m e \" :  \" r i c k  c a r t e r \" } ,  { \" c r e d i t _ i d \" :  \" 5 4 4 9 1 c 8 9 c 3 a 3 6 8 0 f b 4 0 0 1 c f 7 \" ,  \" d e p a r t m e n t \" :  \" s o u n d \" ,  \" g e n d e r \" :  0 ,  \" i d \" :  9 0 0 ,  \" j o b \" :  \" s o u n d  d e s i g n e r \" ,  \" n a m e \" :  \" c h r i s t o p h e r  b o y e s \" } ,  { \" c r e d i t _ i d \" :  \" 5 4 4 9 1 c b 7 0 e 0 a 2 6 7 4 8 0 0 0 1 b d 0 \" ,  \" d e p a r t m e n t \" :  \" s o u n d \" ,  \" g e n d e r \" :  0 ,  \" i d \" :  9 0 0 ,  \" j o b \" :  \" s u p e r v i s i n g  s o u n d  e d i t o r \" ,  \" n a m e \" :  \" c h r i s t o p h e r  b o y e s \" } ,  { \" c r e d i t _ i d \" :  \" 5 3 9 c 4 a 4 c c 3 a 3 6 8 1 0 c 9 0 0 2 1 0 1 \" ,  \" d e p a r t m e n t \" :  \" p r o d u c t i o n \" ,  \" g e n d e r \" :  1 ,  \" i d \" :  1 2 6 2 ,  \" j o b \" :  \" c a s t i n g \" ,  \" n a m e \" :  \" m a l i  f i n n \" } ,  { \" c r e d i t _ i d \" :  \" 5 5 4 4 e e 3 b 9 2 5 1 4 1 4 9 9 f 0 0 0 8 f c \" ,  \" d e p a r t m e n t \" :  \" s o u n d \" ,  \" g e n d e r \" :  2 ,  \" i d \" :  1 7 2 9 ,  \" j o b \" :  \" o r i g i n a l  m u s i c  c o m p o s e r \" ,  \" n a m e \" :  \" j a m e s  h o r n e r \" } ,  { \" c r e d i t _ i d \" :  \" 5 2 f e 4 8 0 0 9 2 5 1 4 1 6 c 7 5 0 a c 9 c 3 \" ,  \" d e p a r t m e n t \" :  \" d i r e c t i n g \" ,  \" g e n d e r \" :  2 ,  \" i d \" :  2 7 1 0 ,  \" j o b \" :  \" d i r e c t o r \" ,  \" n a m e \" :  \" j a m e s  c a m e r o n \" } ,  { \" c r e d i t _ i d \" :  \" 5 2 f e 4 8 0 0 9 2 5 1 4 1 6 c 7 5 0 a c 9 d 9 \" ,  \" d e p a r t m e n t \" :  \" w r i t i n g \" ,  \" g e n d e r \" :  2 ,  \" i d \" :  2 7 1 0 ,  \" j o b \" :  \" w r i t e r \" ,  \" n a m e \" :  \" j a m e s  c a m e r o n \" } ,  { \" c r e d i t _ i d \" :  \" 5 2 f e 4 8 0 0 9 2 5 1 4 1 6 c 7 5 0 a c a 1 7 \" ,  \" d e p a r t m e n t \" :  \" e d i t i n g \" ,  \" g e n d e r \" :  2 ,  \" i d \" :  2 7 1 0 ,  \" j o b \" :  \" e d i t o r \" ,  \" n a m e \" :  \" j a m e s  c a m e r o n \" } ,  { \" c r e d i t _ i d \" :  \" 5 2 f e 4 8 0 0 9 2 5 1 4 1 6 c 7 5 0 a c a 2 9 \" ,  \" d e p a r t m e n t \" :  \" p r o d u c t i o n \" ,  \" g e n d e r \" :  2 ,  \" i d \" :  2 7 1 0 ,  \" j o b \" :  \" p r o d u c e r \" ,  \" n a m e \" :  \" j a m e s  c a m e r o n \" } ,  { \" c r e d i t _ i d \" :  \" 5 2 f e 4 8 0 0 9 2 5 1 4 1 6 c 7 5 0 a c a 3 f \" ,  \" d e p a r t m e n t \" :  \" w r i t i n g \" ,  \" g e n d e r \" :  2 ,  \" i d \" :  2 7 1 0 ,  \" j o b \" :  \" s c r e e n p l a y \" ,  \" n a m e \" :  \" j a m e s  c a m e r o n \" } ,  { \" c r e d i t _ i d \" :  \" 5 3 9 c 4 9 8 7 c 3 a 3 6 8 1 0 b a 0 0 2 1 a 4 \" ,  \" d e p a r t m e n t \" :  \" a r t \" ,  \" g e n d e r \" :  2 ,  \" i d \" :  7 2 3 6 ,  \" j o b \" :  \" a r t  d i r e c t i o n \" ,  \" n a m e \" :  \" a n d r e w  m e n z i e s \" } ,  { \" c r e d i t _ i d \" :  \" 5 4 9 5 9 8 c 3 c 3 a 3 6 8 6 a e 9 0 0 4 3 8 3 \" ,  \" d e p a r t m e n t \" :  \" v i s u a l  e f f e c t s \" ,  \" g e n d e r \" :  0 ,  \" i d \" :  6 6 9 0 ,  \" j o b \" :  \" v i s u a l  e f f e c t s  p r o d u c e r \" ,  \" n a m e \" :  \" j i l l  b r o o k s \" } ,  { \" c r e d i t _ i d \" :  \" 5 2 f e 4 8 0 0 9 2 5 1 4 1 6 c 7 5 0 a c a 4 b \" ,  \" d e p a r t m e n t \" :  \" p r o d u c t i o n \" ,  \" g e n d e r \" :  1 ,  \" i d \" :  6 3 4 7 ,  \" j o b \" :  \" c a s t i n g \" ,  \" n a m e \" :  \" m a r g e r y  s i m k i n \" } ,  { \" c r e d i t _ i d \" :  \" 5 7 0 b 6 f 4 1 9 2 5 1 4 1 7 d a 7 0 0 3 2 f e \" ,  \" d e p a r t m e n t \" :  \" a r t \" ,  \" g e n d e r \" :  2 ,  \" i d \" :  6 8 7 8 ,  \" j o b \" :  \" s u p e r v i s i n g  a r t  d i r e c t o r \" ,  \" n a m e \" :  \" k e v i n  i s h i o k a \" } ,  { \" c r e d i t _ i d \" :  \" 5 4 9 5 a 0 f a c 3 a 3 6 8 6 a e 9 0 0 4 4 6 8 \" ,  \" d e p a r t m e n t \" :  \" s o u n d \" ,  \" g e n d e r \" :  0 ,  \" i d \" :  6 8 8 3 ,  \" j o b \" :  \" m u s i c  e d i t o r \" ,  \" n a m e \" :  \" d i c k  b e r n s t e i n \" } ,  { \" c r e d i t _ i d \" :  \" 5 4 9 5 9 7 0 6 c 3 a 3 6 8 6 a f 3 0 0 3 e 8 1 \" ,  \" d e p a r t m e n t \" :  \" s o u n d \" ,  \" g e n d e r \" :  0 ,  \" i d \" :  8 1 5 9 ,  \" j o b \" :  \" s o u n d  e f f e c t s  e d i t o r \" ,  \" n a m e \" :  \" s h a n n o n  m i l l s \" } ,  { \" c r e d i t _ i d \" :  \" 5 4 4 9 1 d 5 8 c 3 a 3 6 8 0 f b 1 0 0 1 c c b \" ,  \" d e p a r t m e n t \" :  \" s o u n d \" ,  \" g e n d e r \" :  0 ,  \" i d \" :  8 1 6 0 ,  \" j o b \" :  \" f o l e y \" ,  \" n a m e \" :  \" d e n n i e  t h o r p e \" } ,  { \" c r e d i t _ i d \" :  \" 5 4 4 9 1 d 6 c c 3 a 3 6 8 0 f a 5 0 0 1 b 2 c \" ,  \" d e p a r t m e n t \" :  \" s o u n d \" ,  \" g e n d e r \" :  0 ,  \" i d \" :  8 1 6 3 ,  \" j o b \" :  \" f o l e y \" ,  \" n a m e \" :  \" j a n a  v a n c e \" } ,  { \" c r e d i t _ i d \" :  \" 5 2 f e 4 8 0 0 9 2 5 1 4 1 6 c 7 5 0 a c a 5 7 \" ,  \" d e p a r t m e n t \" :  \" c o s t u m e  &  m a k e - u p \" ,  \" g e n d e r \" :  1 ,  \" i d \" :  8 5 2 7 ,  \" j o b \" :  \" c o s t u m e  d e s i g n \" ,  \" n a m e \" :  \" d e b o r a h  l y n n  s c o t t \" } ,  { \" c r e d i t _ i d \" :  \" 5 2 f e 4 8 0 0 9 2 5 1 4 1 6 c 7 5 0 a c a 2 f \" ,  \" d e p a r t m e n t \" :  \" p r o d u c t i o n \" ,  \" g e n d e r \" :  2 ,  \" i d \" :  8 5 2 9 ,  \" j o b \" :  \" p r o d u c e r \" ,  \" n a m e \" :  \" j o n  l a n d a u \" } ,  { \" c r e d i t _ i d \" :  \" 5 3 9 c 4 9 3 7 c 3 a 3 6 8 1 0 b a 0 0 2 1 9 4 \" ,  \" d e p a r t m e n t \" :  \" a r t \" ,  \" g e n d e r \" :  0 ,  \" i d \" :  9 6 1 8 ,  \" j o b \" :  \" a r t  d i r e c t i o n \" ,  \" n a m e \" :  \" s e a n  h a w o r t h \" } ,  { \" c r e d i t _ i d \" :  \" 5 3 9 c 4 9 b 6 c 3 a 3 6 8 1 0 c 1 0 0 2 0 e 6 \" ,  \" d e p a r t m e n t \" :  \" a r t \" ,  \" g e n d e r \" :  1 ,  \" i d \" :  1 2 6 5 3 ,  \" j o b \" :  \" s e t  d e c o r a t i o n \" ,  \" n a m e \" :  \" k i m  s i n c l a i r \" } ,  { \" c r e d i t _ i d \" :  \" 5 7 0 b 6 f 2 f 9 2 5 1 4 1 3 a 0 e 0 0 0 2 0 d \" ,  \" d e p a r t m e n t \" :  \" a r t \" ,  \" g e n d e r \" :  1 ,  \" i d \" :  1 2 6 5 3 ,  \" j o b \" :  \" s u p e r v i s i n g  a r t  d i r e c t o r \" ,  \" n a m e \" :  \" k i m  s i n c l a i r \" } ,  { \" c r e d i t _ i d \" :  \" 5 4 4 9 1 a 6 c 0 e 0 a 2 6 7 4 8 c 0 0 1 b 1 9 \" ,  \" d e p a r t m e n t \" :  \" a r t \" ,  \" g e n d e r \" :  2 ,  \" i d \" :  1 4 3 5 0 ,  \" j o b \" :  \" s e t  d e s i g n e r \" ,  \" n a m e \" :  \" r i c h a r d  f .  m a y s \" } ,  { \" c r e d i t _ i d \" :  \" 5 6 9 2 8 c f 4 c 3 a 3 6 8 4 c f f 0 0 2 5 c 4 \" ,  \" d e p a r t m e n t \" :  \" p r o d u c t i o n \" ,  \" g e n d e r \" :  1 ,  \" i d \" :  2 0 2 9 4 ,  \" j o b \" :  \" e x e c u t i v e  p r o d u c e r \" ,  \" n a m e \" :  \" l a e t a  k a l o g r i d i s \" } ,  { \" c r e d i t _ i d \" :  \" 5 2 f e 4 8 0 0 9 2 5 1 4 1 6 c 7 5 0 a c a 5 1 \" ,  \" d e p a r t m e n t \" :  \" c o s t u m e  &  m a k e - u p \" ,  \" g e n d e r \" :  0 ,  \" i d \" :  1 7 6 7 5 ,  \" j o b \" :  \" c o s t u m e  d e s i g n \" ,  \" n a m e \" :  \" m a y e s  c .  r u b e o \" } ,  { \" c r e d i t _ i d \" :  \" 5 2 f e 4 8 0 0 9 2 5 1 4 1 6 c 7 5 0 a c a 1 1 \" ,  \" d e p a r t m e n t \" :  \" c a m e r a \" ,  \" g e n d e r \" :  2 ,  \" i d \" :  1 8 2 6 5 ,  \" j o b \" :  \" d i r e c t o r  o f  p h o t o g r a p h y \" ,  \" n a m e \" :  \" m a u r o  f i o r e \" } ,  { \" c r e d i t _ i d \" :  \" 5 4 4 9 1 9 4 d 0 e 0 a 2 6 7 4 8 f 0 0 1 b 3 9 \" ,  \" d e p a r t m e n t \" :  \" a r t \" ,  \" g e n d e r \" :  0 ,  \" i d \" :  4 2 2 8 1 ,  \" j o b \" :  \" s e t  d e s i g n e r \" ,  \" n a m e \" :  \" s c o t t  h e r b e r t s o n \" } ,  { \" c r e d i t _ i d \" :  \" 5 2 f e 4 8 0 0 9 2 5 1 4 1 6 c 7 5 0 a c a 0 5 \" ,  \" d e p a r t m e n t \" :  \" c r e w \" ,  \" g e n d e r \" :  0 ,  \" i d \" :  4 2 2 8 8 ,  \" j o b \" :  \" s t u n t s \" ,  \" n a m e \" :  \" w o o d y  s c h u l t z \" } ,  { \" c r e d i t _ i d \" :  \" 5 5 9 2 a e f b 9 2 5 1 4 1 5 2 d e 0 0 1 0 f 5 \" ,  \" d e p a r t m e n t \" :  \" c o s t u m e  &  m a k e - u p \" ,  \" g e n d e r \" :  0 ,  \" i d \" :  2 9 0 6 7 ,  \" j o b \" :  \" m a k e u p  a r t i s t \" ,  \" n a m e \" :  \" l i n d a  d e v e t t a \" } ,  { \" c r e d i t _ i d \" :  \" 5 5 9 2 a f a 4 9 2 5 1 4 1 5 2 d e 0 0 1 1 2 c \" ,  \" d e p a r t m e n t \" :  \" c o s t u m e  &  m a k e - u p \" ,  \" g e n d e r \" :  0 ,  \" i d \" :  2 9 0 6 7 ,  \" j o b \" :  \" h a i r s t y l i s t \" ,  \" n a m e \" :  \" l i n d a  d e v e t t a \" } ,  { \" c r e d i t _ i d \" :  \" 5 4 9 5 9 e d 5 9 2 5 1 4 1 3 0 f c 0 0 2 e 5 d \" ,  \" d e p a r t m e n t \" :  \" c a m e r a \" ,  \" g e n d e r \" :  2 ,  \" i d \" :  3 3 3 0 2 ,  \" j o b \" :  \" c a m e r a  o p e r a t o r \" ,  \" n a m e \" :  \" r i c h a r d  b l u c k \" } ,  { \" c r e d i t _ i d \" :  \" 5 3 9 c 4 8 9 1 c 3 a 3 6 8 1 0 b a 0 0 2 1 4 7 \" ,  \" d e p a r t m e n t \" :  \" a r t \" ,  \" g e n d e r \" :  2 ,  \" i d \" :  3 3 3 0 3 ,  \" j o b \" :  \" a r t  d i r e c t i o n \" ,  \" n a m e \" :  \" s i m o n  b r i g h t \" } ,  { \" c r e d i t _ i d \" :  \" 5 4 9 5 9 c 0 6 9 2 5 1 4 1 7 a 8 1 0 0 1 f 3 a \" ,  \" d e p a r t m e n t \" :  \" v i s u a l  e f f e c t s \" ,  \" g e n d e r \" :  0 ,  \" i d \" :  1 1 3 1 4 5 ,  \" j o b \" :  \" v i s u a l  e f f e c t s  s u p e r v i s o r \" ,  \" n a m e \" :  \" r i c h a r d  m a r t i n \" } ,  { \" c r e d i t _ i d \" :  \" 5 4 9 5 9 a 0 d c 3 a 3 6 8 0 f f 5 0 0 2 c 8 d \" ,  \" d e p a r t m e n t \" :  \" c r e w \" ,  \" g e n d e r \" :  2 ,  \" i d \" :  5 8 1 8 8 ,  \" j o b \" :  \" v i s u a l  e f f e c t s  e d i t o r \" ,  \" n a m e \" :  \" s t e v e  r .  m o o r e \" } ,  { \" c r e d i t _ i d \" :  \" 5 2 f e 4 8 0 0 9 2 5 1 4 1 6 c 7 5 0 a c a 1 d \" ,  \" d e p a r t m e n t \" :  \" e d i t i n g \" ,  \" g e n d e r \" :  2 ,  \" i d \" :  5 8 8 7 1 ,  \" j o b \" :  \" e d i t o r \" ,  \" n a m e \" :  \" j o h n  r e f o u a \" } ,  { \" c r e d i t _ i d \" :  \" 5 4 4 9 1 a 4 d c 3 a 3 6 8 0 f c 3 0 0 1 8 c a \" ,  \" d e p a r t m e n t \" :  \" a r t \" ,  \" g e n d e r \" :  0 ,  \" i d \" :  9 2 3 5 9 ,  \" j o b \" :  \" s e t  d e s i g n e r \" ,  \" n a m e \" :  \" k a r l  j .  m a r t i n \" } ,  { \" c r e d i t _ i d \" :  \" 5 2 f e 4 8 0 0 9 2 5 1 4 1 6 c 7 5 0 a c a 3 5 \" ,  \" d e p a r t m e n t \" :  \" c a m e r a \" ,  \" g e n d e r \" :  1 ,  \" i d \" :  7 2 2 0 1 ,  \" j o b \" :  \" d i r e c t o r  o f  p h o t o g r a p h y \" ,  \" n a m e \" :  \" c h i l i n g  l i n \" } ,  { \" c r e d i t _ i d \" :  \" 5 2 f e 4 8 0 0 9 2 5 1 4 1 6 c 7 5 0 a c 9 f f \" ,  \" d e p a r t m e n t \" :  \" c r e w \" ,  \" g e n d e r \" :  0 ,  \" i d \" :  8 9 7 1 4 ,  \" j o b \" :  \" s t u n t s \" ,  \" n a m e \" :  \" i l r a m  c h o i \" } ,  { \" c r e d i t _ i d \" :  \" 5 4 9 5 9 c 5 2 9 2 5 1 4 1 6 e 2 b 0 0 4 3 9 4 \" ,  \" d e p a r t m e n t \" :  \" v i s u a l  e f f e c t s \" ,  \" g e n d e r \" :  2 ,  \" i d \" :  9 3 2 1 4 ,  \" j o b \" :  \" v i s u a l  e f f e c t s  s u p e r v i s o r \" ,  \" n a m e \" :  \" s t e v e n  q u a l e \" } ,  { \" c r e d i t _ i d \" :  \" 5 4 4 9 1 e d f 0 e 0 a 2 6 7 4 8 9 0 0 1 c 3 7 \" ,  \" d e p a r t m e n t \" :  \" c r e w \" ,  \" g e n d e r \" :  1 ,  \" i d \" :  1 2 2 6 0 7 ,  \" j o b \" :  \" d i a l e c t  c o a c h \" ,  \" n a m e \" :  \" c a r l a  m e y e r \" } ,  { \" c r e d i t _ i d \" :  \" 5 3 9 c 4 8 5 b c 3 a 3 6 8 6 5 3 d 0 0 1 a 3 a \" ,  \" d e p a r t m e n t \" :  \" a r t \" ,  \" g e n d e r \" :  2 ,  \" i d \" :  1 3 2 5 8 5 ,  \" j o b \" :  \" a r t  d i r e c t i o n \" ,  \" n a m e \" :  \" n i c k  b a s s e t t \" } ,  { \" c r e d i t _ i d \" :  \" 5 3 9 c 4 9 0 3 c 3 a 3 6 8 6 5 3 d 0 0 1 a 7 4 \" ,  \" d e p a r t m e n t \" :  \" a r t \" ,  \" g e n d e r \" :  0 ,  \" i d \" :  1 3 2 5 9 6 ,  \" j o b \" :  \" a r t  d i r e c t i o n \" ,  \" n a m e \" :  \" j i l l  c o r m a c k \" } ,  { \" c r e d i t _ i d \" :  \" 5 3 9 c 4 9 6 7 c 3 a 3 6 8 6 5 3 d 0 0 1 a 9 4 \" ,  \" d e p a r t m e n t \" :  \" a r t \" ,  \" g e n d e r \" :  0 ,  \" i d \" :  1 3 2 6 0 4 ,  \" j o b \" :  \" a r t  d i r e c t i o n \" ,  \" n a m e \" :  \" a n d y  m c l a r e n \" } ,  { \" c r e d i t _ i d \" :  \" 5 2 f e 4 8 0 0 9 2 5 1 4 1 6 c 7 5 0 a c a 4 5 \" ,  \" d e p a r t m e n t \" :  \" c r e w \" ,  \" g e n d e r \" :  0 ,  \" i d \" :  2 3 6 6 9 6 ,  \" j o b \" :  \" m o t i o n  c a p t u r e  a r t i s t \" ,  \" n a m e \" :  \" t e r r y  n o t a r y \" } ,  { \" c r e d i t _ i d \" :  \" 5 4 9 5 9 e 0 2 c 3 a 3 6 8 0 f c 6 0 0 2 7 d 2 \" ,  \" d e p a r t m e n t \" :  \" c r e w \" ,  \" g e n d e r \" :  2 ,  \" i d \" :  9 5 6 1 9 8 ,  \" j o b \" :  \" s t u n t  c o o r d i n a t o r \" ,  \" n a m e \" :  \" g a r r e t t  w a r r e n \" } ,  { \" c r e d i t _ i d \" :  \" 5 4 9 5 9 c a 3 c 3 a 3 6 8 6 a e 3 0 0 4 3 8 c \" ,  \" d e p a r t m e n t \" :  \" v i s u a l  e f f e c t s \" ,  \" g e n d e r \" :  2 ,  \" i d \" :  9 5 7 8 7 4 ,  \" j o b \" :  \" v i s u a l  e f f e c t s  s u p e r v i s o r \" ,  \" n a m e \" :  \" j o n a t h a n  r o t h b a r t \" } ,  { \" c r e d i t _ i d \" :  \" 5 7 0 b 6 f 5 1 9 2 5 1 4 1 2 c 7 4 0 0 1 b 2 f \" ,  \" d e p a r t m e n t \" :  \" a r t \" ,  \" g e n d e r \" :  0 ,  \" i d \" :  9 5 7 8 8 9 ,  \" j o b \" :  \" s u p e r v i s i n g  a r t  d i r e c t o r \" ,  \" n a m e \" :  \" s t e f a n  d e c h a n t \" } ,  { \" c r e d i t _ i d \" :  \" 5 7 0 b 6 f 6 2 c 3 a 3 6 8 0 b 7 7 0 0 7 4 6 0 \" ,  \" d e p a r t m e n t \" :  \" a r t \" ,  \" g e n d e r \" :  2 ,  \" i d \" :  9 5 9 5 5 5 ,  \" j o b \" :  \" s u p e r v i s i n g  a r t  d i r e c t o r \" ,  \" n a m e \" :  \" t o d d  c h e r n i a w s k y \" } ,  { \" c r e d i t _ i d \" :  \" 5 3 9 c 4 a 3 a c 3 a 3 6 8 1 0 d a 0 0 2 1 c c \" ,  \" d e p a r t m e n t \" :  \" p r o d u c t i o n \" ,  \" g e n d e r \" :  0 ,  \" i d \" :  1 0 1 6 1 7 7 ,  \" j o b \" :  \" c a s t i n g \" ,  \" n a m e \" :  \" m i r a n d a  r i v e r s \" } ,  { \" c r e d i t _ i d \" :  \" 5 3 9 c 4 8 2 c c 3 a 3 6 8 1 0 c 1 0 0 2 0 6 2 \" ,  \" d e p a r t m e n t \" :  \" a r t \" ,  \" g e n d e r \" :  0 ,  \" i d \" :  1 0 3 2 5 3 6 ,  \" j o b \" :  \" p r o d u c t i o n  d e s i g n \" ,  \" n a m e \" :  \" r o b e r t  s t r o m b e r g \" } ,  { \" c r e d i t _ i d \" :  \" 5 3 9 c 4 b 6 5 c 3 a 3 6 8 1 0 c 9 0 0 2 1 2 5 \" ,  \" d e p a r t m e n t \" :  \" c o s t u m e  &  m a k e - u p \" ,  \" g e n d e r \" :  2 ,  \" i d \" :  1 0 7 1 6 8 0 ,  \" j o b \" :  \" c o s t u m e  d e s i g n \" ,  \" n a m e \" :  \" j o h n  h a r d i n g \" } ,  { \" c r e d i t _ i d \" :  \" 5 4 9 5 9 e 6 6 9 2 5 1 4 1 3 0 f c 0 0 2 e 4 e \" ,  \" d e p a r t m e n t \" :  \" c a m e r a \" ,  \" g e n d e r \" :  0 ,  \" i d \" :  1 1 7 7 3 6 4 ,  \" j o b \" :  \" s t e a d i c a m  o p e r a t o r \" ,  \" n a m e \" :  \" r o b e r t o  d e  a n g e l i s \" } ,  { \" c r e d i t _ i d \" :  \" 5 3 9 c 4 9 f 1 c 3 a 3 6 8 6 5 3 d 0 0 1 a a c \" ,  \" d e p a r t m e n t \" :  \" c o s t u m e  &  m a k e - u p \" ,  \" g e n d e r \" :  2 ,  \" i d \" :  1 2 0 2 8 5 0 ,  \" j o b \" :  \" m a k e u p  d e p a r t m e n t  h e a d \" ,  \" n a m e \" :  \" m i k e  s m i t h s o n \" } ,  { \" c r e d i t _ i d \" :  \" 5 4 9 5 9 9 9 e c 3 a 3 6 8 6 a e 1 0 0 4 6 0 c \" ,  \" d e p a r t m e n t \" :  \" v i s u a l  e f f e c t s \" ,  \" g e n d e r \" :  0 ,  \" i d \" :  1 2 0 4 6 6 8 ,  \" j o b \" :  \" v i s u a l  e f f e c t s  p r o d u c e r \" ,  \" n a m e \" :  \" a l a i n  l a l a n n e \" } ,  { \" c r e d i t _ i d \" :  \" 5 4 9 5 9 c d f c 3 a 3 6 8 1 1 5 3 0 0 2 7 2 9 \" ,  \" d e p a r t m e n t \" :  \" v i s u a l  e f f e c t s \" ,  \" g e n d e r \" :  0 ,  \" i d \" :  1 2 0 6 4 1 0 ,  \" j o b \" :  \" v i s u a l  e f f e c t s  s u p e r v i s o r \" ,  \" n a m e \" :  \" l u c a s  s a l t o n \" } ,  { \" c r e d i t _ i d \" :  \" 5 4 9 5 9 6 2 3 9 2 5 1 4 1 7 a 8 1 0 0 1 e a e \" ,  \" d e p a r t m e n t \" :  \" c r e w \" ,  \" g e n d e r \" :  0 ,  \" i d \" :  1 2 3 4 2 6 6 ,  \" j o b \" :  \" p o s t  p r o d u c t i o n  s u p e r v i s o r \" ,  \" n a m e \" :  \" j a n a c e  t a s h j i a n \" } ,  { \" c r e d i t _ i d \" :  \" 5 4 9 5 9 c 8 5 9 2 5 1 4 1 6 e 1 e 0 0 3 e f e \" ,  \" d e p a r t m e n t \" :  \" v i s u a l  e f f e c t s \" ,  \" g e n d e r \" :  0 ,  \" i d \" :  1 2 7 1 9 3 2 ,  \" j o b \" :  \" v i s u a l  e f f e c t s  s u p e r v i s o r \" ,  \" n a m e \" :  \" s t e p h e n  r o s e n b a u m \" } ,  { \" c r e d i t _ i d \" :  \" 5 5 9 2 a f 2 8 c 3 a 3 6 8 7 7 5 a 0 0 1 0 5 f \" ,  \" d e p a r t m e n t \" :  \" c o s t u m e  &  m a k e - u p \" ,  \" g e n d e r \" :  0 ,  \" i d \" :  1 3 1 0 0 6 4 ,  \" j o b \" :  \" m a k e u p  a r t i s t \" ,  \" n a m e \" :  \" f r a n k i e  k a r e n a \" } ,  { \" c r e d i t _ i d \" :  \" 5 3 9 c 4 a d f c 3 a 3 6 8 1 0 e 3 0 0 2 0 3 b \" ,  \" d e p a r t m e n t \" :  \" c o s t u m e  &  m a k e - u p \" ,  \" g e n d e r \" :  1 ,  \" i d \" :  1 3 1 9 8 4 4 ,  \" j o b \" :  \" c o s t u m e  s u p e r v i s o r \" ,  \" n a m e \" :  \" l i s a  l o v a a s \" } ,  { \" c r e d i t _ i d \" :  \" 5 4 9 5 9 b 5 7 9 2 5 1 4 1 6 e 2 b 0 0 4 3 7 1 \" ,  \" d e p a r t m e n t \" :  \" v i s u a l  e f f e c t s \" ,  \" g e n d e r \" :  0 ,  \" i d \" :  1 3 2 7 0 2 8 ,  \" j o b \" :  \" v i s u a l  e f f e c t s  s u p e r v i s o r \" ,  \" n a m e \" :  \" j o n a t h a n  f a w k n e r \" } ,  { \" c r e d i t _ i d \" :  \" 5 3 9 c 4 8 a 7 c 3 a 3 6 8 1 0 b 5 0 0 1 f a 7 \" ,  \" d e p a r t m e n t \" :  \" a r t \" ,  \" g e n d e r \" :  0 ,  \" i d \" :  1 3 3 0 5 6 1 ,  \" j o b \" :  \" a r t  d i r e c t i o n \" ,  \" n a m e \" :  \" r o b e r t  b a v i n \" } ,  { \" c r e d i t _ i d \" :  \" 5 3 9 c 4 a 7 1 c 3 a 3 6 8 1 0 d a 0 0 2 1 e 0 \" ,  \" d e p a r t m e n t \" :  \" c o s t u m e  &  m a k e - u p \" ,  \" g e n d e r \" :  0 ,  \" i d \" :  1 3 3 0 5 6 7 ,  \" j o b \" :  \" c o s t u m e  s u p e r v i s o r \" ,  \" n a m e \" :  \" a n t h o n y  a l m a r a z \" } ,  { \" c r e d i t _ i d \" :  \" 5 3 9 c 4 a 8 a c 3 a 3 6 8 1 0 b a 0 0 2 1 e 4 \" ,  \" d e p a r t m e n t \" :  \" c o s t u m e  &  m a k e - u p \" ,  \" g e n d e r \" :  0 ,  \" i d \" :  1 3 3 0 5 7 0 ,  \" j o b \" :  \" c o s t u m e  s u p e r v i s o r \" ,  \" n a m e \" :  \" c a r o l y n  m .  f e n t o n \" } ,  { \" c r e d i t _ i d \" :  \" 5 3 9 c 4 a b 6 c 3 a 3 6 8 1 0 d a 0 0 2 1 f 0 \" ,  \" d e p a r t m e n t \" :  \" c o s t u m e  &  m a k e - u p \" ,  \" g e n d e r \" :  0 ,  \" i d \" :  1 3 3 0 5 7 4 ,  \" j o b \" :  \" c o s t u m e  s u p e r v i s o r \" ,  \" n a m e \" :  \" b e t h  k o e n i g s b e r g \" } ,  { \" c r e d i t _ i d \" :  \" 5 4 4 9 1 a b 7 0 e 0 a 2 6 7 4 8 0 0 0 1 b a 2 \" ,  \" d e p a r t m e n t \" :  \" a r t \" ,  \" g e n d e r \" :  0 ,  \" i d \" :  1 3 3 6 1 9 1 ,  \" j o b \" :  \" s e t  d e s i g n e r \" ,  \" n a m e \" :  \" s a m  p a g e \" } ,  { \" c r e d i t _ i d \" :  \" 5 4 4 9 1 9 d 9 c 3 a 3 6 8 0 f c 3 0 0 1 8 b d \" ,  \" d e p a r t m e n t \" :  \" a r t \" ,  \" g e n d e r \" :  0 ,  \" i d \" :  1 3 3 9 4 4 1 ,  \" j o b \" :  \" s e t  d e s i g n e r \" ,  \" n a m e \" :  \" t e x  k a d o n a g a \" } ,  { \" c r e d i t _ i d \" :  \" 5 4 4 9 1 c f 5 0 e 0 a 2 6 7 4 8 3 0 0 1 b 0 c \" ,  \" d e p a r t m e n t \" :  \" e d i t i n g \" ,  \" g e n d e r \" :  0 ,  \" i d \" :  1 3 5 2 4 2 2 ,  \" j o b \" :  \" d i a l o g u e  e d i t o r \" ,  \" n a m e \" :  \" k i m  f o s c a t o \" } ,  { \" c r e d i t _ i d \" :  \" 5 4 4 9 1 9 f 4 0 e 0 a 2 6 7 4 8 c 0 0 1 b 0 9 \" ,  \" d e p a r t m e n t \" :  \" a r t \" ,  \" g e n d e r \" :  0 ,  \" i d \" :  1 3 5 2 9 6 2 ,  \" j o b \" :  \" s e t  d e s i g n e r \" ,  \" n a m e \" :  \" t a m m y  s .  l e e \" } ,  { \" c r e d i t _ i d \" :  \" 5 4 9 5 a 1 1 5 c 3 a 3 6 8 0 f f 5 0 0 2 d 7 1 \" ,  \" d e p a r t m e n t \" :  \" c r e w \" ,  \" g e n d e r \" :  0 ,  \" i d \" :  1 3 5 7 0 7 0 ,  \" j o b \" :  \" t r a n s p o r t a t i o n  c o o r d i n a t o r \" ,  \" n a m e \" :  \" d e n n y  c a i r a \" } ,  { \" c r e d i t _ i d \" :  \" 5 4 9 5 a 1 2 f 9 2 5 1 4 1 3 0 f c 0 0 2 e 9 4 \" ,  \" d e p a r t m e n t \" :  \" c r e w \" ,  \" g e n d e r \" :  0 ,  \" i d \" :  1 3 5 7 0 7 1 ,  \" j o b \" :  \" t r a n s p o r t a t i o n  c o o r d i n a t o r \" ,  \" n a m e \" :  \" j a m e s  w a i t k u s \" } ,  { \" c r e d i t _ i d \" :  \" 5 4 9 5 9 7 6 f c 3 a 3 6 8 1 1 5 3 0 0 2 6 b 0 \" ,  \" d e p a r t m e n t \" :  \" s o u n d \" ,  \" g e n d e r \" :  0 ,  \" i d \" :  1 3 6 0 1 0 3 ,  \" j o b \" :  \" s u p e r v i s i n g  s o u n d  e d i t o r \" ,  \" n a m e \" :  \" a d d i s o n  t e a g u e \" } ,  { \" c r e d i t _ i d \" :  \" 5 4 4 9 1 8 3 7 c 3 a 3 6 8 0 f b 1 0 0 1 c 5 a \" ,  \" d e p a r t m e n t \" :  \" a r t \" ,  \" g e n d e r \" :  2 ,  \" i d \" :  1 3 7 6 8 8 7 ,  \" j o b \" :  \" s e t  d e s i g n e r \" ,  \" n a m e \" :  \" c .  s c o t t  b a k e r \" } ,  { \" c r e d i t _ i d \" :  \" 5 4 4 9 1 8 7 8 c 3 a 3 6 8 0 f b 4 0 0 1 c 9 d \" ,  \" d e p a r t m e n t \" :  \" a r t \" ,  \" g e n d e r \" :  0 ,  \" i d \" :  1 3 7 6 8 8 8 ,  \" j o b \" :  \" s e t  d e s i g n e r \" ,  \" n a m e \" :  \" l u k e  c a s k a \" } ,  { \" c r e d i t _ i d \" :  \" 5 4 4 9 1 8 d a c 3 a 3 6 8 0 f a 5 0 0 1 a e 0 \" ,  \" d e p a r t m e n t \" :  \" a r t \" ,  \" g e n d e r \" :  0 ,  \" i d \" :  1 3 7 6 8 8 9 ,  \" j o b \" :  \" s e t  d e s i g n e r \" ,  \" n a m e \" :  \" d a v i d  c h o w \" } ,  { \" c r e d i t _ i d \" :  \" 5 4 4 9 1 9 1 1 0 e 0 a 2 6 7 4 8 6 0 0 1 b 6 8 \" ,  \" d e p a r t m e n t \" :  \" a r t \" ,  \" g e n d e r \" :  0 ,  \" i d \" :  1 3 7 6 8 9 0 ,  \" j o b \" :  \" s e t  d e s i g n e r \" ,  \" n a m e \" :  \" j o n a t h a n  d y e r \" } ,  { \" c r e d i t _ i d \" :  \" 5 4 4 9 1 9 6 7 c 3 a 3 6 8 0 f a a 0 0 1 b 5 e \" ,  \" d e p a r t m e n t \" :  \" a r t \" ,  \" g e n d e r \" :  0 ,  \" i d \" :  1 3 7 6 8 9 1 ,  \" j o b \" :  \" s e t  d e s i g n e r \" ,  \" n a m e \" :  \" j o s e p h  h i u r a \" } ,  { \" c r e d i t _ i d \" :  \" 5 4 4 9 1 9 9 7 c 3 a 3 6 8 0 f b 1 0 0 1 c 8 a \" ,  \" d e p a r t m e n t \" :  \" a r t \" ,  \" g e n d e r \" :  0 ,  \" i d \" :  1 3 7 6 8 9 2 ,  \" j o b \" :  \" a r t  d e p a r t m e n t  c o o r d i n a t o r \" ,  \" n a m e \" :  \" r e b e c c a  j e l l i e \" } ,  { \" c r e d i t _ i d \" :  \" 5 4 4 9 1 9 b a 0 e 0 a 2 6 7 4 8 f 0 0 1 b 4 2 \" ,  \" d e p a r t m e n t \" :  \" a r t \" ,  \" g e n d e r \" :  0 ,  \" i d \" :  1 3 7 6 8 9 3 ,  \" j o b \" :  \" s e t  d e s i g n e r \" ,  \" n a m e \" :  \" r o b e r t  a n d r e w  j o h n s o n \" } ,  { \" c r e d i t _ i d \" :  \" 5 4 4 9 1 b 1 d c 3 a 3 6 8 0 f a a 0 0 1 b 8 c \" ,  \" d e p a r t m e n t \" :  \" a r t \" ,  \" g e n d e r \" :  0 ,  \" i d \" :  1 3 7 6 8 9 5 ,  \" j o b \" :  \" a s s i s t a n t  a r t  d i r e c t o r \" ,  \" n a m e \" :  \" m i k e  s t a s s i \" } ,  { \" c r e d i t _ i d \" :  \" 5 4 4 9 1 b 7 9 c 3 a 3 6 8 0 f b b 0 0 1 8 2 6 \" ,  \" d e p a r t m e n t \" :  \" a r t \" ,  \" g e n d e r \" :  0 ,  \" i d \" :  1 3 7 6 8 9 7 ,  \" j o b \" :  \" c o n s t r u c t i o n  c o o r d i n a t o r \" ,  \" n a m e \" :  \" j o h n  v i l l a r i n o \" } ,  { \" c r e d i t _ i d \" :  \" 5 4 4 9 1 b a e c 3 a 3 6 8 0 f b 4 0 0 1 c e 6 \" ,  \" d e p a r t m e n t \" :  \" a r t \" ,  \" g e n d e r \" :  2 ,  \" i d \" :  1 3 7 6 8 9 8 ,  \" j o b \" :  \" a s s i s t a n t  a r t  d i r e c t o r \" ,  \" n a m e \" :  \" j e f f r e y  w i s n i e w s k i \" } ,  { \" c r e d i t _ i d \" :  \" 5 4 4 9 1 d 2 f c 3 a 3 6 8 0 f b 4 0 0 1 d 0 7 \" ,  \" d e p a r t m e n t \" :  \" e d i t i n g \" ,  \" g e n d e r \" :  0 ,  \" i d \" :  1 3 7 6 8 9 9 ,  \" j o b \" :  \" d i a l o g u e  e d i t o r \" ,  \" n a m e \" :  \" c h e r y l  n a r d i \" } ,  { \" c r e d i t _ i d \" :  \" 5 4 4 9 1 d 8 6 c 3 a 3 6 8 0 f a 5 0 0 1 b 2 f \" ,  \" d e p a r t m e n t \" :  \" e d i t i n g \" ,  \" g e n d e r \" :  0 ,  \" i d \" :  1 3 7 6 9 0 1 ,  \" j o b \" :  \" d i a l o g u e  e d i t o r \" ,  \" n a m e \" :  \" m a r s h a l l  w i n n \" } ,  { \" c r e d i t _ i d \" :  \" 5 4 4 9 1 d 9 d c 3 a 3 6 8 0 f a a 0 0 1 b b 0 \" ,  \" d e p a r t m e n t \" :  \" s o u n d \" ,  \" g e n d e r \" :  0 ,  \" i d \" :  1 3 7 6 9 0 2 ,  \" j o b \" :  \" s u p e r v i s i n g  s o u n d  e d i t o r \" ,  \" n a m e \" :  \" g w e n d o l y n  y a t e s  w h i t t l e \" } ,  { \" c r e d i t _ i d \" :  \" 5 4 4 9 1 d c 1 0 e 0 a 2 6 7 4 8 6 0 0 1 b c e \" ,  \" d e p a r t m e n t \" :  \" s o u n d \" ,  \" g e n d e r \" :  0 ,  \" i d \" :  1 3 7 6 9 0 3 ,  \" j o b \" :  \" s o u n d  r e - r e c o r d i n g  m i x e r \" ,  \" n a m e \" :  \" w i l l i a m  s t e i n \" } ,  { \" c r e d i t _ i d \" :  \" 5 4 4 9 1 f 5 0 0 e 0 a 2 6 7 4 7 c 0 0 1 c 0 7 \" ,  \" d e p a r t m e n t \" :  \" c r e w \" ,  \" g e n d e r \" :  0 ,  \" i d \" :  1 3 7 6 9 0 9 ,  \" j o b \" :  \" c h o r e o g r a p h e r \" ,  \" n a m e \" :  \" l u l a  w a s h i n g t o n \" } ,  { \" c r e d i t _ i d \" :  \" 5 4 9 5 9 9 2 3 9 2 5 1 4 1 2 c 4 e 0 0 2 a 2 e \" ,  \" d e p a r t m e n t \" :  \" v i s u a l  e f f e c t s \" ,  \" g e n d e r \" :  0 ,  \" i d \" :  1 3 9 1 6 9 2 ,  \" j o b \" :  \" v i s u a l  e f f e c t s  p r o d u c e r \" ,  \" n a m e \" :  \" c h r i s  d e l  c o n t e \" } ,  { \" c r e d i t _ i d \" :  \" 5 4 9 5 9 d 5 4 c 3 a 3 6 8 3 1 b 8 0 0 1 d 9 a \" ,  \" d e p a r t m e n t \" :  \" v i s u a l  e f f e c t s \" ,  \" g e n d e r \" :  2 ,  \" i d \" :  1 3 9 1 6 9 5 ,  \" j o b \" :  \" v i s u a l  e f f e c t s  s u p e r v i s o r \" ,  \" n a m e \" :  \" r .  c h r i s t o p h e r  w h i t e \" } ,  { \" c r e d i t _ i d \" :  \" 5 4 9 5 9 b d f 9 2 5 1 4 1 2 c 4 e 0 0 2 a 6 6 \" ,  \" d e p a r t m e n t \" :  \" v i s u a l  e f f e c t s \" ,  \" g e n d e r \" :  0 ,  \" i d \" :  1 3 9 4 0 7 0 ,  \" j o b \" :  \" v i s u a l  e f f e c t s  s u p e r v i s o r \" ,  \" n a m e \" :  \" d a n  l e m m o n \" } ,  { \" c r e d i t _ i d \" :  \" 5 4 9 5 9 7 1 d 9 2 5 1 4 1 3 2 e d 0 0 2 9 2 2 \" ,  \" d e p a r t m e n t \" :  \" s o u n d \" ,  \" g e n d e r \" :  0 ,  \" i d \" :  1 3 9 4 1 2 9 ,  \" j o b \" :  \" s o u n d  e f f e c t s  e d i t o r \" ,  \" n a m e \" :  \" t i m  n i e l s e n \" } ,  { \" c r e d i t _ i d \" :  \" 5 5 9 2 b 2 5 7 9 2 5 1 4 1 5 2 c c 0 0 1 1 a a \" ,  \" d e p a r t m e n t \" :  \" c r e w \" ,  \" g e n d e r \" :  0 ,  \" i d \" :  1 3 9 4 2 8 6 ,  \" j o b \" :  \" c g  s u p e r v i s o r \" ,  \" n a m e \" :  \" m i c h a e l  m u l h o l l a n d \" } ,  { \" c r e d i t _ i d \" :  \" 5 4 9 5 9 a 3 2 9 2 5 1 4 1 6 e 2 b 0 0 4 3 5 5 \" ,  \" d e p a r t m e n t \" :  \" c r e w \" ,  \" g e n d e r \" :  0 ,  \" i d \" :  1 3 9 4 7 5 0 ,  \" j o b \" :  \" v i s u a l  e f f e c t s  e d i t o r \" ,  \" n a m e \" :  \" t h o m a s  n i t t m a n n \" } ,  { \" c r e d i t _ i d \" :  \" 5 4 9 5 9 d 6 d c 3 a 3 6 8 6 a e 9 0 0 4 4 0 1 \" ,  \" d e p a r t m e n t \" :  \" v i s u a l  e f f e c t s \" ,  \" g e n d e r \" :  0 ,  \" i d \" :  1 3 9 4 7 5 5 ,  \" j o b \" :  \" v i s u a l  e f f e c t s  s u p e r v i s o r \" ,  \" n a m e \" :  \" e d s o n  w i l l i a m s \" } ,  { \" c r e d i t _ i d \" :  \" 5 4 9 5 a 0 8 f c 3 a 3 6 8 6 a e 3 0 0 4 4 1 c \" ,  \" d e p a r t m e n t \" :  \" e d i t i n g \" ,  \" g e n d e r \" :  0 ,  \" i d \" :  1 3 9 4 9 5 3 ,  \" j o b \" :  \" d i g i t a l  i n t e r m e d i a t e \" ,  \" n a m e \" :  \" c h r i s t i n e  c a r r \" } ,  { \" c r e d i t _ i d \" :  \" 5 5 4 0 2 d 6 5 9 2 5 1 4 1 3 d 6 d 0 0 0 2 4 9 \" ,  \" d e p a r t m e n t \" :  \" v i s u a l  e f f e c t s \" ,  \" g e n d e r \" :  0 ,  \" i d \" :  1 3 9 5 2 6 9 ,  \" j o b \" :  \" v i s u a l  e f f e c t s  s u p e r v i s o r \" ,  \" n a m e \" :  \" j o h n  b r u n o \" } ,  { \" c r e d i t _ i d \" :  \" 5 4 9 5 9 e 7 b 9 2 5 1 4 1 6 e 1 e 0 0 3 f 3 e \" ,  \" d e p a r t m e n t \" :  \" c a m e r a \" ,  \" g e n d e r \" :  0 ,  \" i d \" :  1 3 9 8 9 7 0 ,  \" j o b \" :  \" s t e a d i c a m  o p e r a t o r \" ,  \" n a m e \" :  \" d a v i d  e m m e r i c h s \" } ,  { \" c r e d i t _ i d \" :  \" 5 4 9 5 9 7 3 4 c 3 a 3 6 8 6 a e 1 0 0 4 5 e 0 \" ,  \" d e p a r t m e n t \" :  \" s o u n d \" ,  \" g e n d e r \" :  0 ,  \" i d \" :  1 4 0 0 9 0 6 ,  \" j o b \" :  \" s o u n d  e f f e c t s  e d i t o r \" ,  \" n a m e \" :  \" c h r i s t o p h e r  s c a r a b o s i o \" } ,  { \" c r e d i t _ i d \" :  \" 5 4 9 5 9 5 d d 9 2 5 1 4 1 3 0 f c 0 0 2 d 7 9 \" ,  \" d e p a r t m e n t \" :  \" p r o d u c t i o n \" ,  \" g e n d e r \" :  0 ,  \" i d \" :  1 4 0 1 7 8 4 ,  \" j o b \" :  \" p r o d u c t i o n  s u p e r v i s o r \" ,  \" n a m e \" :  \" j e n n i f e r  t e v e s \" } ,  { \" c r e d i t _ i d \" :  \" 5 4 9 5 9 6 0 0 9 2 5 1 4 1 3 a f 7 0 0 2 8 c c \" ,  \" d e p a r t m e n t \" :  \" p r o d u c t i o n \" ,  \" g e n d e r \" :  0 ,  \" i d \" :  1 4 0 1 7 8 5 ,  \" j o b \" :  \" p r o d u c t i o n  m a n a g e r \" ,  \" n a m e \" :  \" b r i g i t t e  y o r k e \" } ,  { \" c r e d i t _ i d \" :  \" 5 4 9 5 9 6 e 8 9 2 5 1 4 1 3 0 f c 0 0 2 d 9 9 \" ,  \" d e p a r t m e n t \" :  \" s o u n d \" ,  \" g e n d e r \" :  0 ,  \" i d \" :  1 4 0 1 7 8 6 ,  \" j o b \" :  \" s o u n d  e f f e c t s  e d i t o r \" ,  \" n a m e \" :  \" k e n  f i s c h e r \" } ,  { \" c r e d i t _ i d \" :  \" 5 4 9 5 9 8 2 2 9 2 5 1 4 1 2 c 4 e 0 0 2 a 1 c \" ,  \" d e p a r t m e n t \" :  \" c r e w \" ,  \" g e n d e r \" :  0 ,  \" i d \" :  1 4 0 1 7 8 7 ,  \" j o b \" :  \" s p e c i a l  e f f e c t s  c o o r d i n a t o r \" ,  \" n a m e \" :  \" i a i n  h u t t o n \" } ,  { \" c r e d i t _ i d \" :  \" 5 4 9 5 9 8 3 4 9 2 5 1 4 1 6 e 2 b 0 0 4 3 2 b \" ,  \" d e p a r t m e n t \" :  \" c r e w \" ,  \" g e n d e r \" :  0 ,  \" i d \" :  1 4 0 1 7 8 8 ,  \" j o b \" :  \" s p e c i a l  e f f e c t s  c o o r d i n a t o r \" ,  \" n a m e \" :  \" s t e v e  i n g r a m \" } ,  { \" c r e d i t _ i d \" :  \" 5 4 9 5 9 9 0 5 c 3 a 3 6 8 6 a e 3 0 0 4 3 2 4 \" ,  \" d e p a r t m e n t \" :  \" v i s u a l  e f f e c t s \" ,  \" g e n d e r \" :  0 ,  \" i d \" :  1 4 0 1 7 8 9 ,  \" j o b \" :  \" v i s u a l  e f f e c t s  p r o d u c e r \" ,  \" n a m e \" :  \" j o y c e  c o x \" } ,  { \" c r e d i t _ i d \" :  \" 5 4 9 5 9 9 4 b 9 2 5 1 4 1 3 2 e d 0 0 2 9 5 1 \" ,  \" d e p a r t m e n t \" :  \" v i s u a l  e f f e c t s \" ,  \" g e n d e r \" :  0 ,  \" i d \" :  1 4 0 1 7 9 0 ,  \" j o b \" :  \" v i s u a l  e f f e c t s  p r o d u c e r \" ,  \" n a m e \" :  \" j e n n y  f o s t e r \" } ,  { \" c r e d i t _ i d \" :  \" 5 4 9 5 9 9 c b c 3 a 3 6 8 6 a e 1 0 0 4 6 1 3 \" ,  \" d e p a r t m e n t \" :  \" c r e w \" ,  \" g e n d e r \" :  0 ,  \" i d \" :  1 4 0 1 7 9 1 ,  \" j o b \" :  \" v i s u a l  e f f e c t s  e d i t o r \" ,  \" n a m e \" :  \" c h r i s t o p h e r  m a r i n o \" } ,  { \" c r e d i t _ i d \" :  \" 5 4 9 5 9 9 f 2 c 3 a 3 6 8 6 a e 1 0 0 4 6 1 e \" ,  \" d e p a r t m e n t \" :  \" c r e w \" ,  \" g e n d e r \" :  0 ,  \" i d \" :  1 4 0 1 7 9 2 ,  \" j o b \" :  \" v i s u a l  e f f e c t s  e d i t o r \" ,  \" n a m e \" :  \" j i m  m i l t o n \" } ,  { \" c r e d i t _ i d \" :  \" 5 4 9 5 9 a 5 1 c 3 a 3 6 8 6 a f 3 0 0 3 e b 5 \" ,  \" d e p a r t m e n t \" :  \" v i s u a l  e f f e c t s \" ,  \" g e n d e r \" :  0 ,  \" i d \" :  1 4 0 1 7 9 3 ,  \" j o b \" :  \" v i s u a l  e f f e c t s  p r o d u c e r \" ,  \" n a m e \" :  \" c y n d i  o c h s \" } ,  { \" c r e d i t _ i d \" :  \" 5 4 9 5 9 a 7 c c 3 a 3 6 8 1 1 5 3 0 0 2 6 f 4 \" ,  \" d e p a r t m e n t \" :  \" c r e w \" ,  \" g e n d e r \" :  0 ,  \" i d \" :  1 4 0 1 7 9 4 ,  \" j o b \" :  \" v i s u a l  e f f e c t s  e d i t o r \" ,  \" n a m e \" :  \" l u c a s  p u t n a m \" } ,  { \" c r e d i t _ i d \" :  \" 5 4 9 5 9 b 9 1 c 3 a 3 6 8 0 f f 5 0 0 2 c b 4 \" ,  \" d e p a r t m e n t \" :  \" v i s u a l  e f f e c t s \" ,  \" g e n d e r \" :  0 ,  \" i d \" :  1 4 0 1 7 9 5 ,  \" j o b \" :  \" v i s u a l  e f f e c t s  s u p e r v i s o r \" ,  \" n a m e \" :  \" a n t h o n y  \\' m a x \\'  i v i n s \" } ,  { \" c r e d i t _ i d \" :  \" 5 4 9 5 9 b b 6 9 2 5 1 4 1 2 c 4 e 0 0 2 a 5 f \" ,  \" d e p a r t m e n t \" :  \" v i s u a l  e f f e c t s \" ,  \" g e n d e r \" :  0 ,  \" i d \" :  1 4 0 1 7 9 6 ,  \" j o b \" :  \" v i s u a l  e f f e c t s  s u p e r v i s o r \" ,  \" n a m e \" :  \" j o h n  k n o l l \" } ,  { \" c r e d i t _ i d \" :  \" 5 4 9 5 9 c b b c 3 a 3 6 8 6 a e 3 0 0 4 3 9 1 \" ,  \" d e p a r t m e n t \" :  \" v i s u a l  e f f e c t s \" ,  \" g e n d e r \" :  2 ,  \" i d \" :  1 4 0 1 7 9 9 ,  \" j o b \" :  \" v i s u a l  e f f e c t s  s u p e r v i s o r \" ,  \" n a m e \" :  \" e r i c  s a i n d o n \" } ,  { \" c r e d i t _ i d \" :  \" 5 4 9 5 9 d 0 6 c 3 a 3 6 8 6 a e 9 0 0 4 3 f 6 \" ,  \" d e p a r t m e n t \" :  \" v i s u a l  e f f e c t s \" ,  \" g e n d e r \" :  0 ,  \" i d \" :  1 4 0 1 8 0 0 ,  \" j o b \" :  \" v i s u a l  e f f e c t s  s u p e r v i s o r \" ,  \" n a m e \" :  \" w a y n e  s t a b l e s \" } ,  { \" c r e d i t _ i d \" :  \" 5 4 9 5 9 d 2 5 9 2 5 1 4 1 6 e 1 e 0 0 3 f 1 1 \" ,  \" d e p a r t m e n t \" :  \" v i s u a l  e f f e c t s \" ,  \" g e n d e r \" :  0 ,  \" i d \" :  1 4 0 1 8 0 1 ,  \" j o b \" :  \" v i s u a l  e f f e c t s  s u p e r v i s o r \" ,  \" n a m e \" :  \" d a v i d  s t i n n e t t \" } ,  { \" c r e d i t _ i d \" :  \" 5 4 9 5 9 d b 4 9 2 5 1 4 1 3 a f 7 0 0 2 9 7 5 \" ,  \" d e p a r t m e n t \" :  \" v i s u a l  e f f e c t s \" ,  \" g e n d e r \" :  0 ,  \" i d \" :  1 4 0 1 8 0 3 ,  \" j o b \" :  \" v i s u a l  e f f e c t s  s u p e r v i s o r \" ,  \" n a m e \" :  \" g u y  w i l l i a m s \" } ,  { \" c r e d i t _ i d \" :  \" 5 4 9 5 9 d e 4 c 3 a 3 6 8 1 1 5 3 0 0 2 7 5 0 \" ,  \" d e p a r t m e n t \" :  \" c r e w \" ,  \" g e n d e r \" :  0 ,  \" i d \" :  1 4 0 1 8 0 4 ,  \" j o b \" :  \" s t u n t  c o o r d i n a t o r \" ,  \" n a m e \" :  \" s t u a r t  t h o r p \" } ,  { \" c r e d i t _ i d \" :  \" 5 4 9 5 9 e f 2 c 3 a 3 6 8 0 f c 6 0 0 2 7 f 2 \" ,  \" d e p a r t m e n t \" :  \" l i g h t i n g \" ,  \" g e n d e r \" :  0 ,  \" i d \" :  1 4 0 1 8 0 5 ,  \" j o b \" :  \" b e s t  b o y  e l e c t r i c \" ,  \" n a m e \" :  \" g i l e s  c o b u r n \" } ,  { \" c r e d i t _ i d \" :  \" 5 4 9 5 9 f 0 7 c 3 a 3 6 8 0 f c 6 0 0 2 7 f 9 \" ,  \" d e p a r t m e n t \" :  \" c a m e r a \" ,  \" g e n d e r \" :  2 ,  \" i d \" :  1 4 0 1 8 0 6 ,  \" j o b \" :  \" s t i l l  p h o t o g r a p h e r \" ,  \" n a m e \" :  \" m a r k  f e l l m a n \" } ,  { \" c r e d i t _ i d \" :  \" 5 4 9 5 9 f 4 7 c 3 a 3 6 8 1 1 5 3 0 0 2 7 7 4 \" ,  \" d e p a r t m e n t \" :  \" l i g h t i n g \" ,  \" g e n d e r \" :  0 ,  \" i d \" :  1 4 0 1 8 0 7 ,  \" j o b \" :  \" l i g h t i n g  t e c h n i c i a n \" ,  \" n a m e \" :  \" s c o t t  s p r a g u e \" } ,  { \" c r e d i t _ i d \" :  \" 5 4 9 5 9 f 8 c c 3 a 3 6 8 3 1 b 8 0 0 1 d f 2 \" ,  \" d e p a r t m e n t \" :  \" v i s u a l  e f f e c t s \" ,  \" g e n d e r \" :  0 ,  \" i d \" :  1 4 0 1 8 0 8 ,  \" j o b \" :  \" a n i m a t i o n  d i r e c t o r \" ,  \" n a m e \" :  \" j e r e m y  h o l l o b o n \" } ,  { \" c r e d i t _ i d \" :  \" 5 4 9 5 9 f a 0 c 3 a 3 6 8 3 1 b 8 0 0 1 d f b \" ,  \" d e p a r t m e n t \" :  \" v i s u a l  e f f e c t s \" ,  \" g e n d e r \" :  0 ,  \" i d \" :  1 4 0 1 8 0 9 ,  \" j o b \" :  \" a n i m a t i o n  d i r e c t o r \" ,  \" n a m e \" :  \" o r l a n d o  m e u n i e r \" } ,  { \" c r e d i t _ i d \" :  \" 5 4 9 5 9 f b 6 c 3 a 3 6 8 6 a f 3 0 0 3 f 5 4 \" ,  \" d e p a r t m e n t \" :  \" v i s u a l  e f f e c t s \" ,  \" g e n d e r \" :  0 ,  \" i d \" :  1 4 0 1 8 1 0 ,  \" j o b \" :  \" a n i m a t i o n  d i r e c t o r \" ,  \" n a m e \" :  \" t a i s u k e  t a n i m u r a \" } ,  { \" c r e d i t _ i d \" :  \" 5 4 9 5 9 f d 2 c 3 a 3 6 8 3 1 b 8 0 0 1 e 0 2 \" ,  \" d e p a r t m e n t \" :  \" c o s t u m e  &  m a k e - u p \" ,  \" g e n d e r \" :  0 ,  \" i d \" :  1 4 0 1 8 1 2 ,  \" j o b \" :  \" s e t  c o s t u m e r \" ,  \" n a m e \" :  \" l i l i a  m i s h e l  a c e v e d o \" } ,  { \" c r e d i t _ i d \" :  \" 5 4 9 5 9 f f 9 c 3 a 3 6 8 6 a e 3 0 0 4 4 0 c \" ,  \" d e p a r t m e n t \" :  \" c o s t u m e  &  m a k e - u p \" ,  \" g e n d e r \" :  0 ,  \" i d \" :  1 4 0 1 8 1 4 ,  \" j o b \" :  \" s e t  c o s t u m e r \" ,  \" n a m e \" :  \" a l e j a n d r o  m .  h e r n a n d e z \" } ,  { \" c r e d i t _ i d \" :  \" 5 4 9 5 a 0 d d c 3 a 3 6 8 6 a e 1 0 0 4 6 f e \" ,  \" d e p a r t m e n t \" :  \" e d i t i n g \" ,  \" g e n d e r \" :  0 ,  \" i d \" :  1 4 0 1 8 1 5 ,  \" j o b \" :  \" d i g i t a l  i n t e r m e d i a t e \" ,  \" n a m e \" :  \" m a r v i n  h a l l \" } ,  { \" c r e d i t _ i d \" :  \" 5 4 9 5 a 1 f 7 c 3 a 3 6 8 6 a e 3 0 0 4 4 4 3 \" ,  \" d e p a r t m e n t \" :  \" p r o d u c t i o n \" ,  \" g e n d e r \" :  0 ,  \" i d \" :  1 4 0 1 8 1 6 ,  \" j o b \" :  \" p u b l i c i s t \" ,  \" n a m e \" :  \" j u d y  a l l e y \" } ,  { \" c r e d i t _ i d \" :  \" 5 5 9 2 b 2 9 f c 3 a 3 6 8 6 9 d 1 0 0 0 0 2 f \" ,  \" d e p a r t m e n t \" :  \" c r e w \" ,  \" g e n d e r \" :  0 ,  \" i d \" :  1 4 1 8 3 8 1 ,  \" j o b \" :  \" c g  s u p e r v i s o r \" ,  \" n a m e \" :  \" m i k e  p e r r y \" } ,  { \" c r e d i t _ i d \" :  \" 5 5 9 2 b 2 3 a 9 2 5 1 4 1 5 d f 8 0 0 1 0 8 1 \" ,  \" d e p a r t m e n t \" :  \" c r e w \" ,  \" g e n d e r \" :  0 ,  \" i d \" :  1 4 2 6 8 5 4 ,  \" j o b \" :  \" c g  s u p e r v i s o r \" ,  \" n a m e \" :  \" a n d r e w  m o r l e y \" } ,  { \" c r e d i t _ i d \" :  \" 5 5 4 9 1 e 1 1 9 2 5 1 4 1 0 4 c 4 0 0 0 2 d 8 \" ,  \" d e p a r t m e n t \" :  \" a r t \" ,  \" g e n d e r \" :  0 ,  \" i d \" :  1 4 3 8 9 0 1 ,  \" j o b \" :  \" c o n c e p t u a l  d e s i g n \" ,  \" n a m e \" :  \" s e t h  e n g s t r o m \" } ,  { \" c r e d i t _ i d \" :  \" 5 5 2 5 d 5 8 0 9 2 5 1 4 1 7 2 7 6 0 0 2 b 0 6 \" ,  \" d e p a r t m e n t \" :  \" c r e w \" ,  \" g e n d e r \" :  0 ,  \" i d \" :  1 4 4 7 3 6 2 ,  \" j o b \" :  \" v i s u a l  e f f e c t s  a r t  d i r e c t o r \" ,  \" n a m e \" :  \" e r i c  o l i v e r \" } ,  { \" c r e d i t _ i d \" :  \" 5 5 4 4 2 7 c a 9 2 5 1 4 1 5 8 6 5 0 0 3 1 2 a \" ,  \" d e p a r t m e n t \" :  \" v i s u a l  e f f e c t s \" ,  \" g e n d e r \" :  0 ,  \" i d \" :  1 4 4 7 5 0 3 ,  \" j o b \" :  \" m o d e l i n g \" ,  \" n a m e \" :  \" m a t s u n e  s u z u k i \" } ,  { \" c r e d i t _ i d \" :  \" 5 5 1 9 0 6 8 8 9 2 5 1 4 1 5 a a b 0 0 1 c 8 8 \" ,  \" d e p a r t m e n t \" :  \" a r t \" ,  \" g e n d e r \" :  0 ,  \" i d \" :  1 4 4 7 5 2 4 ,  \" j o b \" :  \" a r t  d e p a r t m e n t  m a n a g e r \" ,  \" n a m e \" :  \" p a u l  t o b i n \" } ,  { \" c r e d i t _ i d \" :  \" 5 5 9 2 a f 8 4 9 2 5 1 4 1 5 2 c c 0 0 1 0 d e \" ,  \" d e p a r t m e n t \" :  \" c o s t u m e  &  m a k e - u p \" ,  \" g e n d e r \" :  0 ,  \" i d \" :  1 4 5 2 6 4 3 ,  \" j o b \" :  \" h a i r s t y l i s t \" ,  \" n a m e \" :  \" r o x a n e  g r i f f i n \" } ,  { \" c r e d i t _ i d \" :  \" 5 5 3 d 3 c 1 0 9 2 5 1 4 1 5 8 5 2 0 0 1 3 1 8 \" ,  \" d e p a r t m e n t \" :  \" l i g h t i n g \" ,  \" g e n d e r \" :  0 ,  \" i d \" :  1 4 5 3 9 3 8 ,  \" j o b \" :  \" l i g h t i n g  a r t i s t \" ,  \" n a m e \" :  \" a r u n  r a m - m o h a n \" } ,  { \" c r e d i t _ i d \" :  \" 5 5 9 2 a f 4 6 9 2 5 1 4 1 5 2 d 5 0 0 1 3 5 5 \" ,  \" d e p a r t m e n t \" :  \" c o s t u m e  &  m a k e - u p \" ,  \" g e n d e r \" :  0 ,  \" i d \" :  1 4 5 7 3 0 5 ,  \" j o b \" :  \" m a k e u p  a r t i s t \" ,  \" n a m e \" :  \" g e o r g i a  l o c k h a r t - a d a m s \" } ,  { \" c r e d i t _ i d \" :  \" 5 5 9 2 b 2 e a c 3 a 3 6 8 7 7 4 7 0 0 1 2 a 5 \" ,  \" d e p a r t m e n t \" :  \" c r e w \" ,  \" g e n d e r \" :  0 ,  \" i d \" :  1 4 6 6 0 3 5 ,  \" j o b \" :  \" c g  s u p e r v i s o r \" ,  \" n a m e \" :  \" t h r a i n  s h a d b o l t \" } ,  { \" c r e d i t _ i d \" :  \" 5 5 9 2 b 0 3 2 c 3 a 3 6 8 7 7 4 5 0 0 1 5 f 1 \" ,  \" d e p a r t m e n t \" :  \" c r e w \" ,  \" g e n d e r \" :  0 ,  \" i d \" :  1 4 8 3 2 2 0 ,  \" j o b \" :  \" c g  s u p e r v i s o r \" ,  \" n a m e \" :  \" b r a d  a l e x a n d e r \" } ,  { \" c r e d i t _ i d \" :  \" 5 5 9 2 b 0 5 5 9 2 5 1 4 1 5 2 d 8 0 0 1 2 f 6 \" ,  \" d e p a r t m e n t \" :  \" c r e w \" ,  \" g e n d e r \" :  0 ,  \" i d \" :  1 4 8 3 2 2 1 ,  \" j o b \" :  \" c g  s u p e r v i s o r \" ,  \" n a m e \" :  \" s h a d i  a l m a s s i z a d e h \" } ,  { \" c r e d i t _ i d \" :  \" 5 5 9 2 b 0 9 0 c 3 a 3 6 8 7 7 5 7 0 0 1 0 b 5 \" ,  \" d e p a r t m e n t \" :  \" c r e w \" ,  \" g e n d e r \" :  0 ,  \" i d \" :  1 4 8 3 2 2 2 ,  \" j o b \" :  \" c g  s u p e r v i s o r \" ,  \" n a m e \" :  \" s i m o n  c l u t t e r b u c k \" } ,  { \" c r e d i t _ i d \" :  \" 5 5 9 2 b 0 d b c 3 a 3 6 8 7 7 4 b 0 0 1 1 2 c \" ,  \" d e p a r t m e n t \" :  \" c r e w \" ,  \" g e n d e r \" :  0 ,  \" i d \" :  1 4 8 3 2 2 3 ,  \" j o b \" :  \" c g  s u p e r v i s o r \" ,  \" n a m e \" :  \" g r a e m e  d e m m o c k s \" } ,  { \" c r e d i t _ i d \" :  \" 5 5 9 2 b 0 f e 9 2 5 1 4 1 5 2 d b 0 0 1 0 c 1 \" ,  \" d e p a r t m e n t \" :  \" c r e w \" ,  \" g e n d e r \" :  0 ,  \" i d \" :  1 4 8 3 2 2 4 ,  \" j o b \" :  \" c g  s u p e r v i s o r \" ,  \" n a m e \" :  \" a d r i a n  f e r n a n d e s \" } ,  { \" c r e d i t _ i d \" :  \" 5 5 9 2 b 1 1 f 9 2 5 1 4 1 5 d f 8 0 0 1 0 5 9 \" ,  \" d e p a r t m e n t \" :  \" c r e w \" ,  \" g e n d e r \" :  0 ,  \" i d \" :  1 4 8 3 2 2 5 ,  \" j o b \" :  \" c g  s u p e r v i s o r \" ,  \" n a m e \" :  \" m i t c h  g a t e s \" } ,  { \" c r e d i t _ i d \" :  \" 5 5 9 2 b 1 5 d c 3 a 3 6 8 7 7 4 5 0 0 1 6 4 5 \" ,  \" d e p a r t m e n t \" :  \" c r e w \" ,  \" g e n d e r \" :  0 ,  \" i d \" :  1 4 8 3 2 2 6 ,  \" j o b \" :  \" c g  s u p e r v i s o r \" ,  \" n a m e \" :  \" j e r r y  k u n g \" } ,  { \" c r e d i t _ i d \" :  \" 5 5 9 2 b 1 8 e 9 2 5 1 4 1 6 4 5 a 0 0 0 4 a e \" ,  \" d e p a r t m e n t \" :  \" c r e w \" ,  \" g e n d e r \" :  0 ,  \" i d \" :  1 4 8 3 2 2 7 ,  \" j o b \" :  \" c g  s u p e r v i s o r \" ,  \" n a m e \" :  \" a n d y  l o m a s \" } ,  { \" c r e d i t _ i d \" :  \" 5 5 9 2 b 1 b f c 3 a 3 6 8 7 7 5 d 0 0 1 0 e 7 \" ,  \" d e p a r t m e n t \" :  \" c r e w \" ,  \" g e n d e r \" :  0 ,  \" i d \" :  1 4 8 3 2 2 8 ,  \" j o b \" :  \" c g  s u p e r v i s o r \" ,  \" n a m e \" :  \" s e b a s t i a n  m a r i n o \" } ,  { \" c r e d i t _ i d \" :  \" 5 5 9 2 b 2 0 4 9 2 5 1 4 1 5 d f 8 0 0 1 0 7 8 \" ,  \" d e p a r t m e n t \" :  \" c r e w \" ,  \" g e n d e r \" :  0 ,  \" i d \" :  1 4 8 3 2 2 9 ,  \" j o b \" :  \" c g  s u p e r v i s o r \" ,  \" n a m e \" :  \" m a t t h i a s  m e n z \" } ,  { \" c r e d i t _ i d \" :  \" 5 5 9 2 b 2 7 b 9 2 5 1 4 1 5 2 d 8 0 0 1 3 6 a \" ,  \" d e p a r t m e n t \" :  \" c r e w \" ,  \" g e n d e r \" :  0 ,  \" i d \" :  1 4 8 3 2 3 0 ,  \" j o b \" :  \" c g  s u p e r v i s o r \" ,  \" n a m e \" :  \" s e r g e i  n e v s h u p o v \" } ,  { \" c r e d i t _ i d \" :  \" 5 5 9 2 b 2 c 3 c 3 a 3 6 8 6 9 e 8 0 0 0 0 3 c \" ,  \" d e p a r t m e n t \" :  \" c r e w \" ,  \" g e n d e r \" :  0 ,  \" i d \" :  1 4 8 3 2 3 1 ,  \" j o b \" :  \" c g  s u p e r v i s o r \" ,  \" n a m e \" :  \" p h i l i p p e  r e b o u r s \" } ,  { \" c r e d i t _ i d \" :  \" 5 5 9 2 b 3 1 7 c 3 a 3 6 8 7 7 4 7 0 0 1 2 a f \" ,  \" d e p a r t m e n t \" :  \" c r e w \" ,  \" g e n d e r \" :  0 ,  \" i d \" :  1 4 8 3 2 3 2 ,  \" j o b \" :  \" c g  s u p e r v i s o r \" ,  \" n a m e \" :  \" m i c h a e l  t a k a r a n g i \" } ,  { \" c r e d i t _ i d \" :  \" 5 5 9 2 b 3 4 5 c 3 a 3 6 8 7 7 4 7 0 0 1 2 b b \" ,  \" d e p a r t m e n t \" :  \" c r e w \" ,  \" g e n d e r \" :  0 ,  \" i d \" :  1 4 8 3 2 3 3 ,  \" j o b \" :  \" c g  s u p e r v i s o r \" ,  \" n a m e \" :  \" d a v i d  w e i t z b e r g \" } ,  { \" c r e d i t _ i d \" :  \" 5 5 9 2 b 3 7 c c 3 a 3 6 8 7 7 5 1 0 0 1 1 3 b \" ,  \" d e p a r t m e n t \" :  \" c r e w \" ,  \" g e n d e r \" :  0 ,  \" i d \" :  1 4 8 3 2 3 4 ,  \" j o b \" :  \" c g  s u p e r v i s o r \" ,  \" n a m e \" :  \" b e n  w h i t e \" } ,  { \" c r e d i t _ i d \" :  \" 5 7 3 c 8 e 2 f 9 2 5 1 4 1 3 f 5 d 0 0 0 0 9 4 \" ,  \" d e p a r t m e n t \" :  \" c r e w \" ,  \" g e n d e r \" :  1 ,  \" i d \" :  1 6 2 1 9 3 2 ,  \" j o b \" :  \" s t u n t s \" ,  \" n a m e \" :  \" m i n  w i n d l e \" } ]'"
      ]
     },
     "execution_count": 41,
     "metadata": {},
     "output_type": "execute_result"
    }
   ],
   "source": [
    "new_df['tags'][0]"
   ]
  },
  {
   "cell_type": "code",
   "execution_count": 42,
   "id": "9cf8dd43-3a49-4040-b951-bcbc6acfb97d",
   "metadata": {},
   "outputs": [
    {
     "data": {
      "text/html": [
       "<div>\n",
       "<style scoped>\n",
       "    .dataframe tbody tr th:only-of-type {\n",
       "        vertical-align: middle;\n",
       "    }\n",
       "\n",
       "    .dataframe tbody tr th {\n",
       "        vertical-align: top;\n",
       "    }\n",
       "\n",
       "    .dataframe thead th {\n",
       "        text-align: right;\n",
       "    }\n",
       "</style>\n",
       "<table border=\"1\" class=\"dataframe\">\n",
       "  <thead>\n",
       "    <tr style=\"text-align: right;\">\n",
       "      <th></th>\n",
       "      <th>movie_id</th>\n",
       "      <th>title</th>\n",
       "      <th>tags</th>\n",
       "    </tr>\n",
       "  </thead>\n",
       "  <tbody>\n",
       "    <tr>\n",
       "      <th>0</th>\n",
       "      <td>19995</td>\n",
       "      <td>Avatar</td>\n",
       "      <td>in the 22nd century, a paraplegic marine is di...</td>\n",
       "    </tr>\n",
       "    <tr>\n",
       "      <th>1</th>\n",
       "      <td>285</td>\n",
       "      <td>Pirates of the Caribbean: At World's End</td>\n",
       "      <td>captain barbossa, long believed to be dead, ha...</td>\n",
       "    </tr>\n",
       "    <tr>\n",
       "      <th>2</th>\n",
       "      <td>206647</td>\n",
       "      <td>Spectre</td>\n",
       "      <td>a cryptic message from bond’s past sends him o...</td>\n",
       "    </tr>\n",
       "    <tr>\n",
       "      <th>3</th>\n",
       "      <td>49026</td>\n",
       "      <td>The Dark Knight Rises</td>\n",
       "      <td>following the death of district attorney harve...</td>\n",
       "    </tr>\n",
       "    <tr>\n",
       "      <th>4</th>\n",
       "      <td>49529</td>\n",
       "      <td>John Carter</td>\n",
       "      <td>john carter is a war-weary, former military ca...</td>\n",
       "    </tr>\n",
       "  </tbody>\n",
       "</table>\n",
       "</div>"
      ],
      "text/plain": [
       "   movie_id                                     title  \\\n",
       "0     19995                                    Avatar   \n",
       "1       285  Pirates of the Caribbean: At World's End   \n",
       "2    206647                                   Spectre   \n",
       "3     49026                     The Dark Knight Rises   \n",
       "4     49529                               John Carter   \n",
       "\n",
       "                                                tags  \n",
       "0  in the 22nd century, a paraplegic marine is di...  \n",
       "1  captain barbossa, long believed to be dead, ha...  \n",
       "2  a cryptic message from bond’s past sends him o...  \n",
       "3  following the death of district attorney harve...  \n",
       "4  john carter is a war-weary, former military ca...  "
      ]
     },
     "execution_count": 42,
     "metadata": {},
     "output_type": "execute_result"
    }
   ],
   "source": [
    "new_df.head()"
   ]
  },
  {
   "cell_type": "code",
   "execution_count": 43,
   "id": "af44e7bd-5e85-49ac-9a6f-3ba67a9f2100",
   "metadata": {},
   "outputs": [],
   "source": [
    "#text vectorization\n",
    "from sklearn.feature_extraction.text import CountVectorizer\n",
    "cv = CountVectorizer(max_features=5000, stop_words='english') #remove extra words"
   ]
  },
  {
   "cell_type": "code",
   "execution_count": 44,
   "id": "5d68df67-c18a-4a6b-b427-db75b0e019c0",
   "metadata": {},
   "outputs": [],
   "source": [
    "vectors = cv.fit_transform(new_df['tags']).toarray().shape #transformation of vectors"
   ]
  },
  {
   "cell_type": "code",
   "execution_count": 45,
   "id": "41a270d5-5080-4673-a39e-b073c8afbb19",
   "metadata": {},
   "outputs": [
    {
     "data": {
      "text/plain": [
       "4806"
      ]
     },
     "execution_count": 45,
     "metadata": {},
     "output_type": "execute_result"
    }
   ],
   "source": [
    "vectors[0]"
   ]
  },
  {
   "cell_type": "code",
   "execution_count": 46,
   "id": "dfca25a3-4906-4761-9851-4eb91045d154",
   "metadata": {},
   "outputs": [
    {
     "data": {
      "text/plain": [
       "array(['000', '007', '10', ..., 'zombies', 'zone', 'zoo'], dtype=object)"
      ]
     },
     "execution_count": 46,
     "metadata": {},
     "output_type": "execute_result"
    }
   ],
   "source": [
    "cv.get_feature_names_out() #remove common words"
   ]
  },
  {
   "cell_type": "code",
   "execution_count": 47,
   "id": "bd2276d3-8d22-4add-814a-c53730dab9dd",
   "metadata": {},
   "outputs": [],
   "source": [
    "import nltk #remove similar wordss eq-love,loves etc"
   ]
  },
  {
   "cell_type": "code",
   "execution_count": 48,
   "id": "fba86795-055d-4810-a17a-051dc12c5a3d",
   "metadata": {},
   "outputs": [],
   "source": [
    "from nltk.stem.porter import PorterStemmer\n",
    "ps= PorterStemmer()"
   ]
  },
  {
   "cell_type": "code",
   "execution_count": 49,
   "id": "389c6391-741e-46be-a191-51c4ed18fcaf",
   "metadata": {},
   "outputs": [],
   "source": [
    "def stem(text):\n",
    "    y = [] \n",
    "    for word in text.split():\n",
    "        y.append(ps.stem(word))   # stem each word and add to list\n",
    "    return \" \".join(y)            # join back into a string"
   ]
  },
  {
   "cell_type": "code",
   "execution_count": 50,
   "id": "ca1b40df-3605-47eb-a779-597cc4a098f9",
   "metadata": {},
   "outputs": [
    {
     "data": {
      "text/plain": [
       "'love'"
      ]
     },
     "execution_count": 50,
     "metadata": {},
     "output_type": "execute_result"
    }
   ],
   "source": [
    "ps.stem('loving')"
   ]
  },
  {
   "cell_type": "code",
   "execution_count": 51,
   "id": "3e017dec-696f-434d-b412-a5a287fb2b7b",
   "metadata": {},
   "outputs": [
    {
     "data": {
      "text/plain": [
       "'in the 22nd century, a parapleg marin is dispatch to the moon pandora on a uniqu mission, but becom torn between follow order and protect an alien civilization. action adventur fantasi sciencefict samworthington zoesaldana sigourneyweav jamescameron'"
      ]
     },
     "execution_count": 51,
     "metadata": {},
     "output_type": "execute_result"
    }
   ],
   "source": [
    "stem('in the 22nd century, a paraplegic marine is dispatched to the moon pandora on a unique mission, but becomes torn between following orders and protecting an alien civilization. action adventure fantasy sciencefiction samworthington zoesaldana sigourneyweaver jamescameron')"
   ]
  },
  {
   "cell_type": "code",
   "execution_count": 52,
   "id": "5a3f2aa9-a2d3-4251-8882-1bf5930b8e54",
   "metadata": {},
   "outputs": [],
   "source": [
    "new_df['tags']= new_df['tags'].apply(stem)"
   ]
  },
  {
   "cell_type": "code",
   "execution_count": 53,
   "id": "b23eac0c-ae12-4151-aae1-66e5a1e123f9",
   "metadata": {},
   "outputs": [
    {
     "data": {
      "text/plain": [
       "array(['000', '007', '10', ..., 'zombies', 'zone', 'zoo'], dtype=object)"
      ]
     },
     "execution_count": 53,
     "metadata": {},
     "output_type": "execute_result"
    }
   ],
   "source": [
    "cv.get_feature_names_out() #removed common words"
   ]
  },
  {
   "cell_type": "code",
   "execution_count": 54,
   "id": "bd2be598-3874-4597-a3e0-f826dbea1fbf",
   "metadata": {},
   "outputs": [],
   "source": [
    "from sklearn.metrics.pairwise  import cosine_similarity"
   ]
  },
  {
   "cell_type": "code",
   "execution_count": 55,
   "id": "6cd62c46-2e20-4ffd-9a2e-e2ec64494cb4",
   "metadata": {},
   "outputs": [
    {
     "name": "stdout",
     "output_type": "stream",
     "text": [
      "(4806, 4806)\n"
     ]
    }
   ],
   "source": [
    "vectors = cv.fit_transform(new_df['tags']).toarray()  # keep the matrix\n",
    "similarity = cosine_similarity(vectors)              # now it works\n",
    "print(similarity.shape)                              # should be (4806, 4806)"
   ]
  },
  {
   "cell_type": "code",
   "execution_count": 56,
   "id": "e2422e98-1c47-4a30-92ea-024f8cdc51b1",
   "metadata": {},
   "outputs": [
    {
     "data": {
      "text/plain": [
       "[(3081, np.float64(0.2449489742783178)),\n",
       " (529, np.float64(0.23904572186687872)),\n",
       " (3606, np.float64(0.23624976928744731)),\n",
       " (1214, np.float64(0.17407765595569782)),\n",
       " (778, np.float64(0.1732050807568877))]"
      ]
     },
     "execution_count": 56,
     "metadata": {},
     "output_type": "execute_result"
    }
   ],
   "source": [
    "sorted(list(enumerate(similarity[0])), reverse=True, key=lambda x:x[1])[1:6]"
   ]
  },
  {
   "cell_type": "code",
   "execution_count": 57,
   "id": "a9376c42-0679-41e3-8063-28799ae05a7f",
   "metadata": {},
   "outputs": [
    {
     "data": {
      "text/plain": [
       "[('Bucky Larson: Born to Be a Star', 0.245),\n",
       " ('Tears of the Sun', 0.239),\n",
       " ('Apollo 18', 0.236),\n",
       " ('Aliens vs Predator: Requiem', 0.174),\n",
       " ('Meet Dave', 0.173)]"
      ]
     },
     "execution_count": 57,
     "metadata": {},
     "output_type": "execute_result"
    }
   ],
   "source": [
    "def recommendation(movie, n=5):\n",
    "    idx = new_df.index[new_df['title'].str.casefold() == movie.casefold()]\n",
    "    if len(idx) == 0:\n",
    "        return []\n",
    "    movie_index = int(idx[0])\n",
    "    distances = similarity[movie_index]\n",
    "    movie_list = sorted(enumerate(distances), key=lambda x: x[1], reverse=True)\n",
    "    top = [(i, s) for i, s in movie_list if i != movie_index][:n]\n",
    "    return [(new_df.iloc[i].title, round(float(s), 3)) for i, s in top]\n",
    "\n",
    "recommendation('Avatar')\n"
   ]
  },
  {
   "cell_type": "code",
   "execution_count": 58,
   "id": "2081aad7-c482-49d5-8433-beff175057de",
   "metadata": {},
   "outputs": [
    {
     "data": {
      "text/plain": [
       "[('Bucky Larson: Born to Be a Star', 0.245),\n",
       " ('Tears of the Sun', 0.239),\n",
       " ('Apollo 18', 0.236),\n",
       " ('Aliens vs Predator: Requiem', 0.174),\n",
       " ('Meet Dave', 0.173)]"
      ]
     },
     "execution_count": 58,
     "metadata": {},
     "output_type": "execute_result"
    }
   ],
   "source": [
    "recommendation('Avatar')"
   ]
  },
  {
   "cell_type": "code",
   "execution_count": 59,
   "id": "cb0e44b5-077f-4d02-a824-0f7041d4cc67",
   "metadata": {},
   "outputs": [
    {
     "data": {
      "text/plain": [
       "'Autumn in New York'"
      ]
     },
     "execution_count": 59,
     "metadata": {},
     "output_type": "execute_result"
    }
   ],
   "source": [
    "new_df.iloc[1216].title"
   ]
  },
  {
   "cell_type": "code",
   "execution_count": 60,
   "id": "d6ca6a2c-136c-44cd-b302-e98194226dbd",
   "metadata": {},
   "outputs": [],
   "source": [
    "import pickle"
   ]
  },
  {
   "cell_type": "code",
   "execution_count": 61,
   "id": "e69e84cf-2c54-4d75-a815-ba620018c172",
   "metadata": {},
   "outputs": [],
   "source": [
    "pickle.dump(new_df,open('movies.pkl','wb')) #not use as dict mai save karna tha"
   ]
  },
  {
   "cell_type": "code",
   "execution_count": 62,
   "id": "bd97e63a-513c-437b-907c-998658386e22",
   "metadata": {
    "scrolled": true
   },
   "outputs": [],
   "source": [
    "pickle.dump(new_df.to_dict(),open('movie.pkl','wb'))"
   ]
  },
  {
   "cell_type": "code",
   "execution_count": 63,
   "id": "1c4309ac-2b9b-46e0-aa66-79f91cc8eeb4",
   "metadata": {},
   "outputs": [],
   "source": [
    "pickle.dump(similarity,open('similarity.pkl','wb'))"
   ]
  },
  {
   "cell_type": "code",
   "execution_count": null,
   "id": "072e2ab5-89ee-4d4b-8cb9-437a2648fe22",
   "metadata": {},
   "outputs": [],
   "source": []
  },
  {
   "cell_type": "code",
   "execution_count": null,
   "id": "15871536-9423-437f-858a-b1c3b7c52bff",
   "metadata": {},
   "outputs": [],
   "source": []
  },
  {
   "cell_type": "code",
   "execution_count": null,
   "id": "817a7598-8056-4301-8bcf-f39ba94e6cdf",
   "metadata": {},
   "outputs": [],
   "source": []
  },
  {
   "cell_type": "code",
   "execution_count": null,
   "id": "3052a9b4-4d50-4326-bec8-cb7cc0776e55",
   "metadata": {},
   "outputs": [],
   "source": []
  }
 ],
 "metadata": {
  "kernelspec": {
   "display_name": "Python 3 (ipykernel)",
   "language": "python",
   "name": "python3"
  },
  "language_info": {
   "codemirror_mode": {
    "name": "ipython",
    "version": 3
   },
   "file_extension": ".py",
   "mimetype": "text/x-python",
   "name": "python",
   "nbconvert_exporter": "python",
   "pygments_lexer": "ipython3",
   "version": "3.10.0"
  }
 },
 "nbformat": 4,
 "nbformat_minor": 5
}
